{
 "cells": [
  {
   "cell_type": "code",
   "execution_count": null,
   "id": "17c27c7e",
   "metadata": {},
   "outputs": [
    {
     "name": "stdout",
     "output_type": "stream",
     "text": [
      "--- Starting Lane Deviation Prediction on Unseen Data ---\n",
      "✅ Successfully loaded model from: trained_model\\svr_deviation_model.joblib\n",
      "✅ Successfully loaded scaler from: trained_model\\feature_scaler.joblib\n",
      "Found 1291 unseen images.\n",
      "Press 'q' to quit, 'd' or Right Arrow for next image, 'a' or Left Arrow for previous.\n",
      "\n",
      "Processing 00420478.png: NO LINE DETECTED (No Prediction)\n",
      "\n",
      "Processing 00420523.png: NO LINE DETECTED (No Prediction)\n",
      "\n",
      "Processing 00420564.png: NO LINE DETECTED (No Prediction)\n",
      "\n",
      "Processing 00420604.png: NO LINE DETECTED (No Prediction)\n",
      "\n",
      "Processing 00420644.png: NO LINE DETECTED (No Prediction)\n",
      "\n",
      "Processing 00420684.png: NO LINE DETECTED (No Prediction)\n",
      "\n",
      "Processing 00420725.png: NO LINE DETECTED (No Prediction)\n"
     ]
    },
    {
     "name": "stderr",
     "output_type": "stream",
     "text": [
      "c:\\Users\\BCI-Lab\\.conda\\envs\\openCV\\lib\\site-packages\\sklearn\\utils\\validation.py:2739: UserWarning: X does not have valid feature names, but StandardScaler was fitted with feature names\n",
      "  warnings.warn(\n",
      "c:\\Users\\BCI-Lab\\.conda\\envs\\openCV\\lib\\site-packages\\sklearn\\utils\\validation.py:2739: UserWarning: X does not have valid feature names, but StandardScaler was fitted with feature names\n",
      "  warnings.warn(\n"
     ]
    },
    {
     "name": "stdout",
     "output_type": "stream",
     "text": [
      "\n",
      "Processing 00420765.png: Predicted Deviation: -0.7099\n",
      "\n",
      "Processing 00420803.png: Predicted Deviation: -0.4208\n"
     ]
    },
    {
     "name": "stderr",
     "output_type": "stream",
     "text": [
      "c:\\Users\\BCI-Lab\\.conda\\envs\\openCV\\lib\\site-packages\\sklearn\\utils\\validation.py:2739: UserWarning: X does not have valid feature names, but StandardScaler was fitted with feature names\n",
      "  warnings.warn(\n"
     ]
    },
    {
     "name": "stdout",
     "output_type": "stream",
     "text": [
      "\n",
      "Processing 00420841.png: Predicted Deviation: -0.2531\n"
     ]
    },
    {
     "name": "stderr",
     "output_type": "stream",
     "text": [
      "c:\\Users\\BCI-Lab\\.conda\\envs\\openCV\\lib\\site-packages\\sklearn\\utils\\validation.py:2739: UserWarning: X does not have valid feature names, but StandardScaler was fitted with feature names\n",
      "  warnings.warn(\n"
     ]
    },
    {
     "name": "stdout",
     "output_type": "stream",
     "text": [
      "\n",
      "Processing 00420878.png: Predicted Deviation: -0.2555\n"
     ]
    },
    {
     "name": "stderr",
     "output_type": "stream",
     "text": [
      "c:\\Users\\BCI-Lab\\.conda\\envs\\openCV\\lib\\site-packages\\sklearn\\utils\\validation.py:2739: UserWarning: X does not have valid feature names, but StandardScaler was fitted with feature names\n",
      "  warnings.warn(\n"
     ]
    },
    {
     "name": "stdout",
     "output_type": "stream",
     "text": [
      "\n",
      "Processing 00420915.png: Predicted Deviation: 0.6949\n"
     ]
    },
    {
     "name": "stderr",
     "output_type": "stream",
     "text": [
      "c:\\Users\\BCI-Lab\\.conda\\envs\\openCV\\lib\\site-packages\\sklearn\\utils\\validation.py:2739: UserWarning: X does not have valid feature names, but StandardScaler was fitted with feature names\n",
      "  warnings.warn(\n"
     ]
    },
    {
     "name": "stdout",
     "output_type": "stream",
     "text": [
      "\n",
      "Processing 00420952.png: Predicted Deviation: -0.5973\n"
     ]
    },
    {
     "name": "stderr",
     "output_type": "stream",
     "text": [
      "c:\\Users\\BCI-Lab\\.conda\\envs\\openCV\\lib\\site-packages\\sklearn\\utils\\validation.py:2739: UserWarning: X does not have valid feature names, but StandardScaler was fitted with feature names\n",
      "  warnings.warn(\n"
     ]
    },
    {
     "name": "stdout",
     "output_type": "stream",
     "text": [
      "\n",
      "Processing 00420989.png: Predicted Deviation: -0.2352\n"
     ]
    },
    {
     "name": "stderr",
     "output_type": "stream",
     "text": [
      "c:\\Users\\BCI-Lab\\.conda\\envs\\openCV\\lib\\site-packages\\sklearn\\utils\\validation.py:2739: UserWarning: X does not have valid feature names, but StandardScaler was fitted with feature names\n",
      "  warnings.warn(\n"
     ]
    },
    {
     "name": "stdout",
     "output_type": "stream",
     "text": [
      "\n",
      "Processing 00421026.png: Predicted Deviation: -0.4235\n"
     ]
    },
    {
     "name": "stderr",
     "output_type": "stream",
     "text": [
      "c:\\Users\\BCI-Lab\\.conda\\envs\\openCV\\lib\\site-packages\\sklearn\\utils\\validation.py:2739: UserWarning: X does not have valid feature names, but StandardScaler was fitted with feature names\n",
      "  warnings.warn(\n"
     ]
    },
    {
     "name": "stdout",
     "output_type": "stream",
     "text": [
      "\n",
      "Processing 00421063.png: Predicted Deviation: -0.3748\n",
      "\n",
      "Processing 00421100.png: NO LINE DETECTED (No Prediction)\n"
     ]
    },
    {
     "name": "stderr",
     "output_type": "stream",
     "text": [
      "c:\\Users\\BCI-Lab\\.conda\\envs\\openCV\\lib\\site-packages\\sklearn\\utils\\validation.py:2739: UserWarning: X does not have valid feature names, but StandardScaler was fitted with feature names\n",
      "  warnings.warn(\n"
     ]
    },
    {
     "name": "stdout",
     "output_type": "stream",
     "text": [
      "\n",
      "Processing 00421137.png: Predicted Deviation: -0.3715\n"
     ]
    },
    {
     "name": "stderr",
     "output_type": "stream",
     "text": [
      "c:\\Users\\BCI-Lab\\.conda\\envs\\openCV\\lib\\site-packages\\sklearn\\utils\\validation.py:2739: UserWarning: X does not have valid feature names, but StandardScaler was fitted with feature names\n",
      "  warnings.warn(\n"
     ]
    },
    {
     "name": "stdout",
     "output_type": "stream",
     "text": [
      "\n",
      "Processing 00421175.png: Predicted Deviation: -0.2601\n",
      "\n",
      "Processing 00421214.png: NO LINE DETECTED (No Prediction)\n"
     ]
    },
    {
     "name": "stderr",
     "output_type": "stream",
     "text": [
      "c:\\Users\\BCI-Lab\\.conda\\envs\\openCV\\lib\\site-packages\\sklearn\\utils\\validation.py:2739: UserWarning: X does not have valid feature names, but StandardScaler was fitted with feature names\n",
      "  warnings.warn(\n"
     ]
    },
    {
     "name": "stdout",
     "output_type": "stream",
     "text": [
      "\n",
      "Processing 00421255.png: Predicted Deviation: -0.0300\n"
     ]
    },
    {
     "name": "stderr",
     "output_type": "stream",
     "text": [
      "c:\\Users\\BCI-Lab\\.conda\\envs\\openCV\\lib\\site-packages\\sklearn\\utils\\validation.py:2739: UserWarning: X does not have valid feature names, but StandardScaler was fitted with feature names\n",
      "  warnings.warn(\n"
     ]
    },
    {
     "name": "stdout",
     "output_type": "stream",
     "text": [
      "\n",
      "Processing 00421296.png: Predicted Deviation: -0.0966\n",
      "\n",
      "Processing 00421337.png: NO LINE DETECTED (No Prediction)\n"
     ]
    },
    {
     "name": "stderr",
     "output_type": "stream",
     "text": [
      "c:\\Users\\BCI-Lab\\.conda\\envs\\openCV\\lib\\site-packages\\sklearn\\utils\\validation.py:2739: UserWarning: X does not have valid feature names, but StandardScaler was fitted with feature names\n",
      "  warnings.warn(\n"
     ]
    },
    {
     "name": "stdout",
     "output_type": "stream",
     "text": [
      "\n",
      "Processing 00421296.png: Predicted Deviation: -0.0966\n"
     ]
    },
    {
     "name": "stderr",
     "output_type": "stream",
     "text": [
      "c:\\Users\\BCI-Lab\\.conda\\envs\\openCV\\lib\\site-packages\\sklearn\\utils\\validation.py:2739: UserWarning: X does not have valid feature names, but StandardScaler was fitted with feature names\n",
      "  warnings.warn(\n"
     ]
    },
    {
     "name": "stdout",
     "output_type": "stream",
     "text": [
      "\n",
      "Processing 00421255.png: Predicted Deviation: -0.0300\n"
     ]
    },
    {
     "name": "stderr",
     "output_type": "stream",
     "text": [
      "c:\\Users\\BCI-Lab\\.conda\\envs\\openCV\\lib\\site-packages\\sklearn\\utils\\validation.py:2739: UserWarning: X does not have valid feature names, but StandardScaler was fitted with feature names\n",
      "  warnings.warn(\n"
     ]
    },
    {
     "name": "stdout",
     "output_type": "stream",
     "text": [
      "\n",
      "Processing 00421296.png: Predicted Deviation: -0.0966\n",
      "\n",
      "Processing 00421337.png: NO LINE DETECTED (No Prediction)\n"
     ]
    },
    {
     "name": "stderr",
     "output_type": "stream",
     "text": [
      "c:\\Users\\BCI-Lab\\.conda\\envs\\openCV\\lib\\site-packages\\sklearn\\utils\\validation.py:2739: UserWarning: X does not have valid feature names, but StandardScaler was fitted with feature names\n",
      "  warnings.warn(\n"
     ]
    },
    {
     "name": "stdout",
     "output_type": "stream",
     "text": [
      "\n",
      "Processing 00421379.png: Predicted Deviation: 0.0387\n"
     ]
    },
    {
     "name": "stderr",
     "output_type": "stream",
     "text": [
      "c:\\Users\\BCI-Lab\\.conda\\envs\\openCV\\lib\\site-packages\\sklearn\\utils\\validation.py:2739: UserWarning: X does not have valid feature names, but StandardScaler was fitted with feature names\n",
      "  warnings.warn(\n"
     ]
    },
    {
     "name": "stdout",
     "output_type": "stream",
     "text": [
      "\n",
      "Processing 00421420.png: Predicted Deviation: -0.1720\n"
     ]
    },
    {
     "name": "stderr",
     "output_type": "stream",
     "text": [
      "c:\\Users\\BCI-Lab\\.conda\\envs\\openCV\\lib\\site-packages\\sklearn\\utils\\validation.py:2739: UserWarning: X does not have valid feature names, but StandardScaler was fitted with feature names\n",
      "  warnings.warn(\n"
     ]
    },
    {
     "name": "stdout",
     "output_type": "stream",
     "text": [
      "\n",
      "Processing 00421461.png: Predicted Deviation: -0.0777\n"
     ]
    },
    {
     "name": "stderr",
     "output_type": "stream",
     "text": [
      "c:\\Users\\BCI-Lab\\.conda\\envs\\openCV\\lib\\site-packages\\sklearn\\utils\\validation.py:2739: UserWarning: X does not have valid feature names, but StandardScaler was fitted with feature names\n",
      "  warnings.warn(\n"
     ]
    },
    {
     "name": "stdout",
     "output_type": "stream",
     "text": [
      "\n",
      "Processing 00421502.png: Predicted Deviation: 0.0012\n"
     ]
    },
    {
     "name": "stderr",
     "output_type": "stream",
     "text": [
      "c:\\Users\\BCI-Lab\\.conda\\envs\\openCV\\lib\\site-packages\\sklearn\\utils\\validation.py:2739: UserWarning: X does not have valid feature names, but StandardScaler was fitted with feature names\n",
      "  warnings.warn(\n"
     ]
    },
    {
     "name": "stdout",
     "output_type": "stream",
     "text": [
      "\n",
      "Processing 00421543.png: Predicted Deviation: 0.0101\n"
     ]
    },
    {
     "name": "stderr",
     "output_type": "stream",
     "text": [
      "c:\\Users\\BCI-Lab\\.conda\\envs\\openCV\\lib\\site-packages\\sklearn\\utils\\validation.py:2739: UserWarning: X does not have valid feature names, but StandardScaler was fitted with feature names\n",
      "  warnings.warn(\n"
     ]
    },
    {
     "name": "stdout",
     "output_type": "stream",
     "text": [
      "\n",
      "Processing 00421584.png: Predicted Deviation: 0.0334\n",
      "\n",
      "Processing 00421625.png: NO LINE DETECTED (No Prediction)\n"
     ]
    },
    {
     "name": "stderr",
     "output_type": "stream",
     "text": [
      "c:\\Users\\BCI-Lab\\.conda\\envs\\openCV\\lib\\site-packages\\sklearn\\utils\\validation.py:2739: UserWarning: X does not have valid feature names, but StandardScaler was fitted with feature names\n",
      "  warnings.warn(\n"
     ]
    },
    {
     "name": "stdout",
     "output_type": "stream",
     "text": [
      "\n",
      "Processing 00421666.png: Predicted Deviation: 0.0290\n",
      "\n",
      "Processing 00421707.png: NO LINE DETECTED (No Prediction)\n"
     ]
    },
    {
     "name": "stderr",
     "output_type": "stream",
     "text": [
      "c:\\Users\\BCI-Lab\\.conda\\envs\\openCV\\lib\\site-packages\\sklearn\\utils\\validation.py:2739: UserWarning: X does not have valid feature names, but StandardScaler was fitted with feature names\n",
      "  warnings.warn(\n"
     ]
    },
    {
     "name": "stdout",
     "output_type": "stream",
     "text": [
      "\n",
      "Processing 00421748.png: Predicted Deviation: -0.1285\n"
     ]
    },
    {
     "name": "stderr",
     "output_type": "stream",
     "text": [
      "c:\\Users\\BCI-Lab\\.conda\\envs\\openCV\\lib\\site-packages\\sklearn\\utils\\validation.py:2739: UserWarning: X does not have valid feature names, but StandardScaler was fitted with feature names\n",
      "  warnings.warn(\n"
     ]
    },
    {
     "name": "stdout",
     "output_type": "stream",
     "text": [
      "\n",
      "Processing 00421789.png: Predicted Deviation: -0.0704\n"
     ]
    },
    {
     "name": "stderr",
     "output_type": "stream",
     "text": [
      "c:\\Users\\BCI-Lab\\.conda\\envs\\openCV\\lib\\site-packages\\sklearn\\utils\\validation.py:2739: UserWarning: X does not have valid feature names, but StandardScaler was fitted with feature names\n",
      "  warnings.warn(\n"
     ]
    },
    {
     "name": "stdout",
     "output_type": "stream",
     "text": [
      "\n",
      "Processing 00421830.png: Predicted Deviation: 0.4552\n"
     ]
    },
    {
     "name": "stderr",
     "output_type": "stream",
     "text": [
      "c:\\Users\\BCI-Lab\\.conda\\envs\\openCV\\lib\\site-packages\\sklearn\\utils\\validation.py:2739: UserWarning: X does not have valid feature names, but StandardScaler was fitted with feature names\n",
      "  warnings.warn(\n"
     ]
    },
    {
     "name": "stdout",
     "output_type": "stream",
     "text": [
      "\n",
      "Processing 00421871.png: Predicted Deviation: -0.3562\n"
     ]
    },
    {
     "name": "stderr",
     "output_type": "stream",
     "text": [
      "c:\\Users\\BCI-Lab\\.conda\\envs\\openCV\\lib\\site-packages\\sklearn\\utils\\validation.py:2739: UserWarning: X does not have valid feature names, but StandardScaler was fitted with feature names\n",
      "  warnings.warn(\n"
     ]
    },
    {
     "name": "stdout",
     "output_type": "stream",
     "text": [
      "\n",
      "Processing 00421912.png: Predicted Deviation: -0.8717\n"
     ]
    },
    {
     "name": "stderr",
     "output_type": "stream",
     "text": [
      "c:\\Users\\BCI-Lab\\.conda\\envs\\openCV\\lib\\site-packages\\sklearn\\utils\\validation.py:2739: UserWarning: X does not have valid feature names, but StandardScaler was fitted with feature names\n",
      "  warnings.warn(\n"
     ]
    },
    {
     "name": "stdout",
     "output_type": "stream",
     "text": [
      "\n",
      "Processing 00421871.png: Predicted Deviation: -0.3562\n"
     ]
    },
    {
     "name": "stderr",
     "output_type": "stream",
     "text": [
      "c:\\Users\\BCI-Lab\\.conda\\envs\\openCV\\lib\\site-packages\\sklearn\\utils\\validation.py:2739: UserWarning: X does not have valid feature names, but StandardScaler was fitted with feature names\n",
      "  warnings.warn(\n"
     ]
    },
    {
     "name": "stdout",
     "output_type": "stream",
     "text": [
      "\n",
      "Processing 00421912.png: Predicted Deviation: -0.8717\n"
     ]
    },
    {
     "name": "stderr",
     "output_type": "stream",
     "text": [
      "c:\\Users\\BCI-Lab\\.conda\\envs\\openCV\\lib\\site-packages\\sklearn\\utils\\validation.py:2739: UserWarning: X does not have valid feature names, but StandardScaler was fitted with feature names\n",
      "  warnings.warn(\n"
     ]
    },
    {
     "name": "stdout",
     "output_type": "stream",
     "text": [
      "\n",
      "Processing 00421953.png: Predicted Deviation: -0.5649\n"
     ]
    },
    {
     "name": "stderr",
     "output_type": "stream",
     "text": [
      "c:\\Users\\BCI-Lab\\.conda\\envs\\openCV\\lib\\site-packages\\sklearn\\utils\\validation.py:2739: UserWarning: X does not have valid feature names, but StandardScaler was fitted with feature names\n",
      "  warnings.warn(\n"
     ]
    },
    {
     "name": "stdout",
     "output_type": "stream",
     "text": [
      "\n",
      "Processing 00421994.png: Predicted Deviation: -0.2504\n"
     ]
    },
    {
     "name": "stderr",
     "output_type": "stream",
     "text": [
      "c:\\Users\\BCI-Lab\\.conda\\envs\\openCV\\lib\\site-packages\\sklearn\\utils\\validation.py:2739: UserWarning: X does not have valid feature names, but StandardScaler was fitted with feature names\n",
      "  warnings.warn(\n"
     ]
    },
    {
     "name": "stdout",
     "output_type": "stream",
     "text": [
      "\n",
      "Processing 00422034.png: Predicted Deviation: -0.1676\n",
      "\n",
      "Processing 00422073.png: NO LINE DETECTED (No Prediction)\n"
     ]
    },
    {
     "name": "stderr",
     "output_type": "stream",
     "text": [
      "c:\\Users\\BCI-Lab\\.conda\\envs\\openCV\\lib\\site-packages\\sklearn\\utils\\validation.py:2739: UserWarning: X does not have valid feature names, but StandardScaler was fitted with feature names\n",
      "  warnings.warn(\n"
     ]
    },
    {
     "name": "stdout",
     "output_type": "stream",
     "text": [
      "\n",
      "Processing 00422112.png: Predicted Deviation: -0.4279\n"
     ]
    },
    {
     "name": "stderr",
     "output_type": "stream",
     "text": [
      "c:\\Users\\BCI-Lab\\.conda\\envs\\openCV\\lib\\site-packages\\sklearn\\utils\\validation.py:2739: UserWarning: X does not have valid feature names, but StandardScaler was fitted with feature names\n",
      "  warnings.warn(\n"
     ]
    },
    {
     "name": "stdout",
     "output_type": "stream",
     "text": [
      "\n",
      "Processing 00422150.png: Predicted Deviation: -0.4338\n"
     ]
    },
    {
     "name": "stderr",
     "output_type": "stream",
     "text": [
      "c:\\Users\\BCI-Lab\\.conda\\envs\\openCV\\lib\\site-packages\\sklearn\\utils\\validation.py:2739: UserWarning: X does not have valid feature names, but StandardScaler was fitted with feature names\n",
      "  warnings.warn(\n"
     ]
    },
    {
     "name": "stdout",
     "output_type": "stream",
     "text": [
      "\n",
      "Processing 00422187.png: Predicted Deviation: -0.0246\n"
     ]
    }
   ],
   "source": [
    "import cv2\n",
    "import numpy as np\n",
    "import os\n",
    "import math # For angle calculations\n",
    "import joblib # For loading models and scalers\n",
    "import pandas as pd # Used to define feature_columns consistently\n",
    "\n",
    "# --- Configuration: Model & Scaler Paths ---\n",
    "# IMPORTANT: These paths must point to where your trained model and scaler are saved.\n",
    "MODEL_DIR = \"trained_model\" # Directory created by train_svr_model.py\n",
    "SVR_MODEL_FILENAME = \"svr_deviation_model.joblib\"\n",
    "SCALER_FILENAME = \"feature_scaler.joblib\"\n",
    "\n",
    "# --- Configuration: Unseen Data Folder ---\n",
    "# IMPORTANT: Adjust this path to the folder containing your unseen images.\n",
    "UNSEEN_DATA_FOLDER = \"C:/Users/BCI-Lab/Downloads/teamA_dataset/_out_dataset/good_data\"\n",
    "\n",
    "# --- Configuration: Hardcoded Parameters (MUST MATCH THOSE USED FOR FEATURE EXTRACTION & TRAINING) ---\n",
    "# Copy these values EXACTLY from your 'feature_extractor.py' or 'train_svr_model.py' script.\n",
    "\n",
    "# L*a*b* Color Space Ranges for Orange Line\n",
    "# L*a*b* Color Space Ranges for Orange Line\n",
    "LOWER_L_TUNED = 147\n",
    "UPPER_L_TUNED = 221\n",
    "LOWER_A_TUNED = 135\n",
    "UPPER_A_TUNED = 157\n",
    "LOWER_B_TUNED = 135\n",
    "UPPER_B_TUNED = 161\n",
    "\n",
    "# Morphological Kernel Size for Color Mask\n",
    "COLOR_MORPH_KERNEL_SIZE_TUNED = 3\n",
    "\n",
    "# Edge Pre-processing Filter (Bilateral or Gaussian)\n",
    "USE_BILATERAL_FILTER_TUNED = 1 # 0 for Gaussian, 1 for Bilateral\n",
    "BILATERAL_D_TUNED = 6\n",
    "BILATERAL_SIGMA_COLOR_TUNED = 7\n",
    "BILATERAL_SIGMA_SPACE_TUNED = 200\n",
    "\n",
    "# Canny Edge Detector Thresholds\n",
    "CANNY_THRESH1_TUNED = 3\n",
    "CANNY_THRESH2_TUNED = 93\n",
    "\n",
    "# Morphological Kernel Size for Edge Mask\n",
    "EDGE_MORPH_KERNEL_SIZE_TUNED = 25\n",
    "\n",
    "# Hough Line Transform Parameters\n",
    "HOUGH_THRESHOLD_TUNED =15\n",
    "HOUGH_MIN_LENGTH_TUNED =160\n",
    "HOUGH_MAX_GAP_TUNED = 45\n",
    "\n",
    "# Line Filtering Parameters (based on angle)\n",
    "MAX_LINE_ANGLE_DEG_TUNED = 88 # Maximum allowed deviation from horizontal (0 or 180 degrees)\n",
    "\n",
    "# Image Cropping Parameter\n",
    "CROP_PERCENT_FROM_TOP_TUNED = 57 # Percentage of image height to crop from the top\n",
    "\n",
    "# --- Helper Function to Load Model and Scaler ---\n",
    "def load_model_and_scaler(model_dir, model_name, scaler_name):\n",
    "    \"\"\"Loads the pre-trained SVR model and StandardScaler.\"\"\"\n",
    "    try:\n",
    "        model_path = os.path.join(model_dir, model_name)\n",
    "        scaler_path = os.path.join(model_dir, scaler_name)\n",
    "        \n",
    "        loaded_model = joblib.load(model_path)\n",
    "        loaded_scaler = joblib.load(scaler_path)\n",
    "        print(f\"✅ Successfully loaded model from: {model_path}\")\n",
    "        print(f\"✅ Successfully loaded scaler from: {scaler_path}\")\n",
    "        return loaded_model, loaded_scaler\n",
    "    except FileNotFoundError as e:\n",
    "        print(f\"ERROR: Model or scaler file not found. Ensure '{model_dir}' exists and contains '{model_name}' and '{scaler_name}'.\")\n",
    "        print(f\"Details: {e}\")\n",
    "        exit()\n",
    "    except Exception as e:\n",
    "        print(f\"ERROR: An error occurred while loading the model or scaler: {e}\")\n",
    "        exit()\n",
    "\n",
    "# --- Feature Columns (MUST BE IN THE EXACT SAME ORDER AS USED FOR TRAINING) ---\n",
    "# This list must precisely match the 'feature_columns' in your train_svr_model.py script.\n",
    "FEATURE_COLUMNS = [\n",
    "    'is_line_detected',\n",
    "    'centroid_x_cropped',\n",
    "    'centroid_y_cropped',\n",
    "    'num_line_segments',\n",
    "    'total_line_pixel_length',\n",
    "    'avg_line_angle_deg',\n",
    "    'std_line_angle_deg',\n",
    "    'min_line_y_cropped',\n",
    "    'max_line_y_cropped',\n",
    "    'fitted_line_slope_deg',\n",
    "    'fitted_line_x_intercept_at_bottom_cropped',\n",
    "    'fitted_line_x_intercept_at_top_cropped'\n",
    "]\n",
    "\n",
    "\n",
    "# --- Function to Extract Features from a Single Image (Identical to training logic) ---\n",
    "def extract_features_for_prediction(image, params):\n",
    "    \"\"\"\n",
    "    Processes a single image to detect the orange lane line and extract relevant features.\n",
    "    This function is identical to the one used during feature extraction for training.\n",
    "    \"\"\"\n",
    "    \n",
    "    # Initialize all features with default values\n",
    "    features_dict = {\n",
    "        \"is_line_detected\": 0,\n",
    "        \"centroid_x_cropped\": -1.0,\n",
    "        \"centroid_y_cropped\": -1.0,\n",
    "        \"num_line_segments\": 0,\n",
    "        \"total_line_pixel_length\": 0.0,\n",
    "        \"avg_line_angle_deg\": 0.0,\n",
    "        \"std_line_angle_deg\": 0.0,\n",
    "        \"min_line_y_cropped\": -1.0,\n",
    "        \"max_line_y_cropped\": -1.0,\n",
    "        \"fitted_line_slope_deg\": 0.0,\n",
    "        \"fitted_line_x_intercept_at_bottom_cropped\": -1.0,\n",
    "        \"fitted_line_x_intercept_at_top_cropped\": -1.0,\n",
    "    }\n",
    "\n",
    "    # Store a copy of the original image for drawing annotations later\n",
    "    annotated_image = image.copy()\n",
    "    original_h, original_w, _ = image.shape\n",
    "    center_x_full_image = original_w // 2\n",
    "\n",
    "    # --- 1. Crop from top ---\n",
    "    crop_y = int(original_h * params[\"crop_percent_from_top\"] / 100)\n",
    "    if crop_y >= original_h:\n",
    "        crop_y = original_h - 1 # Ensure crop_y is within bounds\n",
    "    cropped_image = image[crop_y:, :].copy()\n",
    "    cropped_h, cropped_w, _ = cropped_image.shape\n",
    "\n",
    "    # --- 2. Color Masking (L*a*b*) ---\n",
    "    lab_cropped = cv2.cvtColor(cropped_image, cv2.COLOR_BGR2LAB)\n",
    "    l_channel, a_channel, b_channel = cv2.split(lab_cropped)\n",
    "    \n",
    "    clahe = cv2.createCLAHE(clipLimit=3.0, tileGridSize=(8, 8))\n",
    "    l_eq = clahe.apply(l_channel)\n",
    "    lab_eq = cv2.merge([l_eq, a_channel, b_channel])\n",
    "    \n",
    "    blurred_lab_eq = cv2.medianBlur(lab_eq, 5) \n",
    "\n",
    "    lower_orange_lab = np.array([params[\"lower_l\"], params[\"lower_a\"], params[\"lower_b\"]])\n",
    "    upper_orange_lab = np.array([params[\"upper_l\"], params[\"upper_a\"], params[\"upper_b\"]])\n",
    "    color_mask = cv2.inRange(blurred_lab_eq, lower_orange_lab, upper_orange_lab)\n",
    "\n",
    "    # --- 3. Morphological Operations on Color Mask ---\n",
    "    color_morph_kernel = np.ones((params[\"color_morph_kernel_size\"], params[\"color_morph_kernel_size\"]), np.uint8)\n",
    "    color_mask_morphed = cv2.morphologyEx(color_mask, cv2.MORPH_OPEN, color_morph_kernel, iterations=1)\n",
    "    color_mask_morphed = cv2.dilate(color_mask_morphed, color_morph_kernel, iterations=1) \n",
    "    color_mask_morphed = cv2.morphologyEx(color_mask_morphed, cv2.MORPH_CLOSE, color_morph_kernel, iterations=1)\n",
    "    \n",
    "    # --- 4. Edge Detection (Canny) ---\n",
    "    gray_cropped = cv2.cvtColor(cropped_image, cv2.COLOR_BGR2GRAY)\n",
    "    \n",
    "    if params[\"use_bilateral_filter\"]:\n",
    "        filtered_gray = cv2.bilateralFilter(gray_cropped, params[\"bilateral_d\"], \n",
    "                                             params[\"bilateral_sigma_color\"], params[\"bilateral_sigma_space\"])\n",
    "    else:\n",
    "        filtered_gray = cv2.GaussianBlur(gray_cropped, (5, 5), 0)\n",
    "\n",
    "    edge_mask = cv2.Canny(filtered_gray, params[\"canny_thresh1\"], params[\"canny_thresh2\"])\n",
    "\n",
    "    edge_morph_kernel = np.ones((params[\"edge_morph_kernel_size\"], params[\"edge_morph_kernel_size\"]), np.uint8)\n",
    "    edge_mask_morphed = cv2.morphologyEx(edge_mask, cv2.MORPH_CLOSE, edge_morph_kernel, iterations=1)\n",
    "\n",
    "    # --- 5. Combine Color Mask and Morphed Edge Mask ---\n",
    "    final_mask = cv2.bitwise_and(color_mask_morphed, edge_mask_morphed)\n",
    "\n",
    "    # --- 6. Line Detection with Hough Transform ---\n",
    "    lines = cv2.HoughLinesP(final_mask, 1, np.pi / 180, \n",
    "                            params[\"hough_threshold\"], \n",
    "                            minLineLength=params[\"hough_min_length\"], \n",
    "                            maxLineGap=params[\"hough_max_gap\"])\n",
    "\n",
    "    # --- 7. Filter Detected Lines and Calculate Features ---\n",
    "    filtered_lines = []\n",
    "    if lines is not None:\n",
    "        for line in lines:\n",
    "            x1, y1, x2, y2 = line[0]\n",
    "            angle_rad = math.atan2(y2 - y1, x2 - x1)\n",
    "            angle_deg = math.degrees(angle_rad)\n",
    "\n",
    "            if abs(angle_deg) < params[\"max_line_angle_deg\"] or abs(angle_deg - 180) < params[\"max_line_angle_deg\"]:\n",
    "                filtered_lines.append(line[0]) # Store as flat list [x1, y1, x2, y2]\n",
    "                cv2.line(annotated_image, (x1, y1 + crop_y), (x2, y2 + crop_y), (0, 255, 0), 2) # Green lines\n",
    "\n",
    "    if filtered_lines:\n",
    "        features_dict[\"is_line_detected\"] = 1\n",
    "        all_x_coords = []\n",
    "        all_y_coords = []\n",
    "        all_line_angles = []\n",
    "        all_line_lengths = []\n",
    "\n",
    "        for line_seg in filtered_lines:\n",
    "            x1, y1, x2, y2 = line_seg\n",
    "            all_x_coords.extend([x1, x2])\n",
    "            all_y_coords.extend([y1, y2])\n",
    "\n",
    "            angle_rad = math.atan2(y2 - y1, x2 - x1)\n",
    "            all_line_angles.append(math.degrees(angle_rad))\n",
    "            \n",
    "            length = math.sqrt((x2 - x1)**2 + (y2 - y1)**2)\n",
    "            all_line_lengths.append(length)\n",
    "        \n",
    "        features_dict[\"centroid_x_cropped\"] = np.mean(all_x_coords)\n",
    "        features_dict[\"centroid_y_cropped\"] = np.mean(all_y_coords)\n",
    "\n",
    "        # Deviation Score is calculated here but not used for model input, just for visual check\n",
    "        # It's our target variable, so we don't return it as a feature for prediction\n",
    "        # If the centroid_x_cropped is needed for some other purpose, keep it.\n",
    "        # deviation_score = (features_dict[\"centroid_x_cropped\"] - center_x_full_image) / center_x_full_image\n",
    "        # features_dict[\"deviation_score\"] = deviation_score # This would be ground truth, not a feature\n",
    "\n",
    "        features_dict[\"num_line_segments\"] = len(filtered_lines)\n",
    "        features_dict[\"total_line_pixel_length\"] = np.sum(all_line_lengths)\n",
    "\n",
    "        if all_line_angles:\n",
    "            features_dict[\"avg_line_angle_deg\"] = np.mean(all_line_angles)\n",
    "            if len(all_line_angles) > 1:\n",
    "                features_dict[\"std_line_angle_deg\"] = np.std(all_line_angles)\n",
    "            else:\n",
    "                features_dict[\"std_line_angle_deg\"] = 0.0\n",
    "\n",
    "        if all_y_coords:\n",
    "            features_dict[\"min_line_y_cropped\"] = np.min(all_y_coords)\n",
    "            features_dict[\"max_line_y_cropped\"] = np.max(all_y_coords)\n",
    "\n",
    "        if len(all_x_coords) > 1 and len(np.unique(all_x_coords)) > 1:\n",
    "            try:\n",
    "                slope, intercept = np.polyfit(all_x_coords, all_y_coords, 1)\n",
    "                features_dict[\"fitted_line_slope_deg\"] = math.degrees(math.atan(slope))\n",
    "\n",
    "                if slope != 0:\n",
    "                    features_dict[\"fitted_line_x_intercept_at_bottom_cropped\"] = (cropped_h - 1 - intercept) / slope\n",
    "                    features_dict[\"fitted_line_x_intercept_at_top_cropped\"] = (0 - intercept) / slope\n",
    "                else: # Horizontal line\n",
    "                    features_dict[\"fitted_line_x_intercept_at_bottom_cropped\"] = features_dict[\"centroid_x_cropped\"]\n",
    "                    features_dict[\"fitted_line_x_intercept_at_top_cropped\"] = features_dict[\"centroid_x_cropped\"]\n",
    "            except np.linalg.LinAlgError:\n",
    "                # Vertical line case\n",
    "                features_dict[\"fitted_line_slope_deg\"] = 90.0 # or -90 depending on orientation\n",
    "                features_dict[\"fitted_line_x_intercept_at_bottom_cropped\"] = features_dict[\"centroid_x_cropped\"]\n",
    "                features_dict[\"fitted_line_x_intercept_at_top_cropped\"] = features_dict[\"centroid_x_cropped\"]\n",
    "            except Exception as e:\n",
    "                print(f\"Warning: Error fitting line during prediction feature extraction: {e}\")\n",
    "\n",
    "        # Draw centroid on annotated image\n",
    "        cx_img = int(features_dict[\"centroid_x_cropped\"])\n",
    "        # Choose a representative y for the centroid for drawing (e.g., middle of the crop region)\n",
    "        cy_img = int(features_dict[\"centroid_y_cropped\"] + crop_y) \n",
    "        cv2.circle(annotated_image, (cx_img, cy_img), 6, (0, 0, 255), -1) # Red circle for the centroid\n",
    "        cv2.putText(annotated_image, f\"cx: {cx_img}\", (cx_img + 10, cy_img), cv2.FONT_HERSHEY_SIMPLEX, 0.6, (0, 0, 255), 2)\n",
    "        \n",
    "    # Draw crop zone and center line on annotated image\n",
    "    cv2.rectangle(annotated_image, (0, crop_y), (original_w, original_h), (255, 0, 255), 2)\n",
    "    cv2.line(annotated_image, (center_x_full_image, crop_y), (center_x_full_image, original_h), (0, 255, 255), 2)\n",
    "\n",
    "\n",
    "    # Convert features_dict to an ordered NumPy array based on FEATURE_COLUMNS\n",
    "    ordered_features_array = np.array([features_dict[col] for col in FEATURE_COLUMNS]).reshape(1, -1)\n",
    "    \n",
    "    return ordered_features_array, annotated_image # Return features and the image with annotations\n",
    "\n",
    "\n",
    "# --- Main Execution Block ---\n",
    "if __name__ == \"__main__\":\n",
    "    print(\"--- Starting Lane Deviation Prediction on Unseen Data ---\")\n",
    "\n",
    "    # Load the trained model and scaler\n",
    "    svr_model, scaler = load_model_and_scaler(MODEL_DIR, SVR_MODEL_FILENAME, SCALER_FILENAME)\n",
    "\n",
    "    # Compile all tuned parameters into a dictionary for easy passing\n",
    "    tuned_params = {\n",
    "        \"lower_l\": LOWER_L_TUNED, \"upper_l\": UPPER_L_TUNED, \"lower_a\": LOWER_A_TUNED, \"upper_a\": UPPER_A_TUNED,\n",
    "        \"lower_b\": LOWER_B_TUNED, \"upper_b\": UPPER_B_TUNED, \"color_morph_kernel_size\": COLOR_MORPH_KERNEL_SIZE_TUNED,\n",
    "        \"use_bilateral_filter\": USE_BILATERAL_FILTER_TUNED, \"bilateral_d\": BILATERAL_D_TUNED,\n",
    "        \"bilateral_sigma_color\": BILATERAL_SIGMA_COLOR_TUNED, \"bilateral_sigma_space\": BILATERAL_SIGMA_SPACE_TUNED,\n",
    "        \"canny_thresh1\": CANNY_THRESH1_TUNED, \"canny_thresh2\": CANNY_THRESH2_TUNED,\n",
    "        \"edge_morph_kernel_size\": EDGE_MORPH_KERNEL_SIZE_TUNED, \"hough_threshold\": HOUGH_THRESHOLD_TUNED,\n",
    "        \"hough_min_length\": HOUGH_MIN_LENGTH_TUNED, \"hough_max_gap\": HOUGH_MAX_GAP_TUNED,\n",
    "        \"max_line_angle_deg\": MAX_LINE_ANGLE_DEG_TUNED, \"crop_percent_from_top\": CROP_PERCENT_FROM_TOP_TUNED,\n",
    "    }\n",
    "\n",
    "    # Get list of unseen images\n",
    "    unseen_image_files = [f for f in os.listdir(UNSEEN_DATA_FOLDER) if f.lower().endswith((\".png\", \".jpg\", \".jpeg\", \".bmp\", \".tiff\"))]\n",
    "    if not unseen_image_files:\n",
    "        print(f\"ERROR: No images found in '{UNSEEN_DATA_FOLDER}'. Please check the path.\")\n",
    "        exit()\n",
    "\n",
    "    print(f\"Found {len(unseen_image_files)} unseen images.\")\n",
    "    print(\"Press 'q' to quit, 'd' or Right Arrow for next image, 'a' or Left Arrow for previous.\")\n",
    "\n",
    "    current_image_index = 0\n",
    "    cv2.namedWindow(\"Prediction Output\", cv2.WINDOW_NORMAL)\n",
    "    cv2.resizeWindow(\"Prediction Output\", 1280, 720) # Adjust as needed\n",
    "\n",
    "    while True:\n",
    "        filename = unseen_image_files[current_image_index]\n",
    "        image_path = os.path.join(UNSEEN_DATA_FOLDER, filename)\n",
    "\n",
    "        original_image = cv2.imread(image_path)\n",
    "        if original_image is None:\n",
    "            print(f\"❌ ERROR: Cannot read {filename}. Skipping to next.\")\n",
    "            current_image_index = (current_image_index + 1) % len(unseen_image_files)\n",
    "            continue\n",
    "\n",
    "        # 1. Extract features and get annotated image\n",
    "        raw_features_array, annotated_display_image = extract_features_for_prediction(original_image, tuned_params)\n",
    "        \n",
    "        # Get the 'is_line_detected' flag from the extracted features (it's the first element)\n",
    "        is_line_detected_flag = raw_features_array[0, FEATURE_COLUMNS.index('is_line_detected')]\n",
    "\n",
    "        predicted_deviation = float('nan') # Default\n",
    "        display_text = \"\"\n",
    "\n",
    "        if is_line_detected_flag == 1:\n",
    "            # 2. Scale the extracted features\n",
    "            scaled_features = scaler.transform(raw_features_array)\n",
    "\n",
    "            # 3. Predict deviation score\n",
    "            predicted_deviation = svr_model.predict(scaled_features)[0] # .predict returns an array, get the first element\n",
    "            display_text = f\"Predicted Deviation: {predicted_deviation:.4f}\"\n",
    "        else:\n",
    "            display_text = \"NO LINE DETECTED (No Prediction)\"\n",
    "            predicted_deviation = 0.0 # Assign a neutral value if no line, for consistency if logged\n",
    "\n",
    "        print(f\"\\nProcessing {filename}: {display_text}\")\n",
    "\n",
    "        # Add prediction text to the image\n",
    "        cv2.putText(annotated_display_image, display_text, (10, 30), cv2.FONT_HERSHEY_SIMPLEX, 0.8, (255, 255, 0), 2)\n",
    "        \n",
    "        cv2.imshow(\"Prediction Output\", annotated_display_image)\n",
    "\n",
    "        # --- Keyboard Controls ---\n",
    "        key = cv2.waitKey(0) & 0xFF # Wait indefinitely for a key press\n",
    "        if key == ord(\"q\"): # Press 'q' to quit\n",
    "            break\n",
    "        elif key in [ord(\"d\"), 83]: # Press 'd' or Right Arrow to go to the next image\n",
    "            current_image_index = (current_image_index + 1) % len(unseen_image_files)\n",
    "        elif key in [ord(\"a\"), 81]: # Press 'a' or Left Arrow to go to the previous image\n",
    "            current_image_index = (current_image_index - 1 + len(unseen_image_files)) % len(unseen_image_files)\n",
    "\n",
    "    cv2.destroyAllWindows()\n",
    "    print(\"\\n--- Prediction session ended. ---\")"
   ]
  }
 ],
 "metadata": {
  "kernelspec": {
   "display_name": "openCV",
   "language": "python",
   "name": "python3"
  },
  "language_info": {
   "codemirror_mode": {
    "name": "ipython",
    "version": 3
   },
   "file_extension": ".py",
   "mimetype": "text/x-python",
   "name": "python",
   "nbconvert_exporter": "python",
   "pygments_lexer": "ipython3",
   "version": "3.10.17"
  }
 },
 "nbformat": 4,
 "nbformat_minor": 5
}
