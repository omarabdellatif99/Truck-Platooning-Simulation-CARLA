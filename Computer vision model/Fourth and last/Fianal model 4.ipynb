{
 "cells": [
  {
   "cell_type": "code",
   "execution_count": null,
   "id": "ec8d2ed1",
   "metadata": {},
   "outputs": [
    {
     "name": "stdout",
     "output_type": "stream",
     "text": [
      "--- Starting Lane Deviation Prediction on Unseen Data ---\n",
      "✅ Successfully loaded model from: model2\\svm_lane_deviation_model.joblib\n",
      "✅ Successfully loaded scaler from: model2\\scaler_lane_deviation.joblib\n",
      "Found 1291 unseen images.\n",
      "Press 'q' to quit, 'd' or Right Arrow for next image, 'a' or Left Arrow for previous.\n",
      "\n",
      "Processing 00420478.png: NO LINE DETECTED (No Prediction)\n",
      "\n",
      "Processing 00420523.png: NO LINE DETECTED (No Prediction)\n",
      "\n",
      "Processing 00420564.png: NO LINE DETECTED (No Prediction)\n",
      "\n",
      "Processing 00420604.png: NO LINE DETECTED (No Prediction)\n",
      "\n",
      "Processing 00420644.png: NO LINE DETECTED (No Prediction)\n",
      "\n",
      "Processing 00420684.png: NO LINE DETECTED (No Prediction)\n",
      "\n",
      "Processing 00420725.png: NO LINE DETECTED (No Prediction)\n"
     ]
    },
    {
     "name": "stderr",
     "output_type": "stream",
     "text": [
      "c:\\Users\\BCI-Lab\\.conda\\envs\\openCV\\lib\\site-packages\\sklearn\\utils\\validation.py:2739: UserWarning: X does not have valid feature names, but StandardScaler was fitted with feature names\n",
      "  warnings.warn(\n"
     ]
    },
    {
     "name": "stdout",
     "output_type": "stream",
     "text": [
      "\n",
      "Processing 00420765.png: Predicted Deviation: -0.7199\n",
      "\n",
      "Processing 00420803.png: NO LINE DETECTED (No Prediction)\n",
      "\n",
      "Processing 00420841.png: NO LINE DETECTED (No Prediction)\n",
      "\n",
      "Processing 00420803.png: NO LINE DETECTED (No Prediction)\n",
      "\n",
      "Processing 00420765.png: Predicted Deviation: -0.7199\n"
     ]
    },
    {
     "name": "stderr",
     "output_type": "stream",
     "text": [
      "c:\\Users\\BCI-Lab\\.conda\\envs\\openCV\\lib\\site-packages\\sklearn\\utils\\validation.py:2739: UserWarning: X does not have valid feature names, but StandardScaler was fitted with feature names\n",
      "  warnings.warn(\n"
     ]
    },
    {
     "name": "stdout",
     "output_type": "stream",
     "text": [
      "\n",
      "Processing 00420803.png: NO LINE DETECTED (No Prediction)\n",
      "\n",
      "Processing 00420841.png: NO LINE DETECTED (No Prediction)\n"
     ]
    },
    {
     "name": "stderr",
     "output_type": "stream",
     "text": [
      "c:\\Users\\BCI-Lab\\.conda\\envs\\openCV\\lib\\site-packages\\sklearn\\utils\\validation.py:2739: UserWarning: X does not have valid feature names, but StandardScaler was fitted with feature names\n",
      "  warnings.warn(\n",
      "c:\\Users\\BCI-Lab\\.conda\\envs\\openCV\\lib\\site-packages\\sklearn\\utils\\validation.py:2739: UserWarning: X does not have valid feature names, but StandardScaler was fitted with feature names\n",
      "  warnings.warn(\n"
     ]
    },
    {
     "name": "stdout",
     "output_type": "stream",
     "text": [
      "\n",
      "Processing 00420878.png: Predicted Deviation: 0.2759\n",
      "\n",
      "Processing 00420915.png: Predicted Deviation: -0.2363\n"
     ]
    },
    {
     "name": "stderr",
     "output_type": "stream",
     "text": [
      "c:\\Users\\BCI-Lab\\.conda\\envs\\openCV\\lib\\site-packages\\sklearn\\utils\\validation.py:2739: UserWarning: X does not have valid feature names, but StandardScaler was fitted with feature names\n",
      "  warnings.warn(\n"
     ]
    },
    {
     "name": "stdout",
     "output_type": "stream",
     "text": [
      "\n",
      "Processing 00420952.png: Predicted Deviation: -0.7885\n"
     ]
    },
    {
     "name": "stderr",
     "output_type": "stream",
     "text": [
      "c:\\Users\\BCI-Lab\\.conda\\envs\\openCV\\lib\\site-packages\\sklearn\\utils\\validation.py:2739: UserWarning: X does not have valid feature names, but StandardScaler was fitted with feature names\n",
      "  warnings.warn(\n"
     ]
    },
    {
     "name": "stdout",
     "output_type": "stream",
     "text": [
      "\n",
      "Processing 00420989.png: Predicted Deviation: -0.8836\n"
     ]
    },
    {
     "name": "stderr",
     "output_type": "stream",
     "text": [
      "c:\\Users\\BCI-Lab\\.conda\\envs\\openCV\\lib\\site-packages\\sklearn\\utils\\validation.py:2739: UserWarning: X does not have valid feature names, but StandardScaler was fitted with feature names\n",
      "  warnings.warn(\n"
     ]
    },
    {
     "name": "stdout",
     "output_type": "stream",
     "text": [
      "\n",
      "Processing 00421026.png: Predicted Deviation: -0.7129\n"
     ]
    },
    {
     "name": "stderr",
     "output_type": "stream",
     "text": [
      "c:\\Users\\BCI-Lab\\.conda\\envs\\openCV\\lib\\site-packages\\sklearn\\utils\\validation.py:2739: UserWarning: X does not have valid feature names, but StandardScaler was fitted with feature names\n",
      "  warnings.warn(\n"
     ]
    },
    {
     "name": "stdout",
     "output_type": "stream",
     "text": [
      "\n",
      "Processing 00421063.png: Predicted Deviation: -0.0266\n",
      "\n",
      "Processing 00421100.png: NO LINE DETECTED (No Prediction)\n",
      "\n",
      "Processing 00421137.png: NO LINE DETECTED (No Prediction)\n"
     ]
    },
    {
     "name": "stderr",
     "output_type": "stream",
     "text": [
      "c:\\Users\\BCI-Lab\\.conda\\envs\\openCV\\lib\\site-packages\\sklearn\\utils\\validation.py:2739: UserWarning: X does not have valid feature names, but StandardScaler was fitted with feature names\n",
      "  warnings.warn(\n"
     ]
    },
    {
     "name": "stdout",
     "output_type": "stream",
     "text": [
      "\n",
      "Processing 00421175.png: Predicted Deviation: -0.3452\n"
     ]
    },
    {
     "name": "stderr",
     "output_type": "stream",
     "text": [
      "c:\\Users\\BCI-Lab\\.conda\\envs\\openCV\\lib\\site-packages\\sklearn\\utils\\validation.py:2739: UserWarning: X does not have valid feature names, but StandardScaler was fitted with feature names\n",
      "  warnings.warn(\n"
     ]
    },
    {
     "name": "stdout",
     "output_type": "stream",
     "text": [
      "\n",
      "Processing 00421214.png: Predicted Deviation: -0.1748\n"
     ]
    },
    {
     "name": "stderr",
     "output_type": "stream",
     "text": [
      "c:\\Users\\BCI-Lab\\.conda\\envs\\openCV\\lib\\site-packages\\sklearn\\utils\\validation.py:2739: UserWarning: X does not have valid feature names, but StandardScaler was fitted with feature names\n",
      "  warnings.warn(\n"
     ]
    },
    {
     "name": "stdout",
     "output_type": "stream",
     "text": [
      "\n",
      "Processing 00421255.png: Predicted Deviation: -0.1131\n"
     ]
    },
    {
     "name": "stderr",
     "output_type": "stream",
     "text": [
      "c:\\Users\\BCI-Lab\\.conda\\envs\\openCV\\lib\\site-packages\\sklearn\\utils\\validation.py:2739: UserWarning: X does not have valid feature names, but StandardScaler was fitted with feature names\n",
      "  warnings.warn(\n"
     ]
    },
    {
     "name": "stdout",
     "output_type": "stream",
     "text": [
      "\n",
      "Processing 00421296.png: Predicted Deviation: -0.2032\n"
     ]
    },
    {
     "name": "stderr",
     "output_type": "stream",
     "text": [
      "c:\\Users\\BCI-Lab\\.conda\\envs\\openCV\\lib\\site-packages\\sklearn\\utils\\validation.py:2739: UserWarning: X does not have valid feature names, but StandardScaler was fitted with feature names\n",
      "  warnings.warn(\n"
     ]
    },
    {
     "name": "stdout",
     "output_type": "stream",
     "text": [
      "\n",
      "Processing 00421337.png: Predicted Deviation: -0.3088\n"
     ]
    },
    {
     "name": "stderr",
     "output_type": "stream",
     "text": [
      "c:\\Users\\BCI-Lab\\.conda\\envs\\openCV\\lib\\site-packages\\sklearn\\utils\\validation.py:2739: UserWarning: X does not have valid feature names, but StandardScaler was fitted with feature names\n",
      "  warnings.warn(\n"
     ]
    },
    {
     "name": "stdout",
     "output_type": "stream",
     "text": [
      "\n",
      "Processing 00421379.png: Predicted Deviation: -0.1109\n"
     ]
    },
    {
     "name": "stderr",
     "output_type": "stream",
     "text": [
      "c:\\Users\\BCI-Lab\\.conda\\envs\\openCV\\lib\\site-packages\\sklearn\\utils\\validation.py:2739: UserWarning: X does not have valid feature names, but StandardScaler was fitted with feature names\n",
      "  warnings.warn(\n"
     ]
    },
    {
     "name": "stdout",
     "output_type": "stream",
     "text": [
      "\n",
      "Processing 00421420.png: Predicted Deviation: -0.2969\n"
     ]
    },
    {
     "name": "stderr",
     "output_type": "stream",
     "text": [
      "c:\\Users\\BCI-Lab\\.conda\\envs\\openCV\\lib\\site-packages\\sklearn\\utils\\validation.py:2739: UserWarning: X does not have valid feature names, but StandardScaler was fitted with feature names\n",
      "  warnings.warn(\n"
     ]
    },
    {
     "name": "stdout",
     "output_type": "stream",
     "text": [
      "\n",
      "Processing 00421461.png: Predicted Deviation: -0.0924\n"
     ]
    },
    {
     "name": "stderr",
     "output_type": "stream",
     "text": [
      "c:\\Users\\BCI-Lab\\.conda\\envs\\openCV\\lib\\site-packages\\sklearn\\utils\\validation.py:2739: UserWarning: X does not have valid feature names, but StandardScaler was fitted with feature names\n",
      "  warnings.warn(\n"
     ]
    },
    {
     "name": "stdout",
     "output_type": "stream",
     "text": [
      "\n",
      "Processing 00421502.png: Predicted Deviation: 0.0186\n"
     ]
    },
    {
     "name": "stderr",
     "output_type": "stream",
     "text": [
      "c:\\Users\\BCI-Lab\\.conda\\envs\\openCV\\lib\\site-packages\\sklearn\\utils\\validation.py:2739: UserWarning: X does not have valid feature names, but StandardScaler was fitted with feature names\n",
      "  warnings.warn(\n"
     ]
    },
    {
     "name": "stdout",
     "output_type": "stream",
     "text": [
      "\n",
      "Processing 00421543.png: Predicted Deviation: -0.0458\n"
     ]
    },
    {
     "name": "stderr",
     "output_type": "stream",
     "text": [
      "c:\\Users\\BCI-Lab\\.conda\\envs\\openCV\\lib\\site-packages\\sklearn\\utils\\validation.py:2739: UserWarning: X does not have valid feature names, but StandardScaler was fitted with feature names\n",
      "  warnings.warn(\n"
     ]
    },
    {
     "name": "stdout",
     "output_type": "stream",
     "text": [
      "\n",
      "Processing 00421584.png: Predicted Deviation: -0.0121\n"
     ]
    },
    {
     "name": "stderr",
     "output_type": "stream",
     "text": [
      "c:\\Users\\BCI-Lab\\.conda\\envs\\openCV\\lib\\site-packages\\sklearn\\utils\\validation.py:2739: UserWarning: X does not have valid feature names, but StandardScaler was fitted with feature names\n",
      "  warnings.warn(\n"
     ]
    },
    {
     "name": "stdout",
     "output_type": "stream",
     "text": [
      "\n",
      "Processing 00421625.png: Predicted Deviation: 0.0713\n"
     ]
    },
    {
     "name": "stderr",
     "output_type": "stream",
     "text": [
      "c:\\Users\\BCI-Lab\\.conda\\envs\\openCV\\lib\\site-packages\\sklearn\\utils\\validation.py:2739: UserWarning: X does not have valid feature names, but StandardScaler was fitted with feature names\n",
      "  warnings.warn(\n"
     ]
    },
    {
     "name": "stdout",
     "output_type": "stream",
     "text": [
      "\n",
      "Processing 00421666.png: Predicted Deviation: -0.0254\n",
      "\n",
      "Processing 00421707.png: NO LINE DETECTED (No Prediction)\n"
     ]
    },
    {
     "name": "stderr",
     "output_type": "stream",
     "text": [
      "c:\\Users\\BCI-Lab\\.conda\\envs\\openCV\\lib\\site-packages\\sklearn\\utils\\validation.py:2739: UserWarning: X does not have valid feature names, but StandardScaler was fitted with feature names\n",
      "  warnings.warn(\n"
     ]
    },
    {
     "name": "stdout",
     "output_type": "stream",
     "text": [
      "\n",
      "Processing 00421748.png: Predicted Deviation: -0.2122\n"
     ]
    },
    {
     "name": "stderr",
     "output_type": "stream",
     "text": [
      "c:\\Users\\BCI-Lab\\.conda\\envs\\openCV\\lib\\site-packages\\sklearn\\utils\\validation.py:2739: UserWarning: X does not have valid feature names, but StandardScaler was fitted with feature names\n",
      "  warnings.warn(\n"
     ]
    },
    {
     "name": "stdout",
     "output_type": "stream",
     "text": [
      "\n",
      "Processing 00421789.png: Predicted Deviation: -0.1920\n"
     ]
    },
    {
     "name": "stderr",
     "output_type": "stream",
     "text": [
      "c:\\Users\\BCI-Lab\\.conda\\envs\\openCV\\lib\\site-packages\\sklearn\\utils\\validation.py:2739: UserWarning: X does not have valid feature names, but StandardScaler was fitted with feature names\n",
      "  warnings.warn(\n"
     ]
    },
    {
     "name": "stdout",
     "output_type": "stream",
     "text": [
      "\n",
      "Processing 00421830.png: Predicted Deviation: -0.0016\n"
     ]
    },
    {
     "name": "stderr",
     "output_type": "stream",
     "text": [
      "c:\\Users\\BCI-Lab\\.conda\\envs\\openCV\\lib\\site-packages\\sklearn\\utils\\validation.py:2739: UserWarning: X does not have valid feature names, but StandardScaler was fitted with feature names\n",
      "  warnings.warn(\n"
     ]
    },
    {
     "name": "stdout",
     "output_type": "stream",
     "text": [
      "\n",
      "Processing 00421871.png: Predicted Deviation: -0.3318\n",
      "\n",
      "Processing 00421912.png: NO LINE DETECTED (No Prediction)\n"
     ]
    },
    {
     "name": "stderr",
     "output_type": "stream",
     "text": [
      "c:\\Users\\BCI-Lab\\.conda\\envs\\openCV\\lib\\site-packages\\sklearn\\utils\\validation.py:2739: UserWarning: X does not have valid feature names, but StandardScaler was fitted with feature names\n",
      "  warnings.warn(\n"
     ]
    },
    {
     "name": "stdout",
     "output_type": "stream",
     "text": [
      "\n",
      "Processing 00421871.png: Predicted Deviation: -0.3318\n",
      "\n",
      "Processing 00421912.png: NO LINE DETECTED (No Prediction)\n"
     ]
    },
    {
     "name": "stderr",
     "output_type": "stream",
     "text": [
      "c:\\Users\\BCI-Lab\\.conda\\envs\\openCV\\lib\\site-packages\\sklearn\\utils\\validation.py:2739: UserWarning: X does not have valid feature names, but StandardScaler was fitted with feature names\n",
      "  warnings.warn(\n"
     ]
    },
    {
     "name": "stdout",
     "output_type": "stream",
     "text": [
      "\n",
      "Processing 00421953.png: Predicted Deviation: -0.4018\n"
     ]
    },
    {
     "name": "stderr",
     "output_type": "stream",
     "text": [
      "c:\\Users\\BCI-Lab\\.conda\\envs\\openCV\\lib\\site-packages\\sklearn\\utils\\validation.py:2739: UserWarning: X does not have valid feature names, but StandardScaler was fitted with feature names\n",
      "  warnings.warn(\n"
     ]
    },
    {
     "name": "stdout",
     "output_type": "stream",
     "text": [
      "\n",
      "Processing 00421994.png: Predicted Deviation: -0.2632\n"
     ]
    },
    {
     "name": "stderr",
     "output_type": "stream",
     "text": [
      "c:\\Users\\BCI-Lab\\.conda\\envs\\openCV\\lib\\site-packages\\sklearn\\utils\\validation.py:2739: UserWarning: X does not have valid feature names, but StandardScaler was fitted with feature names\n",
      "  warnings.warn(\n"
     ]
    },
    {
     "name": "stdout",
     "output_type": "stream",
     "text": [
      "\n",
      "Processing 00422034.png: Predicted Deviation: -0.3368\n",
      "\n",
      "Processing 00422073.png: NO LINE DETECTED (No Prediction)\n",
      "\n",
      "Processing 00422112.png: NO LINE DETECTED (No Prediction)\n"
     ]
    },
    {
     "name": "stderr",
     "output_type": "stream",
     "text": [
      "c:\\Users\\BCI-Lab\\.conda\\envs\\openCV\\lib\\site-packages\\sklearn\\utils\\validation.py:2739: UserWarning: X does not have valid feature names, but StandardScaler was fitted with feature names\n",
      "  warnings.warn(\n"
     ]
    },
    {
     "name": "stdout",
     "output_type": "stream",
     "text": [
      "\n",
      "Processing 00422150.png: Predicted Deviation: -0.0727\n"
     ]
    },
    {
     "name": "stderr",
     "output_type": "stream",
     "text": [
      "c:\\Users\\BCI-Lab\\.conda\\envs\\openCV\\lib\\site-packages\\sklearn\\utils\\validation.py:2739: UserWarning: X does not have valid feature names, but StandardScaler was fitted with feature names\n",
      "  warnings.warn(\n"
     ]
    },
    {
     "name": "stdout",
     "output_type": "stream",
     "text": [
      "\n",
      "Processing 00422187.png: Predicted Deviation: -0.0396\n"
     ]
    },
    {
     "name": "stderr",
     "output_type": "stream",
     "text": [
      "c:\\Users\\BCI-Lab\\.conda\\envs\\openCV\\lib\\site-packages\\sklearn\\utils\\validation.py:2739: UserWarning: X does not have valid feature names, but StandardScaler was fitted with feature names\n",
      "  warnings.warn(\n"
     ]
    },
    {
     "name": "stdout",
     "output_type": "stream",
     "text": [
      "\n",
      "Processing 00422224.png: Predicted Deviation: -0.0168\n"
     ]
    },
    {
     "name": "stderr",
     "output_type": "stream",
     "text": [
      "c:\\Users\\BCI-Lab\\.conda\\envs\\openCV\\lib\\site-packages\\sklearn\\utils\\validation.py:2739: UserWarning: X does not have valid feature names, but StandardScaler was fitted with feature names\n",
      "  warnings.warn(\n"
     ]
    },
    {
     "name": "stdout",
     "output_type": "stream",
     "text": [
      "\n",
      "Processing 00422261.png: Predicted Deviation: 0.0788\n"
     ]
    },
    {
     "name": "stderr",
     "output_type": "stream",
     "text": [
      "c:\\Users\\BCI-Lab\\.conda\\envs\\openCV\\lib\\site-packages\\sklearn\\utils\\validation.py:2739: UserWarning: X does not have valid feature names, but StandardScaler was fitted with feature names\n",
      "  warnings.warn(\n"
     ]
    },
    {
     "name": "stdout",
     "output_type": "stream",
     "text": [
      "\n",
      "Processing 00422297.png: Predicted Deviation: -0.4058\n"
     ]
    },
    {
     "name": "stderr",
     "output_type": "stream",
     "text": [
      "c:\\Users\\BCI-Lab\\.conda\\envs\\openCV\\lib\\site-packages\\sklearn\\utils\\validation.py:2739: UserWarning: X does not have valid feature names, but StandardScaler was fitted with feature names\n",
      "  warnings.warn(\n"
     ]
    },
    {
     "name": "stdout",
     "output_type": "stream",
     "text": [
      "\n",
      "Processing 00422334.png: Predicted Deviation: 0.1141\n"
     ]
    },
    {
     "name": "stderr",
     "output_type": "stream",
     "text": [
      "c:\\Users\\BCI-Lab\\.conda\\envs\\openCV\\lib\\site-packages\\sklearn\\utils\\validation.py:2739: UserWarning: X does not have valid feature names, but StandardScaler was fitted with feature names\n",
      "  warnings.warn(\n"
     ]
    },
    {
     "name": "stdout",
     "output_type": "stream",
     "text": [
      "\n",
      "Processing 00422371.png: Predicted Deviation: -0.2615\n"
     ]
    },
    {
     "name": "stderr",
     "output_type": "stream",
     "text": [
      "c:\\Users\\BCI-Lab\\.conda\\envs\\openCV\\lib\\site-packages\\sklearn\\utils\\validation.py:2739: UserWarning: X does not have valid feature names, but StandardScaler was fitted with feature names\n",
      "  warnings.warn(\n"
     ]
    },
    {
     "name": "stdout",
     "output_type": "stream",
     "text": [
      "\n",
      "Processing 00422408.png: Predicted Deviation: 0.3359\n"
     ]
    },
    {
     "name": "stderr",
     "output_type": "stream",
     "text": [
      "c:\\Users\\BCI-Lab\\.conda\\envs\\openCV\\lib\\site-packages\\sklearn\\utils\\validation.py:2739: UserWarning: X does not have valid feature names, but StandardScaler was fitted with feature names\n",
      "  warnings.warn(\n"
     ]
    },
    {
     "name": "stdout",
     "output_type": "stream",
     "text": [
      "\n",
      "Processing 00422445.png: Predicted Deviation: 0.2452\n",
      "\n",
      "Processing 00422482.png: NO LINE DETECTED (No Prediction)\n"
     ]
    },
    {
     "name": "stderr",
     "output_type": "stream",
     "text": [
      "c:\\Users\\BCI-Lab\\.conda\\envs\\openCV\\lib\\site-packages\\sklearn\\utils\\validation.py:2739: UserWarning: X does not have valid feature names, but StandardScaler was fitted with feature names\n",
      "  warnings.warn(\n"
     ]
    },
    {
     "name": "stdout",
     "output_type": "stream",
     "text": [
      "\n",
      "Processing 00422519.png: Predicted Deviation: 0.9048\n"
     ]
    },
    {
     "name": "stderr",
     "output_type": "stream",
     "text": [
      "c:\\Users\\BCI-Lab\\.conda\\envs\\openCV\\lib\\site-packages\\sklearn\\utils\\validation.py:2739: UserWarning: X does not have valid feature names, but StandardScaler was fitted with feature names\n",
      "  warnings.warn(\n"
     ]
    },
    {
     "name": "stdout",
     "output_type": "stream",
     "text": [
      "\n",
      "Processing 00422557.png: Predicted Deviation: 0.4532\n"
     ]
    },
    {
     "name": "stderr",
     "output_type": "stream",
     "text": [
      "c:\\Users\\BCI-Lab\\.conda\\envs\\openCV\\lib\\site-packages\\sklearn\\utils\\validation.py:2739: UserWarning: X does not have valid feature names, but StandardScaler was fitted with feature names\n",
      "  warnings.warn(\n"
     ]
    },
    {
     "name": "stdout",
     "output_type": "stream",
     "text": [
      "\n",
      "Processing 00422596.png: Predicted Deviation: 0.3413\n"
     ]
    },
    {
     "name": "stderr",
     "output_type": "stream",
     "text": [
      "c:\\Users\\BCI-Lab\\.conda\\envs\\openCV\\lib\\site-packages\\sklearn\\utils\\validation.py:2739: UserWarning: X does not have valid feature names, but StandardScaler was fitted with feature names\n",
      "  warnings.warn(\n"
     ]
    },
    {
     "name": "stdout",
     "output_type": "stream",
     "text": [
      "\n",
      "Processing 00422635.png: Predicted Deviation: 0.6178\n"
     ]
    },
    {
     "name": "stderr",
     "output_type": "stream",
     "text": [
      "c:\\Users\\BCI-Lab\\.conda\\envs\\openCV\\lib\\site-packages\\sklearn\\utils\\validation.py:2739: UserWarning: X does not have valid feature names, but StandardScaler was fitted with feature names\n",
      "  warnings.warn(\n"
     ]
    },
    {
     "name": "stdout",
     "output_type": "stream",
     "text": [
      "\n",
      "Processing 00422675.png: Predicted Deviation: -0.0436\n"
     ]
    },
    {
     "name": "stderr",
     "output_type": "stream",
     "text": [
      "c:\\Users\\BCI-Lab\\.conda\\envs\\openCV\\lib\\site-packages\\sklearn\\utils\\validation.py:2739: UserWarning: X does not have valid feature names, but StandardScaler was fitted with feature names\n",
      "  warnings.warn(\n"
     ]
    },
    {
     "name": "stdout",
     "output_type": "stream",
     "text": [
      "\n",
      "Processing 00422717.png: Predicted Deviation: -0.1055\n"
     ]
    },
    {
     "name": "stderr",
     "output_type": "stream",
     "text": [
      "c:\\Users\\BCI-Lab\\.conda\\envs\\openCV\\lib\\site-packages\\sklearn\\utils\\validation.py:2739: UserWarning: X does not have valid feature names, but StandardScaler was fitted with feature names\n",
      "  warnings.warn(\n"
     ]
    },
    {
     "name": "stdout",
     "output_type": "stream",
     "text": [
      "\n",
      "Processing 00422758.png: Predicted Deviation: -0.4769\n"
     ]
    },
    {
     "name": "stderr",
     "output_type": "stream",
     "text": [
      "c:\\Users\\BCI-Lab\\.conda\\envs\\openCV\\lib\\site-packages\\sklearn\\utils\\validation.py:2739: UserWarning: X does not have valid feature names, but StandardScaler was fitted with feature names\n",
      "  warnings.warn(\n"
     ]
    },
    {
     "name": "stdout",
     "output_type": "stream",
     "text": [
      "\n",
      "Processing 00422799.png: Predicted Deviation: 0.2447\n"
     ]
    },
    {
     "name": "stderr",
     "output_type": "stream",
     "text": [
      "c:\\Users\\BCI-Lab\\.conda\\envs\\openCV\\lib\\site-packages\\sklearn\\utils\\validation.py:2739: UserWarning: X does not have valid feature names, but StandardScaler was fitted with feature names\n",
      "  warnings.warn(\n"
     ]
    },
    {
     "name": "stdout",
     "output_type": "stream",
     "text": [
      "\n",
      "Processing 00422840.png: Predicted Deviation: 0.2380\n"
     ]
    },
    {
     "name": "stderr",
     "output_type": "stream",
     "text": [
      "c:\\Users\\BCI-Lab\\.conda\\envs\\openCV\\lib\\site-packages\\sklearn\\utils\\validation.py:2739: UserWarning: X does not have valid feature names, but StandardScaler was fitted with feature names\n",
      "  warnings.warn(\n"
     ]
    },
    {
     "name": "stdout",
     "output_type": "stream",
     "text": [
      "\n",
      "Processing 00422799.png: Predicted Deviation: 0.2447\n"
     ]
    },
    {
     "name": "stderr",
     "output_type": "stream",
     "text": [
      "c:\\Users\\BCI-Lab\\.conda\\envs\\openCV\\lib\\site-packages\\sklearn\\utils\\validation.py:2739: UserWarning: X does not have valid feature names, but StandardScaler was fitted with feature names\n",
      "  warnings.warn(\n"
     ]
    },
    {
     "name": "stdout",
     "output_type": "stream",
     "text": [
      "\n",
      "Processing 00422840.png: Predicted Deviation: 0.2380\n"
     ]
    },
    {
     "name": "stderr",
     "output_type": "stream",
     "text": [
      "c:\\Users\\BCI-Lab\\.conda\\envs\\openCV\\lib\\site-packages\\sklearn\\utils\\validation.py:2739: UserWarning: X does not have valid feature names, but StandardScaler was fitted with feature names\n",
      "  warnings.warn(\n"
     ]
    },
    {
     "name": "stdout",
     "output_type": "stream",
     "text": [
      "\n",
      "Processing 00422881.png: Predicted Deviation: 0.2152\n",
      "\n",
      "Processing 00422922.png: NO LINE DETECTED (No Prediction)\n",
      "\n",
      "Processing 00422963.png: NO LINE DETECTED (No Prediction)\n",
      "\n",
      "Processing 00423003.png: NO LINE DETECTED (No Prediction)\n",
      "\n",
      "Processing 00423044.png: NO LINE DETECTED (No Prediction)\n",
      "\n",
      "Processing 00423084.png: NO LINE DETECTED (No Prediction)\n",
      "\n",
      "Processing 00423122.png: NO LINE DETECTED (No Prediction)\n",
      "\n",
      "Processing 00423161.png: NO LINE DETECTED (No Prediction)\n",
      "\n",
      "Processing 00423199.png: NO LINE DETECTED (No Prediction)\n"
     ]
    }
   ],
   "source": [
    "import cv2\n",
    "import numpy as np\n",
    "import os\n",
    "import math # For angle calculations\n",
    "import joblib # For loading models and scalers\n",
    "import pandas as pd # Used to define feature_columns consistently\n",
    "\n",
    "# --- Configuration: Model & Scaler Paths ---\n",
    "# IMPORTANT: These paths must point to where your trained model and scaler are saved.\n",
    "MODEL_DIR = \"model2\" # Directory created by train_svr_model.py\n",
    "SVR_MODEL_FILENAME = \"svm_lane_deviation_model.joblib\"\n",
    "SCALER_FILENAME = \"scaler_lane_deviation.joblib\"\n",
    "\n",
    "# --- Configuration: Unseen Data Folder ---\n",
    "# IMPORTANT: Adjust this path to the folder containing your unseen images.\n",
    "UNSEEN_DATA_FOLDER = \"C:/Users/BCI-Lab/Downloads/teamA_dataset/_out_dataset/good_data\"\n",
    "\n",
    "# --- Configuration: Hardcoded Parameters (MUST MATCH THOSE USED FOR FEATURE EXTRACTION & TRAINING) ---\n",
    "# Copy these values EXACTLY from your 'feature_extractor.py' or 'train_svr_model.py' script.\n",
    "HARDCODED_PARAMETERS = {\n",
    "    # HSV Color Space\n",
    "    \"hsv_lower\": np.array([6,62, 155]),\n",
    "    \"hsv_upper\": np.array([13, 106, 255]),\n",
    "\n",
    "    # CLAHE Parameters\n",
    "    \"clahe_clip_limit\": 93.0,\n",
    "    \"clahe_tile_grid_size\": 20,\n",
    "\n",
    "    # Processing Scale (0.01 to 1.0)\n",
    "    \"processing_scale_percent\": 1.0,\n",
    "\n",
    "    # Morphological Kernel for Color Mask\n",
    "    \"color_morph_kernel_size\": 2,\n",
    "\n",
    "    # Edge Pre-processing Filter\n",
    "    \"use_bilateral_filter\": 1,\n",
    "    \"bilateral_d\": 14,\n",
    "    \"bilateral_sigma_color\": 49,\n",
    "    \"bilateral_sigma_space\": 129,\n",
    "\n",
    "    # Canny Edge Detector Thresholds\n",
    "    \"canny_thresh1\": 36,\n",
    "    \"canny_thresh2\": 107,\n",
    "\n",
    "    # Morphological Kernel for Edge Mask\n",
    "    \"edge_morph_kernel_size\": 19,\n",
    "\n",
    "    # Hough Line Transform Parameters\n",
    "    \"hough_threshold\": 8,\n",
    "    \"hough_min_length\": 32,\n",
    "    \"hough_max_gap\": 5,\n",
    "\n",
    "    # Line Filtering Parameters\n",
    "    \"max_line_angle_deg\": 79, # Filter lines by angle (e.g., 20 degrees from horizontal)\n",
    "\n",
    "    # Image Cropping Parameters (in percentage of original image dimensions)\n",
    "    \"crop_percent_top\": 56,\n",
    "    \"crop_percent_left\": 15,\n",
    "    \"crop_percent_right\": 15,\n",
    "}\n",
    "\n",
    "\n",
    "# --- Helper Function to Load Model and Scaler ---\n",
    "def load_model_and_scaler(model_dir, model_name, scaler_name):\n",
    "    \"\"\"Loads the pre-trained SVR model and StandardScaler.\"\"\"\n",
    "    try:\n",
    "        model_path = os.path.join(model_dir, model_name)\n",
    "        scaler_path = os.path.join(model_dir, scaler_name)\n",
    "        \n",
    "        loaded_model = joblib.load(model_path)\n",
    "        loaded_scaler = joblib.load(scaler_path)\n",
    "        print(f\"✅ Successfully loaded model from: {model_path}\")\n",
    "        print(f\"✅ Successfully loaded scaler from: {scaler_path}\")\n",
    "        return loaded_model, loaded_scaler\n",
    "    except FileNotFoundError as e:\n",
    "        print(f\"ERROR: Model or scaler file not found. Ensure '{model_dir}' exists and contains '{model_name}' and '{scaler_name}'.\")\n",
    "        print(f\"Details: {e}\")\n",
    "        exit()\n",
    "    except Exception as e:\n",
    "        print(f\"ERROR: An error occurred while loading the model or scaler: {e}\")\n",
    "        exit()\n",
    "\n",
    "# --- Feature Columns (MUST BE IN THE EXACT SAME ORDER AS USED FOR TRAINING) ---\n",
    "# This list must precisely match the 'feature_columns' in your train_svr_model.py script.\n",
    "# IMPORTANT: Update these feature columns based on your new extraction logic!\n",
    "FEATURE_COLUMNS = [\n",
    "    \"lane_centroid_x_cropped_px\",\n",
    "    \"num_detected_lines\",\n",
    "    \"avg_line_slope_deg\",\n",
    "    \"avg_line_length_px\",\n",
    "    \"avg_line_x_at_bottom_px\",\n",
    "    \"avg_line_x_at_top_px\",\n",
    "    \"final_mask_white_pixels\",\n",
    "    \"final_mask_centroid_x_px\",\n",
    "    \"final_mask_centroid_y_px\",\n",
    "]\n",
    "\n",
    "\n",
    "# --- Function to Extract Features from a Single Image (Modified for new pipeline) ---\n",
    "def extract_features_for_prediction(image, params):\n",
    "    \"\"\"\n",
    "    Processes a single image to detect the orange lane line and extract relevant features\n",
    "    using the new OpenCV pipeline.\n",
    "    Returns a NumPy array of features and an annotated image.\n",
    "    \"\"\"\n",
    "    \n",
    "    original_h, original_w, _ = image.shape\n",
    "    annotated_image = image.copy()\n",
    "\n",
    "    # Initialize all features with default values\n",
    "    features_dict = {\n",
    "        \"lane_centroid_x_cropped_px\": 0.0,\n",
    "        \"num_detected_lines\": 0,\n",
    "        \"avg_line_slope_deg\": 0.0,\n",
    "        \"avg_line_length_px\": 0.0,\n",
    "        \"avg_line_x_at_bottom_px\": 0.0,\n",
    "        \"avg_line_x_at_top_px\": 0.0,\n",
    "        \"final_mask_white_pixels\": 0,\n",
    "        \"final_mask_centroid_x_px\": 0.0,\n",
    "        \"final_mask_centroid_y_px\": 0.0,\n",
    "    }\n",
    "\n",
    "    # --- 1. Apply Cropping ---\n",
    "    crop_y_start = int(original_h * params[\"crop_percent_top\"] / 100)\n",
    "    crop_x_start = int(original_w * params[\"crop_percent_left\"] / 100)\n",
    "    crop_x_end = original_w - int(original_w * params[\"crop_percent_right\"] / 100)\n",
    "    if crop_x_start >= crop_x_end: # Fallback for invalid crop\n",
    "        crop_x_start = 0\n",
    "        crop_x_end = original_w\n",
    "    if crop_y_start >= original_h: # Fallback for invalid crop\n",
    "        crop_y_start = original_h - 1\n",
    "\n",
    "    cropped_image = image[crop_y_start:original_h, crop_x_start:crop_x_end].copy()\n",
    "    cropped_h, cropped_w, _ = cropped_image.shape\n",
    "\n",
    "    # Draw crop zone on annotated image\n",
    "    cv2.rectangle(annotated_image, (crop_x_start, crop_y_start), (crop_x_end, original_h), (255, 0, 255), 2)\n",
    "    center_x_cropped_full_image = crop_x_start + (cropped_w // 2)\n",
    "    cv2.line(annotated_image, (center_x_cropped_full_image, crop_y_start), (center_x_cropped_full_image, original_h), (0, 255, 255), 2)\n",
    "\n",
    "\n",
    "    if cropped_h == 0 or cropped_w == 0:\n",
    "        print(\"Warning: Cropped image has zero height or width. Returning default features.\")\n",
    "        ordered_features_array = np.array([features_dict[col] for col in FEATURE_COLUMNS]).reshape(1, -1)\n",
    "        return ordered_features_array, annotated_image\n",
    "\n",
    "\n",
    "    # --- 2. Resize for Processing Performance ---\n",
    "    processing_width = int(cropped_w * params[\"processing_scale_percent\"])\n",
    "    processing_height = int(cropped_h * params[\"processing_scale_percent\"])\n",
    "    if processing_width < 1: processing_width = 1\n",
    "    if processing_height < 1: processing_height = 1\n",
    "\n",
    "    cropped_image_for_processing = cv2.resize(cropped_image, (processing_width, processing_height), interpolation=cv2.INTER_LINEAR)\n",
    "\n",
    "    # --- 3. Illumination Normalization (CLAHE) ---\n",
    "    hsv_image = cv2.cvtColor(cropped_image_for_processing, cv2.COLOR_BGR2HSV)\n",
    "    h, s, v = cv2.split(hsv_image)\n",
    "    \n",
    "    clahe = cv2.createCLAHE(clipLimit=params[\"clahe_clip_limit\"],\n",
    "                            tileGridSize=(params[\"clahe_tile_grid_size\"], params[\"clahe_tile_grid_size\"]))\n",
    "    v_clahe = clahe.apply(v)\n",
    "    \n",
    "    normalized_hsv = cv2.merge([h, s, v_clahe])\n",
    "    normalized_image = cv2.cvtColor(normalized_hsv, cv2.COLOR_HSV2BGR)\n",
    "\n",
    "    # --- 4. Color Masking (HSV on CLAHE-processed image) ---\n",
    "    hsv_normalized = cv2.cvtColor(normalized_image, cv2.COLOR_BGR2HSV)\n",
    "    lower_hsv = params[\"hsv_lower\"]\n",
    "    upper_hsv = params[\"hsv_upper\"]\n",
    "    color_mask = cv2.inRange(hsv_normalized, lower_hsv, upper_hsv)\n",
    "\n",
    "    # --- 5. Morphological Operations on the Color Mask ---\n",
    "    color_morph_kernel = np.ones((params[\"color_morph_kernel_size\"], params[\"color_morph_kernel_size\"]), np.uint8)\n",
    "    color_mask_morphed = cv2.morphologyEx(color_mask, cv2.MORPH_OPEN, color_morph_kernel, iterations=1)\n",
    "    color_mask_morphed = cv2.dilate(color_mask_morphed, color_morph_kernel, iterations=1)\n",
    "    color_mask_morphed = cv2.morphologyEx(color_mask_morphed, cv2.MORPH_CLOSE, color_morph_kernel, iterations=1)\n",
    "    \n",
    "    # --- 6. Edge Detection (Canny) ---\n",
    "    gray_normalized = cv2.cvtColor(normalized_image, cv2.COLOR_BGR2GRAY)\n",
    "    \n",
    "    if params[\"use_bilateral_filter\"]:\n",
    "        filtered_gray = cv2.bilateralFilter(gray_normalized, params[\"bilateral_d\"],\n",
    "                                            params[\"bilateral_sigma_color\"], params[\"bilateral_sigma_space\"])\n",
    "    else:\n",
    "        filtered_gray = cv2.GaussianBlur(gray_normalized, (5, 5), 0)\n",
    "\n",
    "    edge_mask = cv2.Canny(filtered_gray, params[\"canny_thresh1\"], params[\"canny_thresh2\"])\n",
    "    edge_morph_kernel = np.ones((params[\"edge_morph_kernel_size\"], params[\"edge_morph_kernel_size\"]), np.uint8)\n",
    "    edge_mask_morphed = cv2.morphologyEx(edge_mask, cv2.MORPH_CLOSE, edge_morph_kernel, iterations=1)\n",
    "\n",
    "    # --- 7. Combine Masks ---\n",
    "    final_mask = cv2.bitwise_and(color_mask_morphed, edge_mask_morphed)\n",
    "\n",
    "    # --- 8. Hough Line Transform ---\n",
    "    lines = cv2.HoughLinesP(final_mask, 1, np.pi / 180,\n",
    "                            params[\"hough_threshold\"],\n",
    "                            minLineLength=params[\"hough_min_length\"],\n",
    "                            maxLineGap=params[\"hough_max_gap\"])\n",
    "\n",
    "    # --- Calculate mask centroid if there are white pixels ---\n",
    "    if np.count_nonzero(final_mask) > 0:\n",
    "        features_dict[\"final_mask_white_pixels\"] = np.count_nonzero(final_mask)\n",
    "        # Find coordinates of all white pixels\n",
    "        coords = cv2.findNonZero(final_mask)\n",
    "        # Calculate centroid\n",
    "        mask_cx = int(np.mean(coords[:,:,0]))\n",
    "        mask_cy = int(np.mean(coords[:,:,1]))\n",
    "        # Scale mask centroid back to cropped_image dimensions for consistency\n",
    "        scale_x_mask = cropped_w / processing_width\n",
    "        scale_y_mask = cropped_h / processing_height\n",
    "        features_dict[\"final_mask_centroid_x_px\"] = int(mask_cx * scale_x_mask)\n",
    "        features_dict[\"final_mask_centroid_y_px\"] = int(mask_cy * scale_y_mask)\n",
    "\n",
    "        # Draw mask centroid on the annotated image (adjusted for full image coordinates)\n",
    "        mask_cx_full_image = features_dict[\"final_mask_centroid_x_px\"] + crop_x_start\n",
    "        mask_cy_full_image = features_dict[\"final_mask_centroid_y_px\"] + crop_y_start\n",
    "        cv2.circle(annotated_image, (mask_cx_full_image, mask_cy_full_image), 8, (255, 0, 0), -1) # Blue circle for mask centroid\n",
    "        cv2.putText(annotated_image, f\"Mask CX: {mask_cx_full_image}\", (mask_cx_full_image + 15, mask_cy_full_image - 5), cv2.FONT_HERSHEY_SIMPLEX, 0.5, (255, 0, 0), 2)\n",
    "\n",
    "\n",
    "    filtered_lines_data = [] # Store (x1, y1, x2, y2, angle_deg, length)\n",
    "    if lines is not None:\n",
    "        # Scale coordinates back to original cropped_image dimensions\n",
    "        scale_x_line = cropped_w / processing_width\n",
    "        scale_y_line = cropped_h / processing_height\n",
    "        \n",
    "        for line in lines:\n",
    "            x1_scaled, y1_scaled, x2_scaled, y2_scaled = line[0]\n",
    "            \n",
    "            x1 = int(x1_scaled * scale_x_line)\n",
    "            y1 = int(y1_scaled * scale_y_line)\n",
    "            x2 = int(x2_scaled * scale_x_line)\n",
    "            y2 = int(y2_scaled * scale_y_line)\n",
    "\n",
    "            # Ensure no division by zero for angle calculation\n",
    "            if (x2 - x1) == 0 and (y2 - y1) == 0:\n",
    "                angle_deg = 0.0\n",
    "            else:\n",
    "                angle_rad = math.atan2(y2 - y1, x2 - x1)\n",
    "                angle_deg = math.degrees(angle_rad)\n",
    "            \n",
    "            length = math.sqrt((x2 - x1)**2 + (y2 - y1)**2)\n",
    "\n",
    "            # Original angle filtering logic (keeping lines close to horizontal)\n",
    "            if (abs(angle_deg) < params[\"max_line_angle_deg\"] or\n",
    "                abs(angle_deg - 180) < params[\"max_line_angle_deg\"] or\n",
    "                abs(angle_deg + 180) < params[\"max_line_angle_deg\"]):\n",
    "                filtered_lines_data.append((x1, y1, x2, y2, angle_deg, length))\n",
    "                # Draw filtered lines on the annotated image (adjusted for full image coordinates)\n",
    "                cv2.line(annotated_image, \n",
    "                         (x1 + crop_x_start, y1 + crop_y_start), \n",
    "                         (x2 + crop_x_start, y2 + crop_y_start), \n",
    "                         (0, 255, 0), 2) # Green lines\n",
    "\n",
    "    if filtered_lines_data:\n",
    "        features_dict[\"num_detected_lines\"] = len(filtered_lines_data)\n",
    "        \n",
    "        all_midpoints_x = []\n",
    "        all_angles = []\n",
    "        all_lengths = []\n",
    "        all_bottom_xs = [] # X-coordinate at y=cropped_h-1\n",
    "        all_top_xs = []    # X-coordinate at y=0\n",
    "\n",
    "        for x1, y1, x2, y2, angle_deg, length in filtered_lines_data:\n",
    "            all_midpoints_x.append((x1 + x2) // 2)\n",
    "            all_angles.append(angle_deg)\n",
    "            all_lengths.append(length)\n",
    "\n",
    "            # Calculate X-coordinate at the bottom (cropped_h-1) and top (0) of the cropped image\n",
    "            if abs(x2 - x1) > 0.1: # Not a perfectly vertical line (avoid div by zero)\n",
    "                slope = (y2 - y1) / (x2 - x1)\n",
    "                if abs(slope) > 1e-6: # Avoid division by zero for horizontal lines\n",
    "                    # X at bottom (y=cropped_h-1)\n",
    "                    x_at_bottom = ((cropped_h - 1) - y1) / slope + x1\n",
    "                    all_bottom_xs.append(x_at_bottom)\n",
    "\n",
    "                    # X at top (y=0)\n",
    "                    x_at_top = (0 - y1) / slope + x1\n",
    "                    all_top_xs.append(x_at_top)\n",
    "                else: # Nearly horizontal line, use average X\n",
    "                    avg_x = (x1 + x2) / 2\n",
    "                    all_bottom_xs.append(avg_x)\n",
    "                    all_top_xs.append(avg_x)\n",
    "            else: # Vertical line\n",
    "                all_bottom_xs.append(x1) # For vertical line, x is constant\n",
    "                all_top_xs.append(x1)\n",
    "\n",
    "        features_dict[\"lane_centroid_x_cropped_px\"] = float(np.mean(all_midpoints_x))\n",
    "        features_dict[\"avg_line_slope_deg\"] = float(np.mean(all_angles))\n",
    "        features_dict[\"avg_line_length_px\"] = float(np.mean(all_lengths))\n",
    "        \n",
    "        if all_bottom_xs:\n",
    "            features_dict[\"avg_line_x_at_bottom_px\"] = float(np.mean(all_bottom_xs))\n",
    "        if all_top_xs:\n",
    "            features_dict[\"avg_line_x_at_top_px\"] = float(np.mean(all_top_xs))\n",
    "\n",
    "        # Draw centroid of filtered lines on annotated image\n",
    "        cx_lines_full_image = int(features_dict[\"lane_centroid_x_cropped_px\"]) + crop_x_start\n",
    "        # Use the middle of the cropped region for Y, or adjust as needed for visual\n",
    "        cy_lines_full_image = int(cropped_h / 2) + crop_y_start \n",
    "        cv2.circle(annotated_image, (cx_lines_full_image, cy_lines_full_image), 6, (0, 0, 255), -1) # Red circle for line centroid\n",
    "        cv2.putText(annotated_image, f\"Line CX: {cx_lines_full_image}\", (cx_lines_full_image + 10, cy_lines_full_image + 10), cv2.FONT_HERSHEY_SIMPLEX, 0.6, (0, 0, 255), 2)\n",
    "\n",
    "\n",
    "    # Convert features_dict to an ordered NumPy array based on FEATURE_COLUMNS\n",
    "    ordered_features_array = np.array([features_dict[col] for col in FEATURE_COLUMNS]).reshape(1, -1)\n",
    "    \n",
    "    return ordered_features_array, annotated_image # Return features and the image with annotations\n",
    "\n",
    "\n",
    "# --- Main Execution Block ---\n",
    "if __name__ == \"__main__\":\n",
    "    print(\"--- Starting Lane Deviation Prediction on Unseen Data ---\")\n",
    "\n",
    "    # Load the trained model and scaler\n",
    "    svr_model, scaler = load_model_and_scaler(MODEL_DIR, SVR_MODEL_FILENAME, SCALER_FILENAME)\n",
    "\n",
    "    # Get list of unseen images\n",
    "    unseen_image_files = [f for f in os.listdir(UNSEEN_DATA_FOLDER) if f.lower().endswith((\".png\", \".jpg\", \".jpeg\", \".bmp\", \".tiff\"))]\n",
    "    if not unseen_image_files:\n",
    "        print(f\"ERROR: No images found in '{UNSEEN_DATA_FOLDER}'. Please check the path.\")\n",
    "        exit()\n",
    "\n",
    "    print(f\"Found {len(unseen_image_files)} unseen images.\")\n",
    "    print(\"Press 'q' to quit, 'd' or Right Arrow for next image, 'a' or Left Arrow for previous.\")\n",
    "\n",
    "    current_image_index = 0\n",
    "    cv2.namedWindow(\"Prediction Output\", cv2.WINDOW_NORMAL)\n",
    "    cv2.resizeWindow(\"Prediction Output\", 1280, 720) # Adjust as needed\n",
    "\n",
    "    while True:\n",
    "        filename = unseen_image_files[current_image_index]\n",
    "        image_path = os.path.join(UNSEEN_DATA_FOLDER, filename)\n",
    "\n",
    "        original_image = cv2.imread(image_path)\n",
    "        if original_image is None:\n",
    "            print(f\"❌ ERROR: Cannot read {filename}. Skipping to next.\")\n",
    "            current_image_index = (current_image_index + 1) % len(unseen_image_files)\n",
    "            continue\n",
    "\n",
    "        # 1. Extract features and get annotated image\n",
    "        raw_features_array, annotated_display_image = extract_features_for_prediction(original_image, HARDCODED_PARAMETERS)\n",
    "        \n",
    "        # Determine if a line was \"detected\" based on the number of detected lines\n",
    "        # This acts as the equivalent of 'is_line_detected' from your previous code\n",
    "        num_detected_lines_feature = raw_features_array[0, FEATURE_COLUMNS.index('num_detected_lines')]\n",
    "        is_line_detected_flag = 1 if num_detected_lines_feature > 0 else 0\n",
    "\n",
    "        predicted_deviation = float('nan') # Default\n",
    "        display_text = \"\"\n",
    "\n",
    "        if is_line_detected_flag == 1:\n",
    "            # 2. Scale the extracted features\n",
    "            scaled_features = scaler.transform(raw_features_array)\n",
    "\n",
    "            # 3. Predict deviation score\n",
    "            predicted_deviation = svr_model.predict(scaled_features)[0] # .predict returns an array, get the first element\n",
    "            display_text = f\"Predicted Deviation: {predicted_deviation:.4f}\"\n",
    "        else:\n",
    "            display_text = \"NO LINE DETECTED (No Prediction)\"\n",
    "            predicted_deviation = 0.0 # Assign a neutral value if no line, for consistency if logged\n",
    "\n",
    "        print(f\"\\nProcessing {filename}: {display_text}\")\n",
    "\n",
    "        # Add prediction text to the image\n",
    "        cv2.putText(annotated_display_image, display_text, (10, 30), cv2.FONT_HERSHEY_SIMPLEX, 0.8, (255, 255, 0), 2)\n",
    "        \n",
    "        cv2.imshow(\"Prediction Output\", annotated_display_image)\n",
    "\n",
    "        # --- Keyboard Controls ---\n",
    "        key = cv2.waitKey(0) & 0xFF # Wait indefinitely for a key press\n",
    "        if key == ord(\"q\"): # Press 'q' to quit\n",
    "            break\n",
    "        elif key in [ord(\"d\"), 83]: # Press 'd' or Right Arrow to go to the next image\n",
    "            current_image_index = (current_image_index + 1) % len(unseen_image_files)\n",
    "        elif key in [ord(\"a\"), 81]: # Press 'a' or Left Arrow to go to the previous image\n",
    "            current_image_index = (current_image_index - 1 + len(unseen_image_files)) % len(unseen_image_files)\n",
    "\n",
    "    cv2.destroyAllWindows()\n",
    "    print(\"\\n--- Prediction session ended. ---\")"
   ]
  }
 ],
 "metadata": {
  "kernelspec": {
   "display_name": "openCV",
   "language": "python",
   "name": "python3"
  },
  "language_info": {
   "codemirror_mode": {
    "name": "ipython",
    "version": 3
   },
   "file_extension": ".py",
   "mimetype": "text/x-python",
   "name": "python",
   "nbconvert_exporter": "python",
   "pygments_lexer": "ipython3",
   "version": "3.10.17"
  }
 },
 "nbformat": 4,
 "nbformat_minor": 5
}
