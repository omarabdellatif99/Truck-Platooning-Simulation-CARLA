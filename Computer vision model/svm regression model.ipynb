{
 "cells": [
  {
   "cell_type": "code",
   "execution_count": 14,
   "id": "b9845201",
   "metadata": {},
   "outputs": [
    {
     "name": "stdout",
     "output_type": "stream",
     "text": [
      "Mean Absolute Error (scaled): 0.0145\n",
      "R-squared (scaled): 0.9975\n",
      "SVR Model saved successfully as 'svr_line_position_model.joblib'\n",
      "Features StandardScaler saved successfully as 'scaler_X.joblib'\n",
      "Target MinMaxScaler saved successfully as 'scaler_y.joblib'\n",
      "\n",
      "All components (model and scalers) necessary for future predictions have been saved in the current directory.\n"
     ]
    }
   ],
   "source": [
    "import pandas as pd\n",
    "from sklearn.model_selection import train_test_split\n",
    "from sklearn.preprocessing import StandardScaler, MinMaxScaler\n",
    "from sklearn.svm import SVR\n",
    "from sklearn.metrics import mean_absolute_error, r2_score\n",
    "import joblib\n",
    "\n",
    "# --- 1. Load your Data ---\n",
    "path = r'D:\\Autonomous Systems A\\Truck-Platooning-Simulation-CARLA\\Computer vision model\\line_detection_features.csv'\n",
    "data = pd.read_csv(path)\n",
    "df = pd.DataFrame(data)\n",
    "\n",
    "# --- 2. Define Features (X) and Continuous Target (y) ---\n",
    "continuous_target_column = 'cx'\n",
    "\n",
    "feature_columns = [col for col in df.columns if col not in ['filename', 'line_label', continuous_target_column]]\n",
    "\n",
    "X = df[feature_columns]\n",
    "y = df[continuous_target_column]\n",
    "\n",
    "# --- 3. Split data into training and testing sets ---\n",
    "X_train, X_test, y_train, y_test = train_test_split(X, y, test_size=0.2, random_state=42)\n",
    "\n",
    "# --- 4. Scale Input Features (X) ---\n",
    "scaler_X = StandardScaler()\n",
    "X_train_scaled = scaler_X.fit_transform(X_train)\n",
    "X_test_scaled = scaler_X.transform(X_test)\n",
    "\n",
    "# --- 5. Scale Target Variable (y) to the range [-1, 1] ---\n",
    "scaler_y = MinMaxScaler(feature_range=(-1, 1))\n",
    "y_train_scaled = scaler_y.fit_transform(y_train.values.reshape(-1, 1)).flatten()\n",
    "y_test_scaled = scaler_y.transform(y_test.values.reshape(-1, 1)).flatten()\n",
    "\n",
    "# --- 6. Train the SVR model ---\n",
    "svr_model = SVR(kernel='linear', C=10.0, epsilon=0.05, gamma='scale')\n",
    "svr_model.fit(X_train_scaled, y_train_scaled)\n",
    "\n",
    "# --- 7. Make predictions ---\n",
    "y_pred_scaled = svr_model.predict(X_test_scaled)\n",
    "\n",
    "# --- Evaluate the model ---\n",
    "print(f\"Mean Absolute Error (scaled): {mean_absolute_error(y_test_scaled, y_pred_scaled):.4f}\")\n",
    "print(f\"R-squared (scaled): {r2_score(y_test_scaled, y_pred_scaled):.4f}\")\n",
    "\n",
    "\n",
    "\n",
    "## Saving the Model and Scalers\n",
    "\n",
    "# Define filenames for the model and scalers\n",
    "model_filename = 'svr_line_position_model.joblib'\n",
    "scaler_X_filename = 'scaler_X.joblib'\n",
    "scaler_y_filename = 'scaler_y.joblib'\n",
    "\n",
    "# Save the SVR model\n",
    "joblib.dump(svr_model, model_filename)\n",
    "print(f\"SVR Model saved successfully as '{model_filename}'\")\n",
    "\n",
    "# Save the StandardScaler for features\n",
    "joblib.dump(scaler_X, scaler_X_filename)\n",
    "print(f\"Features StandardScaler saved successfully as '{scaler_X_filename}'\")\n",
    "\n",
    "# Save the MinMaxScaler for the target variable\n",
    "joblib.dump(scaler_y, scaler_y_filename)\n",
    "print(f\"Target MinMaxScaler saved successfully as '{scaler_y_filename}'\")\n",
    "\n",
    "print(\"\\nAll components (model and scalers) necessary for future predictions have been saved in the current directory.\")"
   ]
  }
 ],
 "metadata": {
  "kernelspec": {
   "display_name": "openCV",
   "language": "python",
   "name": "python3"
  },
  "language_info": {
   "codemirror_mode": {
    "name": "ipython",
    "version": 3
   },
   "file_extension": ".py",
   "mimetype": "text/x-python",
   "name": "python",
   "nbconvert_exporter": "python",
   "pygments_lexer": "ipython3",
   "version": "3.10.17"
  }
 },
 "nbformat": 4,
 "nbformat_minor": 5
}
