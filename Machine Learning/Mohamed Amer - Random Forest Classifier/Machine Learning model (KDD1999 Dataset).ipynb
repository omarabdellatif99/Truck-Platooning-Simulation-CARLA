{
 "cells": [
  {
   "cell_type": "code",
   "execution_count": 5,
   "id": "dd7837f8",
   "metadata": {},
   "outputs": [],
   "source": [
    "#Importing imp packages\n",
    "import pandas as pd\n",
    "import numpy as np\n",
    "from sklearn.model_selection import train_test_split\n",
    "from sklearn.ensemble import RandomForestClassifier\n",
    "from sklearn.preprocessing import OrdinalEncoder\n",
    "from sklearn.preprocessing import OneHotEncoder\n",
    "from sklearn.preprocessing import LabelEncoder\n",
    "from sklearn.metrics import accuracy_score, classification_report\n",
    "from sklearn.model_selection import cross_val_score\n",
    "import matplotlib.pyplot as plt\n",
    "\n",
    "\n",
    "pd.set_option('display.max_columns', None)"
   ]
  },
  {
   "cell_type": "code",
   "execution_count": 6,
   "id": "e85c4427",
   "metadata": {},
   "outputs": [
    {
     "name": "stdout",
     "output_type": "stream",
     "text": [
      "Empty DataFrame\n",
      "Columns: [duration, protocol_type, service, flag, src_bytes, dst_bytes, land, wrong_fragment, urgent, hot, num_failed_logins, logged_in, num_compromised, root_shell, su_attempted, num_root, num_file_creations, num_shells, num_access_files, num_outbound_cmds, is_host_login, is_guest_login, count, srv_count, serror_rate, srv_serror_rate, rerror_rate, srv_rerror_rate, same_srv_rate, diff_srv_rate, srv_diff_host_rate, dst_host_count, dst_host_srv_count, dst_host_same_srv_rate, dst_host_diff_srv_rate, dst_host_same_src_port_rate, dst_host_srv_diff_host_rate, dst_host_serror_rate, dst_host_srv_serror_rate, dst_host_rerror_rate, dst_host_srv_rerror_rate, class]\n",
      "Index: []\n"
     ]
    }
   ],
   "source": [
    "#Reading of data and previewing it\n",
    "train_file_path= r'D:\\Studies\\Fourth Semester\\Autonomous Systems A\\Truck-Platooning-Simulation-CARLA\\Machine Learning\\Mohamed Amer - Random Forest Classifier\\KDD1999 CUP data/Train_data.csv'\n",
    "\n",
    "X = pd.read_csv(train_file_path)\n",
    "\n",
    "print(X.iloc[:0])\n"
   ]
  },
  {
   "cell_type": "code",
   "execution_count": 7,
   "id": "69136341",
   "metadata": {},
   "outputs": [
    {
     "name": "stdout",
     "output_type": "stream",
     "text": [
      "           duration     src_bytes     dst_bytes          land  wrong_fragment  \\\n",
      "count  25192.000000  2.519200e+04  2.519200e+04  25192.000000    25192.000000   \n",
      "mean     305.054104  2.433063e+04  3.491847e+03      0.000079        0.023738   \n",
      "std     2686.555640  2.410805e+06  8.883072e+04      0.008910        0.260221   \n",
      "min        0.000000  0.000000e+00  0.000000e+00      0.000000        0.000000   \n",
      "25%        0.000000  0.000000e+00  0.000000e+00      0.000000        0.000000   \n",
      "50%        0.000000  4.400000e+01  0.000000e+00      0.000000        0.000000   \n",
      "75%        0.000000  2.790000e+02  5.302500e+02      0.000000        0.000000   \n",
      "max    42862.000000  3.817091e+08  5.151385e+06      1.000000        3.000000   \n",
      "\n",
      "            urgent           hot  num_failed_logins     logged_in  \\\n",
      "count  25192.00000  25192.000000       25192.000000  25192.000000   \n",
      "mean       0.00004      0.198039           0.001191      0.394768   \n",
      "std        0.00630      2.154202           0.045418      0.488811   \n",
      "min        0.00000      0.000000           0.000000      0.000000   \n",
      "25%        0.00000      0.000000           0.000000      0.000000   \n",
      "50%        0.00000      0.000000           0.000000      0.000000   \n",
      "75%        0.00000      0.000000           0.000000      1.000000   \n",
      "max        1.00000     77.000000           4.000000      1.000000   \n",
      "\n",
      "       num_compromised    root_shell  su_attempted      num_root  \\\n",
      "count     25192.000000  25192.000000  25192.000000  25192.000000   \n",
      "mean          0.227850      0.001548      0.001350      0.249841   \n",
      "std          10.417352      0.039316      0.048785     11.500842   \n",
      "min           0.000000      0.000000      0.000000      0.000000   \n",
      "25%           0.000000      0.000000      0.000000      0.000000   \n",
      "50%           0.000000      0.000000      0.000000      0.000000   \n",
      "75%           0.000000      0.000000      0.000000      0.000000   \n",
      "max         884.000000      1.000000      2.000000    975.000000   \n",
      "\n",
      "       num_file_creations    num_shells  num_access_files  num_outbound_cmds  \\\n",
      "count        25192.000000  25192.000000      25192.000000            25192.0   \n",
      "mean             0.014727      0.000357          0.004327                0.0   \n",
      "std              0.529602      0.018898          0.098524                0.0   \n",
      "min              0.000000      0.000000          0.000000                0.0   \n",
      "25%              0.000000      0.000000          0.000000                0.0   \n",
      "50%              0.000000      0.000000          0.000000                0.0   \n",
      "75%              0.000000      0.000000          0.000000                0.0   \n",
      "max             40.000000      1.000000          8.000000                0.0   \n",
      "\n",
      "       is_host_login  is_guest_login         count     srv_count  \\\n",
      "count        25192.0    25192.000000  25192.000000  25192.000000   \n",
      "mean             0.0        0.009130     84.591180     27.698754   \n",
      "std              0.0        0.095115    114.673451     72.468242   \n",
      "min              0.0        0.000000      1.000000      1.000000   \n",
      "25%              0.0        0.000000      2.000000      2.000000   \n",
      "50%              0.0        0.000000     14.000000      8.000000   \n",
      "75%              0.0        0.000000    144.000000     18.000000   \n",
      "max              0.0        1.000000    511.000000    511.000000   \n",
      "\n",
      "        serror_rate  srv_serror_rate   rerror_rate  srv_rerror_rate  \\\n",
      "count  25192.000000     25192.000000  25192.000000     25192.000000   \n",
      "mean       0.286338         0.283762      0.118630         0.120260   \n",
      "std        0.447312         0.447599      0.318745         0.322335   \n",
      "min        0.000000         0.000000      0.000000         0.000000   \n",
      "25%        0.000000         0.000000      0.000000         0.000000   \n",
      "50%        0.000000         0.000000      0.000000         0.000000   \n",
      "75%        1.000000         1.000000      0.000000         0.000000   \n",
      "max        1.000000         1.000000      1.000000         1.000000   \n",
      "\n",
      "       same_srv_rate  diff_srv_rate  srv_diff_host_rate  dst_host_count  \\\n",
      "count   25192.000000   25192.000000        25192.000000    25192.000000   \n",
      "mean        0.660559       0.062363            0.095931      182.532074   \n",
      "std         0.439637       0.178550            0.256583       98.993895   \n",
      "min         0.000000       0.000000            0.000000        0.000000   \n",
      "25%         0.090000       0.000000            0.000000       84.000000   \n",
      "50%         1.000000       0.000000            0.000000      255.000000   \n",
      "75%         1.000000       0.060000            0.000000      255.000000   \n",
      "max         1.000000       1.000000            1.000000      255.000000   \n",
      "\n",
      "       dst_host_srv_count  dst_host_same_srv_rate  dst_host_diff_srv_rate  \\\n",
      "count        25192.000000            25192.000000            25192.000000   \n",
      "mean           115.063036                0.519791                0.082539   \n",
      "std            110.646850                0.448944                0.187191   \n",
      "min              0.000000                0.000000                0.000000   \n",
      "25%             10.000000                0.050000                0.000000   \n",
      "50%             61.000000                0.510000                0.030000   \n",
      "75%            255.000000                1.000000                0.070000   \n",
      "max            255.000000                1.000000                1.000000   \n",
      "\n",
      "       dst_host_same_src_port_rate  dst_host_srv_diff_host_rate  \\\n",
      "count                 25192.000000                 25192.000000   \n",
      "mean                      0.147453                     0.031844   \n",
      "std                       0.308367                     0.110575   \n",
      "min                       0.000000                     0.000000   \n",
      "25%                       0.000000                     0.000000   \n",
      "50%                       0.000000                     0.000000   \n",
      "75%                       0.060000                     0.020000   \n",
      "max                       1.000000                     1.000000   \n",
      "\n",
      "       dst_host_serror_rate  dst_host_srv_serror_rate  dst_host_rerror_rate  \\\n",
      "count          25192.000000              25192.000000          25192.000000   \n",
      "mean               0.285800                  0.279846              0.117800   \n",
      "std                0.445316                  0.446075              0.305869   \n",
      "min                0.000000                  0.000000              0.000000   \n",
      "25%                0.000000                  0.000000              0.000000   \n",
      "50%                0.000000                  0.000000              0.000000   \n",
      "75%                1.000000                  1.000000              0.000000   \n",
      "max                1.000000                  1.000000              1.000000   \n",
      "\n",
      "       dst_host_srv_rerror_rate  \n",
      "count              25192.000000  \n",
      "mean                   0.118769  \n",
      "std                    0.317333  \n",
      "min                    0.000000  \n",
      "25%                    0.000000  \n",
      "50%                    0.000000  \n",
      "75%                    0.000000  \n",
      "max                    1.000000  \n"
     ]
    }
   ],
   "source": [
    "#Manually analysing the data\n",
    "print(X.describe())\n"
   ]
  },
  {
   "cell_type": "code",
   "execution_count": 8,
   "id": "29865f06",
   "metadata": {},
   "outputs": [],
   "source": [
    "always_zero_features= ['num_outbound_cmds', 'is_host_login']"
   ]
  },
  {
   "cell_type": "code",
   "execution_count": 9,
   "id": "ddd6a2e5",
   "metadata": {},
   "outputs": [
    {
     "name": "stdout",
     "output_type": "stream",
     "text": [
      "normal     13449\n",
      "anomaly    11743\n",
      "Name: class, dtype: int64\n",
      "duration                       0\n",
      "protocol_type                  0\n",
      "service                        0\n",
      "flag                           0\n",
      "src_bytes                      0\n",
      "dst_bytes                      0\n",
      "land                           0\n",
      "wrong_fragment                 0\n",
      "urgent                         0\n",
      "hot                            0\n",
      "num_failed_logins              0\n",
      "logged_in                      0\n",
      "num_compromised                0\n",
      "root_shell                     0\n",
      "su_attempted                   0\n",
      "num_root                       0\n",
      "num_file_creations             0\n",
      "num_shells                     0\n",
      "num_access_files               0\n",
      "is_guest_login                 0\n",
      "count                          0\n",
      "srv_count                      0\n",
      "serror_rate                    0\n",
      "srv_serror_rate                0\n",
      "rerror_rate                    0\n",
      "srv_rerror_rate                0\n",
      "same_srv_rate                  0\n",
      "diff_srv_rate                  0\n",
      "srv_diff_host_rate             0\n",
      "dst_host_count                 0\n",
      "dst_host_srv_count             0\n",
      "dst_host_same_srv_rate         0\n",
      "dst_host_diff_srv_rate         0\n",
      "dst_host_same_src_port_rate    0\n",
      "dst_host_srv_diff_host_rate    0\n",
      "dst_host_serror_rate           0\n",
      "dst_host_srv_serror_rate       0\n",
      "dst_host_rerror_rate           0\n",
      "dst_host_srv_rerror_rate       0\n",
      "class                          0\n",
      "dtype: int64\n"
     ]
    }
   ],
   "source": [
    "#check dataset distribution and null values\n",
    "X.drop(always_zero_features, axis=1, inplace=True)\n",
    "print(X['class'].value_counts())\n",
    "print(X.isnull().sum())\n",
    "\n"
   ]
  },
  {
   "cell_type": "code",
   "execution_count": 10,
   "id": "39cb7920",
   "metadata": {},
   "outputs": [],
   "source": [
    "#removing categorical columns for first model training\n",
    "y= X['class']\n",
    "X.drop('class', axis=1, inplace=True)\n",
    "columns_to_drop = [\n",
    "    'count',\n",
    "    'srv_count',\n",
    "    'serror_rate',\n",
    "    'srv_serror_rate',\n",
    "    'rerror_rate',\n",
    "    'srv_rerror_rate',\n",
    "    'same_srv_rate',\n",
    "    'diff_srv_rate',\n",
    "    'srv_diff_host_rate'\n",
    "]\n",
    "\n",
    "X.drop(columns=columns_to_drop, axis=1, inplace=True)"
   ]
  },
  {
   "cell_type": "code",
   "execution_count": 11,
   "id": "ada2edb4",
   "metadata": {},
   "outputs": [
    {
     "name": "stdout",
     "output_type": "stream",
     "text": [
      "Index(['protocol_type', 'service', 'flag'], dtype='object')\n"
     ]
    }
   ],
   "source": [
    "\n",
    "categorical_cols=X.select_dtypes(include=['object']).columns\n",
    "print(categorical_cols)"
   ]
  },
  {
   "cell_type": "code",
   "execution_count": 12,
   "id": "10947c44",
   "metadata": {},
   "outputs": [],
   "source": [
    "#Hot endcoding categorical features\n",
    "encoder = OneHotEncoder(sparse=False) \n",
    "encoded_categories = encoder.fit_transform(X[['protocol_type', 'service','flag']])\n",
    "\n",
    "\n",
    "encoded_df = pd.DataFrame(encoded_categories, columns=encoder.get_feature_names_out(['protocol_type', 'service','flag']))\n",
    "\n",
    "X_copy = X.copy()\n",
    "\n",
    "# Drop the columns and concatenate\n",
    "X_copy.drop(columns=['protocol_type', 'service', 'flag'], inplace=True)\n",
    "X_full = pd.concat([X_copy, encoded_df], axis=1)\n",
    "\n",
    "\n"
   ]
  },
  {
   "cell_type": "code",
   "execution_count": 13,
   "id": "f61374c3",
   "metadata": {},
   "outputs": [
    {
     "name": "stdout",
     "output_type": "stream",
     "text": [
      "Index(['duration', 'src_bytes', 'dst_bytes', 'land', 'wrong_fragment',\n",
      "       'urgent', 'hot', 'num_failed_logins', 'logged_in', 'num_compromised',\n",
      "       ...\n",
      "       'flag_REJ', 'flag_RSTO', 'flag_RSTOS0', 'flag_RSTR', 'flag_S0',\n",
      "       'flag_S1', 'flag_S2', 'flag_S3', 'flag_SF', 'flag_SH'],\n",
      "      dtype='object', length=107)\n"
     ]
    }
   ],
   "source": [
    "\n",
    "print(X_full.columns)\n",
    "\n",
    "\n",
    "\n"
   ]
  },
  {
   "cell_type": "code",
   "execution_count": 14,
   "id": "426a4080",
   "metadata": {},
   "outputs": [],
   "source": [
    "encoder = LabelEncoder()\n",
    "y_encoded = encoder.fit_transform(y)\n",
    "y_encoded= pd.DataFrame(y_encoded, index=y.index, columns=['class'])"
   ]
  },
  {
   "cell_type": "code",
   "execution_count": 15,
   "id": "8d31d57f",
   "metadata": {},
   "outputs": [],
   "source": [
    "#Splitting the data into training and validation sets\n",
    "X_train, X_valid, y_train, y_valid = train_test_split(X_full, y_encoded, train_size=0.8, test_size=0.2,\n",
    "                                                      random_state=0)\n",
    "\n",
    "\n",
    "\n"
   ]
  },
  {
   "cell_type": "code",
   "execution_count": 16,
   "id": "e8f12c9a",
   "metadata": {},
   "outputs": [
    {
     "data": {
      "image/png": "[encoded data removed]",
      "text/plain": [
       "<Figure size 720x432 with 1 Axes>"
      ]
     },
     "metadata": {
      "needs_background": "light"
     },
     "output_type": "display_data"
    }
   ],
   "source": [
    "\n",
    "rf = RandomForestClassifier(\n",
    "    n_estimators=100,         \n",
    "    max_depth=10,              \n",
    "    min_samples_split=10,      \n",
    "    min_samples_leaf=5,        \n",
    "    max_features='sqrt',      \n",
    "    random_state=42\n",
    ")\n",
    "rf.fit(X_train, y_train.values.ravel())\n",
    "\n",
    "# Get feature importances\n",
    "importances = rf.feature_importances_\n",
    "feature_names = X_train.columns\n",
    "\n",
    "\n",
    "feature_importance_df = pd.DataFrame({\n",
    "    'feature': feature_names,\n",
    "    'importance': importances\n",
    "})\n",
    "\n",
    "\n",
    "feature_importance_df.sort_values(by='importance', ascending=False, inplace=True)\n",
    "\n",
    "top_n = 30\n",
    "plt.figure(figsize=(10, 6))\n",
    "plt.title(\"Top Feature Importances\")\n",
    "plt.barh(feature_importance_df['feature'][:top_n][::-1], feature_importance_df['importance'][:top_n][::-1])\n",
    "plt.xlabel(\"Importance\")\n",
    "plt.tight_layout()\n",
    "plt.show()\n",
    "\n"
   ]
  },
  {
   "cell_type": "code",
   "execution_count": 17,
   "id": "bf5ace48",
   "metadata": {},
   "outputs": [
    {
     "name": "stdout",
     "output_type": "stream",
     "text": [
      "              precision    recall  f1-score   support\n",
      "\n",
      "           0       1.00      0.99      0.99      2326\n",
      "           1       0.99      1.00      0.99      2713\n",
      "\n",
      "    accuracy                           0.99      5039\n",
      "   macro avg       0.99      0.99      0.99      5039\n",
      "weighted avg       0.99      0.99      0.99      5039\n",
      "\n",
      "Model accuracy: 0.99\n"
     ]
    }
   ],
   "source": [
    "\n",
    "#Getting Model accuracy\n",
    "y_pred_pretest = rf.predict(X_valid)\n",
    "accuracy = accuracy_score(y_valid, y_pred_pretest)\n",
    "print(classification_report(y_valid, y_pred_pretest))\n",
    "print(f\"Model accuracy: {accuracy:.2f}\")\n",
    "\n"
   ]
  },
  {
   "cell_type": "code",
   "execution_count": 18,
   "id": "dd1751d3",
   "metadata": {},
   "outputs": [
    {
     "data": {
      "text/plain": [
       "<AxesSubplot:xlabel='class', ylabel='src_bytes'>"
      ]
     },
     "execution_count": 18,
     "metadata": {},
     "output_type": "execute_result"
    },
    {
     "data": {
      "image/png": "[encoded data removed]",
      "text/plain": [
       "<Figure size 432x288 with 1 Axes>"
      ]
     },
     "metadata": {
      "needs_background": "light"
     },
     "output_type": "display_data"
    }
   ],
   "source": [
    "#dropping the least important features\n",
    "\n",
    "threshold = 0.01\n",
    "important_features = feature_importance_df[feature_importance_df['importance'] > threshold]['feature']\n",
    "X_reduced = X_full[important_features]\n",
    "\n",
    "\n",
    "#Finding correlation of Src_bytes with the target variable\n",
    "import seaborn as sns\n",
    "sns.boxplot(x=y, y=X['src_bytes'])\n"
   ]
  },
  {
   "cell_type": "code",
   "execution_count": 19,
   "id": "d3a8b368",
   "metadata": {},
   "outputs": [
    {
     "data": {
      "text/plain": [
       "(25192, 20)"
      ]
     },
     "execution_count": 19,
     "metadata": {},
     "output_type": "execute_result"
    }
   ],
   "source": [
    "X_reduced.shape"
   ]
  },
  {
   "cell_type": "code",
   "execution_count": 20,
   "id": "0aaf9ac7",
   "metadata": {},
   "outputs": [
    {
     "name": "stdout",
     "output_type": "stream",
     "text": [
      "Index(['src_bytes', 'dst_bytes', 'dst_host_same_srv_rate',\n",
      "       'dst_host_srv_count', 'logged_in', 'flag_SF', 'dst_host_diff_srv_rate',\n",
      "       'flag_S0', 'dst_host_srv_serror_rate', 'service_http',\n",
      "       'dst_host_serror_rate', 'dst_host_same_src_port_rate', 'dst_host_count',\n",
      "       'protocol_type_icmp', 'dst_host_srv_rerror_rate',\n",
      "       'dst_host_srv_diff_host_rate', 'service_private', 'service_ecr_i',\n",
      "       'dst_host_rerror_rate', 'service_eco_i'],\n",
      "      dtype='object')\n",
      "(20153, 20)\n"
     ]
    }
   ],
   "source": [
    "# Experimenting with Variables (will be optimized later)\n",
    "X_train, X_valid, y_train, y_valid = train_test_split(X_reduced, y_encoded, train_size=0.8, test_size=0.2,\n",
    "                                                      random_state=0)\n",
    "\n",
    "model_1 = RandomForestClassifier(\n",
    "    n_estimators=100,        \n",
    "    max_depth=10,             \n",
    "    min_samples_split=10,     \n",
    "    min_samples_leaf=5,       \n",
    "    max_features='sqrt',   \n",
    "    random_state=42\n",
    ")\n",
    "print(X_train.columns)\n",
    "print(X_train.shape)"
   ]
  },
  {
   "cell_type": "code",
   "execution_count": 21,
   "id": "48272c1c",
   "metadata": {},
   "outputs": [
    {
     "name": "stdout",
     "output_type": "stream",
     "text": [
      "Accuracy: 0.9938479857114507\n",
      "              precision    recall  f1-score   support\n",
      "\n",
      "           0       1.00      0.99      0.99      2326\n",
      "           1       0.99      1.00      0.99      2713\n",
      "\n",
      "    accuracy                           0.99      5039\n",
      "   macro avg       0.99      0.99      0.99      5039\n",
      "weighted avg       0.99      0.99      0.99      5039\n",
      "\n",
      "Mean accuracy: 0.9954350586337487\n",
      "Standard deviation: 0.000818306091311361\n",
      "[0.99444444 0.99642857 0.9952362  0.99603017 0.99364827 0.9952362\n",
      " 0.9952362  0.99603017 0.99603017 0.99603017]\n",
      "[[2303   23]\n",
      " [   8 2705]]\n"
     ]
    }
   ],
   "source": [
    "model_1.fit(X_train, y_train.values.ravel())    \n",
    "preds = model_1.predict(X_valid)\n",
    "print(\"Accuracy:\", accuracy_score(y_valid, preds))\n",
    "print(classification_report(y_valid, preds))\n",
    "\n",
    "\n",
    "scores = cross_val_score(model_1, X_reduced, y, cv=10)\n",
    "print(f\"Mean accuracy: {scores.mean()}\")\n",
    "print(f\"Standard deviation: {scores.std()}\")\n",
    "print(scores)\n",
    "from sklearn.metrics import confusion_matrix, classification_report\n",
    "print(confusion_matrix(y_valid, preds))\n"
   ]
  },
  {
   "cell_type": "code",
   "execution_count": 22,
   "id": "4a7e8564",
   "metadata": {},
   "outputs": [
    {
     "name": "stdout",
     "output_type": "stream",
     "text": [
      "src_bytes                     -0.006548\n",
      "dst_bytes                      0.012021\n",
      "dst_host_same_srv_rate         0.691323\n",
      "dst_host_srv_count             0.717398\n",
      "logged_in                      0.687917\n",
      "flag_SF                        0.756402\n",
      "dst_host_diff_srv_rate        -0.235283\n",
      "flag_S0                       -0.649822\n",
      "dst_host_srv_serror_rate      -0.652926\n",
      "service_http                   0.558454\n",
      "dst_host_serror_rate          -0.649929\n",
      "dst_host_same_src_port_rate   -0.092096\n",
      "dst_host_count                -0.367148\n",
      "protocol_type_icmp            -0.199520\n",
      "dst_host_srv_rerror_rate      -0.257336\n",
      "dst_host_srv_diff_host_rate   -0.066281\n",
      "service_private               -0.446260\n",
      "service_ecr_i                 -0.148029\n",
      "dst_host_rerror_rate          -0.257498\n",
      "service_eco_i                 -0.167943\n",
      "class                          1.000000\n",
      "Name: class, dtype: float64\n"
     ]
    }
   ],
   "source": [
    "X_with_target = pd.concat([X_train, y_train], axis=1)\n",
    "\n",
    "# Calculate and print the correlation with the target \n",
    "correlation_matrix = X_with_target.corr()\n",
    "print(correlation_matrix['class'])"
   ]
  },
  {
   "cell_type": "code",
   "execution_count": 23,
   "id": "494be772",
   "metadata": {},
   "outputs": [],
   "source": [
    "\n",
    "\n",
    "def plot_train_val_accuracy(y_train_true, y_train_pred, y_val_true, y_val_pred, model_name=\"Your Model\"):\n",
    "    \n",
    "    train_accuracy = accuracy_score(y_train_true, y_train_pred)\n",
    "    val_accuracy = accuracy_score(y_val_true, y_val_pred)\n",
    "\n",
    "    labels = ['Training Accuracy', 'Validation Accuracy']\n",
    "    accuracies = [train_accuracy, val_accuracy]\n",
    "\n",
    "    plt.figure(figsize=(8, 6))\n",
    "    plt.bar(labels, accuracies, color=['skyblue', 'lightcoral'])\n",
    "    plt.ylabel('Accuracy')\n",
    "    plt.title(f'{model_name} - Training vs. Validation Accuracy')\n",
    "    plt.ylim(0, 1.05) # Accuracy is between 0 and 1, add a little buffer\n",
    "    plt.axhline(y=train_accuracy, color='blue', linestyle='--', linewidth=0.8, label=f'Train: {train_accuracy:.4f}')\n",
    "    plt.axhline(y=val_accuracy, color='red', linestyle='--', linewidth=0.8, label=f'Val: {val_accuracy:.4f}')\n",
    "    plt.legend()\n",
    "    plt.show()\n",
    "\n",
    "    print(f\"Training Accuracy: {train_accuracy:.4f}\")\n",
    "    print(f\"Validation Accuracy: {val_accuracy:.4f}\")"
   ]
  },
  {
   "cell_type": "code",
   "execution_count": 24,
   "id": "c082c8cb",
   "metadata": {},
   "outputs": [
    {
     "data": {
      "image/png": "[encoded data removed]",
      "text/plain": [
       "<Figure size 576x432 with 1 Axes>"
      ]
     },
     "metadata": {
      "needs_background": "light"
     },
     "output_type": "display_data"
    },
    {
     "name": "stdout",
     "output_type": "stream",
     "text": [
      "Training Accuracy: 0.9965\n",
      "Validation Accuracy: 0.9938\n"
     ]
    }
   ],
   "source": [
    "y_train_preds = model_1.predict(X_train)\n",
    "plot_train_val_accuracy(y_train, y_train_preds, y_valid, preds, model_name=\"Random Forest Classifier (Original Dataset)\")"
   ]
  },
  {
   "cell_type": "code",
   "execution_count": 25,
   "id": "e0a646e7",
   "metadata": {},
   "outputs": [
    {
     "data": {
      "image/png": "[encoded data removed]",
      "text/plain": [
       "<Figure size 432x288 with 2 Axes>"
      ]
     },
     "metadata": {
      "needs_background": "light"
     },
     "output_type": "display_data"
    },
    {
     "data": {
      "image/png": "[encoded data removed]",
      "text/plain": [
       "<Figure size 864x432 with 1 Axes>"
      ]
     },
     "metadata": {
      "needs_background": "light"
     },
     "output_type": "display_data"
    }
   ],
   "source": [
    "# %%\n",
    "from sklearn.metrics import confusion_matrix, ConfusionMatrixDisplay, classification_report\n",
    "import seaborn as sns\n",
    "\n",
    "# Compute confusion matrix\n",
    "cm = confusion_matrix(y_valid, preds)\n",
    "disp = ConfusionMatrixDisplay(confusion_matrix=cm, display_labels=encoder.classes_)\n",
    "disp.plot(xticks_rotation=90)\n",
    "plt.title(\"Confusion Matrix\")\n",
    "plt.show()\n",
    "\n",
    "# Get classification report as dictionary\n",
    "report_dict = classification_report(y_valid, preds, output_dict=True)\n",
    "\n",
    "# Convert to DataFrame for visualization\n",
    "report_df = pd.DataFrame(report_dict).transpose()\n",
    "report_df = report_df.drop(index=['accuracy', 'macro avg', 'weighted avg'])\n",
    "\n",
    "# Plot precision, recall, f1-score for each class\n",
    "report_df[['precision', 'recall', 'f1-score']].plot(kind='bar', figsize=(12, 6))\n",
    "plt.title(\"Classification Report Metrics by Class\")\n",
    "plt.ylabel(\"Score\")\n",
    "plt.xlabel(\"Class Label\")\n",
    "plt.xticks(rotation=0)\n",
    "plt.ylim(0, 1)\n",
    "plt.grid(True)\n",
    "plt.tight_layout()\n",
    "plt.show()\n"
   ]
  }
 ],
 "metadata": {
  "kernelspec": {
   "display_name": "pytorch",
   "language": "python",
   "name": "python3"
  },
  "language_info": {
   "codemirror_mode": {
    "name": "ipython",
    "version": 3
   },
   "file_extension": ".py",
   "mimetype": "text/x-python",
   "name": "python",
   "nbconvert_exporter": "python",
   "pygments_lexer": "ipython3",
   "version": "3.10.4"
  }
 },
 "nbformat": 4,
 "nbformat_minor": 5
}
