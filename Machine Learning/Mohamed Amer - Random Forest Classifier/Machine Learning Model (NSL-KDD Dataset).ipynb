{
 "cells": [
  {
   "cell_type": "code",
   "execution_count": 1,
   "metadata": {},
   "outputs": [],
   "source": [
    "import pandas as pd\n",
    "import numpy as np\n",
    "from sklearn.model_selection import train_test_split\n",
    "from sklearn.ensemble import RandomForestClassifier\n",
    "from sklearn.preprocessing import OrdinalEncoder\n",
    "from sklearn.preprocessing import OneHotEncoder\n",
    "from sklearn.preprocessing import LabelEncoder\n",
    "from sklearn.metrics import accuracy_score, classification_report\n",
    "import matplotlib.pyplot as plt\n",
    "from sklearn.model_selection import cross_val_score\n",
    "from scipy.io import arff\n",
    "from sklearn.model_selection import GridSearchCV\n",
    "from sklearn.decomposition import PCA\n",
    "from sklearn.preprocessing import StandardScaler\n",
    "from xgboost import XGBClassifier\n",
    "from sklearn.pipeline import Pipeline\n",
    "from sklearn.compose import ColumnTransformer\n",
    "\n",
    "\n",
    "\n",
    "pd.set_option('display.max_columns', None)\n"
   ]
  },
  {
   "cell_type": "code",
   "execution_count": 2,
   "metadata": {},
   "outputs": [
    {
     "name": "stdout",
     "output_type": "stream",
     "text": [
      "            duration protocol_type service    flag     src_bytes  \\\n",
      "count   125973.00000        125973  125973  125973  1.259730e+05   \n",
      "unique           NaN             3      70      11           NaN   \n",
      "top              NaN           tcp    http      SF           NaN   \n",
      "freq             NaN        102689   40338   74945           NaN   \n",
      "mean       287.14465           NaN     NaN     NaN  4.556674e+04   \n",
      "std       2604.51531           NaN     NaN     NaN  5.870331e+06   \n",
      "min          0.00000           NaN     NaN     NaN  0.000000e+00   \n",
      "25%          0.00000           NaN     NaN     NaN  0.000000e+00   \n",
      "50%          0.00000           NaN     NaN     NaN  4.400000e+01   \n",
      "75%          0.00000           NaN     NaN     NaN  2.760000e+02   \n",
      "max      42908.00000           NaN     NaN     NaN  1.379964e+09   \n",
      "\n",
      "           dst_bytes    land  wrong_fragment         urgent            hot  \\\n",
      "count   1.259730e+05  125973   125973.000000  125973.000000  125973.000000   \n",
      "unique           NaN       2             NaN            NaN            NaN   \n",
      "top              NaN       0             NaN            NaN            NaN   \n",
      "freq             NaN  125948             NaN            NaN            NaN   \n",
      "mean    1.977911e+04     NaN        0.022687       0.000111       0.204409   \n",
      "std     4.021269e+06     NaN        0.253530       0.014366       2.149968   \n",
      "min     0.000000e+00     NaN        0.000000       0.000000       0.000000   \n",
      "25%     0.000000e+00     NaN        0.000000       0.000000       0.000000   \n",
      "50%     0.000000e+00     NaN        0.000000       0.000000       0.000000   \n",
      "75%     5.160000e+02     NaN        0.000000       0.000000       0.000000   \n",
      "max     1.309937e+09     NaN        3.000000       3.000000      77.000000   \n",
      "\n",
      "        num_failed_logins logged_in  num_compromised     root_shell  \\\n",
      "count       125973.000000    125973    125973.000000  125973.000000   \n",
      "unique                NaN         2              NaN            NaN   \n",
      "top                   NaN         0              NaN            NaN   \n",
      "freq                  NaN     76121              NaN            NaN   \n",
      "mean             0.001222       NaN         0.279250       0.001342   \n",
      "std              0.045239       NaN        23.942042       0.036603   \n",
      "min              0.000000       NaN         0.000000       0.000000   \n",
      "25%              0.000000       NaN         0.000000       0.000000   \n",
      "50%              0.000000       NaN         0.000000       0.000000   \n",
      "75%              0.000000       NaN         0.000000       0.000000   \n",
      "max              5.000000       NaN      7479.000000       1.000000   \n",
      "\n",
      "         su_attempted       num_root  num_file_creations     num_shells  \\\n",
      "count   125973.000000  125973.000000       125973.000000  125973.000000   \n",
      "unique            NaN            NaN                 NaN            NaN   \n",
      "top               NaN            NaN                 NaN            NaN   \n",
      "freq              NaN            NaN                 NaN            NaN   \n",
      "mean         0.001103       0.302192            0.012669       0.000413   \n",
      "std          0.045154      24.399618            0.483935       0.022181   \n",
      "min          0.000000       0.000000            0.000000       0.000000   \n",
      "25%          0.000000       0.000000            0.000000       0.000000   \n",
      "50%          0.000000       0.000000            0.000000       0.000000   \n",
      "75%          0.000000       0.000000            0.000000       0.000000   \n",
      "max          2.000000    7468.000000           43.000000       2.000000   \n",
      "\n",
      "        num_access_files  num_outbound_cmds is_host_login is_guest_login  \\\n",
      "count      125973.000000           125973.0        125973         125973   \n",
      "unique               NaN                NaN             2              2   \n",
      "top                  NaN                NaN             0              0   \n",
      "freq                 NaN                NaN        125972         124786   \n",
      "mean            0.004096                0.0           NaN            NaN   \n",
      "std             0.099370                0.0           NaN            NaN   \n",
      "min             0.000000                0.0           NaN            NaN   \n",
      "25%             0.000000                0.0           NaN            NaN   \n",
      "50%             0.000000                0.0           NaN            NaN   \n",
      "75%             0.000000                0.0           NaN            NaN   \n",
      "max             9.000000                0.0           NaN            NaN   \n",
      "\n",
      "                count      srv_count    serror_rate  srv_serror_rate  \\\n",
      "count   125973.000000  125973.000000  125973.000000    125973.000000   \n",
      "unique            NaN            NaN            NaN              NaN   \n",
      "top               NaN            NaN            NaN              NaN   \n",
      "freq              NaN            NaN            NaN              NaN   \n",
      "mean        84.107555      27.737888       0.284485         0.282485   \n",
      "std        114.508607      72.635840       0.446456         0.447022   \n",
      "min          0.000000       0.000000       0.000000         0.000000   \n",
      "25%          2.000000       2.000000       0.000000         0.000000   \n",
      "50%         14.000000       8.000000       0.000000         0.000000   \n",
      "75%        143.000000      18.000000       1.000000         1.000000   \n",
      "max        511.000000     511.000000       1.000000         1.000000   \n",
      "\n",
      "          rerror_rate  srv_rerror_rate  same_srv_rate  diff_srv_rate  \\\n",
      "count   125973.000000    125973.000000  125973.000000  125973.000000   \n",
      "unique            NaN              NaN            NaN            NaN   \n",
      "top               NaN              NaN            NaN            NaN   \n",
      "freq              NaN              NaN            NaN            NaN   \n",
      "mean         0.119958         0.121183       0.660928       0.063053   \n",
      "std          0.320436         0.323647       0.439623       0.180314   \n",
      "min          0.000000         0.000000       0.000000       0.000000   \n",
      "25%          0.000000         0.000000       0.090000       0.000000   \n",
      "50%          0.000000         0.000000       1.000000       0.000000   \n",
      "75%          0.000000         0.000000       1.000000       0.060000   \n",
      "max          1.000000         1.000000       1.000000       1.000000   \n",
      "\n",
      "        srv_diff_host_rate  dst_host_count  dst_host_srv_count  \\\n",
      "count        125973.000000   125973.000000       125973.000000   \n",
      "unique                 NaN             NaN                 NaN   \n",
      "top                    NaN             NaN                 NaN   \n",
      "freq                   NaN             NaN                 NaN   \n",
      "mean              0.097322      182.148945          115.653005   \n",
      "std               0.259830       99.206213          110.702741   \n",
      "min               0.000000        0.000000            0.000000   \n",
      "25%               0.000000       82.000000           10.000000   \n",
      "50%               0.000000      255.000000           63.000000   \n",
      "75%               0.000000      255.000000          255.000000   \n",
      "max               1.000000      255.000000          255.000000   \n",
      "\n",
      "        dst_host_same_srv_rate  dst_host_diff_srv_rate  \\\n",
      "count            125973.000000           125973.000000   \n",
      "unique                     NaN                     NaN   \n",
      "top                        NaN                     NaN   \n",
      "freq                       NaN                     NaN   \n",
      "mean                  0.521242                0.082951   \n",
      "std                   0.448949                0.188922   \n",
      "min                   0.000000                0.000000   \n",
      "25%                   0.050000                0.000000   \n",
      "50%                   0.510000                0.020000   \n",
      "75%                   1.000000                0.070000   \n",
      "max                   1.000000                1.000000   \n",
      "\n",
      "        dst_host_same_src_port_rate  dst_host_srv_diff_host_rate  \\\n",
      "count                 125973.000000                125973.000000   \n",
      "unique                          NaN                          NaN   \n",
      "top                             NaN                          NaN   \n",
      "freq                            NaN                          NaN   \n",
      "mean                       0.148379                     0.032542   \n",
      "std                        0.308997                     0.112564   \n",
      "min                        0.000000                     0.000000   \n",
      "25%                        0.000000                     0.000000   \n",
      "50%                        0.000000                     0.000000   \n",
      "75%                        0.060000                     0.020000   \n",
      "max                        1.000000                     1.000000   \n",
      "\n",
      "        dst_host_serror_rate  dst_host_srv_serror_rate  dst_host_rerror_rate  \\\n",
      "count          125973.000000             125973.000000         125973.000000   \n",
      "unique                   NaN                       NaN                   NaN   \n",
      "top                      NaN                       NaN                   NaN   \n",
      "freq                     NaN                       NaN                   NaN   \n",
      "mean                0.284452                  0.278485              0.118832   \n",
      "std                 0.444784                  0.445669              0.306557   \n",
      "min                 0.000000                  0.000000              0.000000   \n",
      "25%                 0.000000                  0.000000              0.000000   \n",
      "50%                 0.000000                  0.000000              0.000000   \n",
      "75%                 1.000000                  1.000000              0.000000   \n",
      "max                 1.000000                  1.000000              1.000000   \n",
      "\n",
      "        dst_host_srv_rerror_rate   class  \n",
      "count              125973.000000  125973  \n",
      "unique                       NaN       2  \n",
      "top                          NaN  normal  \n",
      "freq                         NaN   67343  \n",
      "mean                    0.120240     NaN  \n",
      "std                     0.319459     NaN  \n",
      "min                     0.000000     NaN  \n",
      "25%                     0.000000     NaN  \n",
      "50%                     0.000000     NaN  \n",
      "75%                     0.000000     NaN  \n",
      "max                     1.000000     NaN  \n"
     ]
    }
   ],
   "source": [
    "path = r'D:\\Studies\\Fourth Semester\\Autonomous Systems A\\Truck-Platooning-Simulation-CARLA\\Machine Learning\\Mohamed Amer - Random Forest Classifier\\NSL-KDD new dataset\\KDDTrain+.arff'\n",
    "data, meta = arff.loadarff(path)\n",
    "\n",
    "# Convert to DataFrame\n",
    "df = pd.DataFrame(data)\n",
    "\n",
    "# Decode byte strings\n",
    "for col in df.select_dtypes([object]):\n",
    "    df[col] = df[col].str.decode('utf-8')\n",
    "\n",
    "# Show first few rows\n",
    "print(df.describe(include='all'))\n"
   ]
  },
  {
   "cell_type": "code",
   "execution_count": 3,
   "metadata": {},
   "outputs": [
    {
     "name": "stdout",
     "output_type": "stream",
     "text": [
      "duration                       0\n",
      "protocol_type                  0\n",
      "service                        0\n",
      "flag                           0\n",
      "src_bytes                      0\n",
      "dst_bytes                      0\n",
      "land                           0\n",
      "wrong_fragment                 0\n",
      "urgent                         0\n",
      "hot                            0\n",
      "num_failed_logins              0\n",
      "logged_in                      0\n",
      "num_compromised                0\n",
      "root_shell                     0\n",
      "su_attempted                   0\n",
      "num_root                       0\n",
      "num_file_creations             0\n",
      "num_shells                     0\n",
      "num_access_files               0\n",
      "num_outbound_cmds              0\n",
      "is_host_login                  0\n",
      "is_guest_login                 0\n",
      "count                          0\n",
      "srv_count                      0\n",
      "serror_rate                    0\n",
      "srv_serror_rate                0\n",
      "rerror_rate                    0\n",
      "srv_rerror_rate                0\n",
      "same_srv_rate                  0\n",
      "diff_srv_rate                  0\n",
      "srv_diff_host_rate             0\n",
      "dst_host_count                 0\n",
      "dst_host_srv_count             0\n",
      "dst_host_same_srv_rate         0\n",
      "dst_host_diff_srv_rate         0\n",
      "dst_host_same_src_port_rate    0\n",
      "dst_host_srv_diff_host_rate    0\n",
      "dst_host_serror_rate           0\n",
      "dst_host_srv_serror_rate       0\n",
      "dst_host_rerror_rate           0\n",
      "dst_host_srv_rerror_rate       0\n",
      "class                          0\n",
      "dtype: int64\n"
     ]
    }
   ],
   "source": [
    "# Check for missing values\n",
    "print(df.isnull().sum())\n",
    "#Drop always Zero columns\n",
    "df = df.drop(['num_outbound_cmds', 'is_host_login', 'is_guest_login'], axis=1)\n"
   ]
  },
  {
   "cell_type": "code",
   "execution_count": 4,
   "metadata": {},
   "outputs": [],
   "source": [
    "#encoding the class column\n",
    "le = LabelEncoder()\n",
    "df['class'] = le.fit_transform(df['class'])\n",
    "y=df['class']\n"
   ]
  },
  {
   "cell_type": "code",
   "execution_count": 5,
   "metadata": {},
   "outputs": [],
   "source": [
    "# Separate features (X) and target (y)\n",
    "X = df.drop('class', axis=1)\n"
   ]
  },
  {
   "cell_type": "code",
   "execution_count": 6,
   "metadata": {},
   "outputs": [],
   "source": [
    "# Identify categorical and numerical columns for the pipeline\n",
    "categorical_cols = ['protocol_type', 'service', 'flag', 'land', 'logged_in']\n",
    "numerical_cols = X.select_dtypes(include=np.number).columns.tolist()\n"
   ]
  },
  {
   "cell_type": "code",
   "execution_count": 7,
   "metadata": {},
   "outputs": [],
   "source": [
    "# Create preprocessing pipelines for numerical and categorical features\n",
    "numerical_transformer = StandardScaler()\n",
    "categorical_transformer = OneHotEncoder(sparse=False, handle_unknown='ignore') \n",
    "\n",
    "# Create a preprocessor using ColumnTransformer\n",
    "preprocessor = ColumnTransformer(\n",
    "    transformers=[\n",
    "        ('num', numerical_transformer, numerical_cols),\n",
    "        ('cat', categorical_transformer, categorical_cols)\n",
    "    ],\n",
    "    remainder='passthrough' \n",
    ")\n"
   ]
  },
  {
   "cell_type": "code",
   "execution_count": 8,
   "metadata": {},
   "outputs": [],
   "source": [
    "pipeline = Pipeline(steps=[\n",
    "    ('preprocessor', preprocessor),\n",
    "    ('scaler', StandardScaler()),  \n",
    "    ('pca', PCA(n_components=0.95)),\n",
    "    ('classifier', RandomForestClassifier(\n",
    "        n_estimators=100,\n",
    "         min_samples_split=5,\n",
    "         min_samples_leaf=7,\n",
    "        max_depth=10,\n",
    "        n_jobs=-1,  \n",
    "        max_features='sqrt',\n",
    "        random_state=42,\n",
    "        class_weight='balanced',\n",
    "        bootstrap=True,\n",
    "        oob_score=True\n",
    "    ))\n",
    "])"
   ]
  },
  {
   "cell_type": "code",
   "execution_count": 9,
   "metadata": {},
   "outputs": [
    {
     "data": {
      "text/plain": [
       "Pipeline(steps=[('preprocessor',\n",
       "                 ColumnTransformer(remainder='passthrough',\n",
       "                                   transformers=[('num', StandardScaler(),\n",
       "                                                  ['duration', 'src_bytes',\n",
       "                                                   'dst_bytes',\n",
       "                                                   'wrong_fragment', 'urgent',\n",
       "                                                   'hot', 'num_failed_logins',\n",
       "                                                   'num_compromised',\n",
       "                                                   'root_shell', 'su_attempted',\n",
       "                                                   'num_root',\n",
       "                                                   'num_file_creations',\n",
       "                                                   'num_shells',\n",
       "                                                   'num_access_files', 'count',\n",
       "                                                   'srv_count', 'serror_rate',\n",
       "                                                   'srv_s...\n",
       "                                                 ('cat',\n",
       "                                                  OneHotEncoder(handle_unknown='ignore',\n",
       "                                                                sparse=False),\n",
       "                                                  ['protocol_type', 'service',\n",
       "                                                   'flag', 'land',\n",
       "                                                   'logged_in'])])),\n",
       "                ('scaler', StandardScaler()), ('pca', PCA(n_components=0.95)),\n",
       "                ('classifier',\n",
       "                 RandomForestClassifier(class_weight='balanced', max_depth=10,\n",
       "                                        max_features='sqrt', min_samples_leaf=7,\n",
       "                                        min_samples_split=5, n_jobs=-1,\n",
       "                                        oob_score=True, random_state=42))])"
      ]
     },
     "execution_count": 9,
     "metadata": {},
     "output_type": "execute_result"
    }
   ],
   "source": [
    "# Fit the pipeline on the training data\n",
    "pipeline.fit(X, y)\n"
   ]
  },
  {
   "cell_type": "code",
   "execution_count": 10,
   "metadata": {},
   "outputs": [],
   "source": [
    "test_path = r'D:\\Studies\\Fourth Semester\\Autonomous Systems A\\Truck-Platooning-Simulation-CARLA\\Machine Learning\\Mohamed Amer - Random Forest Classifier\\NSL-KDD new dataset\\KDDTest+.arff'\n",
    "data_test, meta_test = arff.loadarff(test_path)\n",
    "df_test = pd.DataFrame(data_test)\n",
    "for col in df_test.select_dtypes([object]):\n",
    "    df_test[col] = df_test[col].str.decode('utf-8')\n"
   ]
  },
  {
   "cell_type": "code",
   "execution_count": 11,
   "metadata": {},
   "outputs": [],
   "source": [
    "# Preprocess test data - same as train data\n",
    "df_test = df_test.drop(['num_outbound_cmds', 'is_host_login', 'is_guest_login'], axis=1)\n",
    "y_test = df_test['class']\n",
    "y_test_encoded = le.transform(y_test)\n",
    "X_test = df_test.drop('class', axis=1)\n"
   ]
  },
  {
   "cell_type": "code",
   "execution_count": 12,
   "metadata": {},
   "outputs": [
    {
     "name": "stdout",
     "output_type": "stream",
     "text": [
      "Accuracy: 0.7971965933286018\n",
      "              precision    recall  f1-score   support\n",
      "\n",
      "           0       0.97      0.67      0.79     12833\n",
      "           1       0.69      0.97      0.80      9711\n",
      "\n",
      "    accuracy                           0.80     22544\n",
      "   macro avg       0.83      0.82      0.80     22544\n",
      "weighted avg       0.85      0.80      0.80     22544\n",
      "\n"
     ]
    }
   ],
   "source": [
    "# Predict using the fitted pipeline\n",
    "y_pred = pipeline.predict(X_test)\n",
    "\n",
    "print(\"Accuracy:\", accuracy_score(y_test_encoded, y_pred))\n",
    "print(classification_report(y_test_encoded, y_pred))\n"
   ]
  },
  {
   "cell_type": "code",
   "execution_count": 13,
   "metadata": {},
   "outputs": [
    {
     "name": "stdout",
     "output_type": "stream",
     "text": [
      "Train accuracy: 0.9967850253625777\n",
      "Test accuracy: 0.7971965933286018\n"
     ]
    }
   ],
   "source": [
    "# Calculate train and test accuracy using the pipeline\n",
    "train_acc = pipeline.score(X, y)\n",
    "test_acc = pipeline.score(X_test, y_test_encoded)\n",
    "\n",
    "print(\"Train accuracy:\", train_acc)\n",
    "print(\"Test accuracy:\", test_acc)\n"
   ]
  },
  {
   "cell_type": "code",
   "execution_count": 14,
   "metadata": {},
   "outputs": [
    {
     "data": {
      "image/png": "[encoded data removed]",
      "text/plain": [
       "<Figure size 432x288 with 2 Axes>"
      ]
     },
     "metadata": {
      "needs_background": "light"
     },
     "output_type": "display_data"
    },
    {
     "data": {
      "image/png": "[encoded data removed]",
      "text/plain": [
       "<Figure size 864x432 with 1 Axes>"
      ]
     },
     "metadata": {
      "needs_background": "light"
     },
     "output_type": "display_data"
    }
   ],
   "source": [
    "# %%\n",
    "from sklearn.metrics import confusion_matrix, ConfusionMatrixDisplay, classification_report\n",
    "import seaborn as sns\n",
    "\n",
    "# Compute confusion matrix\n",
    "cm = confusion_matrix(y_test_encoded, y_pred)\n",
    "disp = ConfusionMatrixDisplay(confusion_matrix=cm, display_labels=le.classes_)\n",
    "disp.plot(xticks_rotation=90)\n",
    "plt.title(\"Confusion Matrix\")\n",
    "plt.show()\n",
    "\n",
    "# Get classification report as dictionary\n",
    "report_dict = classification_report(y_test_encoded, y_pred, output_dict=True)\n",
    "\n",
    "# Convert to DataFrame for visualization\n",
    "report_df = pd.DataFrame(report_dict).transpose()\n",
    "report_df = report_df.drop(index=['accuracy', 'macro avg', 'weighted avg'])\n",
    "\n",
    "# Plot precision, recall, f1-score for each class\n",
    "report_df[['precision', 'recall', 'f1-score']].plot(kind='bar', figsize=(12, 6))\n",
    "plt.title(\"Classification Report Metrics by Class\")\n",
    "plt.ylabel(\"Score\")\n",
    "plt.xlabel(\"Class Label\")\n",
    "plt.xticks(rotation=0)\n",
    "plt.ylim(0, 1)\n",
    "plt.grid(True)\n",
    "plt.tight_layout()\n",
    "plt.show()\n"
   ]
  },
  {
   "cell_type": "code",
   "execution_count": 15,
   "metadata": {},
   "outputs": [
    {
     "name": "stdout",
     "output_type": "stream",
     "text": [
      "ROC-AUC Score: 0.961538100444384\n"
     ]
    }
   ],
   "source": [
    "from sklearn.metrics import roc_auc_score\n",
    "\n",
    "# If you have predicted probabilities:\n",
    "roc_auc = roc_auc_score(y_test_encoded, pipeline.predict_proba(X_test)[:, 1])\n",
    "print(\"ROC-AUC Score:\", roc_auc)\n"
   ]
  },
  {
   "cell_type": "code",
   "execution_count": 16,
   "metadata": {},
   "outputs": [
    {
     "data": {
      "image/png": "[encoded data removed]",
      "text/plain": [
       "<Figure size 432x288 with 1 Axes>"
      ]
     },
     "metadata": {
      "needs_background": "light"
     },
     "output_type": "display_data"
    }
   ],
   "source": [
    "from sklearn.metrics import precision_recall_curve\n",
    "\n",
    "probs = pipeline.predict_proba(X_test)[:, 1]\n",
    "precisions, recalls, thresholds = precision_recall_curve(y_test_encoded, probs)\n",
    "\n",
    "# Plot precision-recall vs threshold\n",
    "import matplotlib.pyplot as plt\n",
    "plt.plot(thresholds, precisions[:-1], label='Precision')\n",
    "plt.plot(thresholds, recalls[:-1], label='Recall')\n",
    "plt.xlabel('Threshold')\n",
    "plt.ylabel('Score')\n",
    "plt.legend()\n",
    "plt.grid()\n",
    "plt.show()\n"
   ]
  },
  {
   "cell_type": "code",
   "execution_count": 21,
   "metadata": {},
   "outputs": [
    {
     "data": {
      "text/plain": [
       "CalibratedClassifierCV(base_estimator=Pipeline(steps=[('preprocessor',\n",
       "                                                       ColumnTransformer(remainder='passthrough',\n",
       "                                                                         transformers=[('num',\n",
       "                                                                                        StandardScaler(),\n",
       "                                                                                        ['duration',\n",
       "                                                                                         'src_bytes',\n",
       "                                                                                         'dst_bytes',\n",
       "                                                                                         'wrong_fragment',\n",
       "                                                                                         'urgent',\n",
       "                                                                                         'hot',\n",
       "                                                                                         'num_failed_logins',\n",
       "                                                                                         'num_compromised',\n",
       "                                                                                         'root_shell',\n",
       "                                                                                         'su_attempted',\n",
       "                                                                                         'num_root',\n",
       "                                                                                         'num_file_creations',\n",
       "                                                                                         'num_shells',\n",
       "                                                                                         'num_access_files',\n",
       "                                                                                         'c...\n",
       "                                                                                        OneHotEncoder(handle_unknown='ignore',\n",
       "                                                                                                      sparse=False),\n",
       "                                                                                        ['protocol_type',\n",
       "                                                                                         'service',\n",
       "                                                                                         'flag',\n",
       "                                                                                         'land',\n",
       "                                                                                         'logged_in'])])),\n",
       "                                                      ('scaler',\n",
       "                                                       StandardScaler()),\n",
       "                                                      ('pca',\n",
       "                                                       PCA(n_components=0.95)),\n",
       "                                                      ('classifier',\n",
       "                                                       RandomForestClassifier(class_weight='balanced',\n",
       "                                                                              max_depth=10,\n",
       "                                                                              max_features='sqrt',\n",
       "                                                                              min_samples_leaf=7,\n",
       "                                                                              min_samples_split=5,\n",
       "                                                                              n_jobs=-1,\n",
       "                                                                              oob_score=True,\n",
       "                                                                              random_state=42))]),\n",
       "                       cv=5)"
      ]
     },
     "execution_count": 21,
     "metadata": {},
     "output_type": "execute_result"
    }
   ],
   "source": [
    "from sklearn.calibration import CalibratedClassifierCV\n",
    "calibrated_model = CalibratedClassifierCV(base_estimator=pipeline, cv=5)\n",
    "calibrated_model.fit(X, y)\n"
   ]
  },
  {
   "cell_type": "code",
   "execution_count": 22,
   "metadata": {},
   "outputs": [
    {
     "data": {
      "image/png": "[encoded data removed]",
      "text/plain": [
       "<Figure size 432x288 with 1 Axes>"
      ]
     },
     "metadata": {
      "needs_background": "light"
     },
     "output_type": "display_data"
    }
   ],
   "source": [
    "from sklearn.metrics import precision_recall_curve\n",
    "\n",
    "probs = calibrated_model.predict_proba(X_test)[:, 1]\n",
    "precisions, recalls, thresholds = precision_recall_curve(y_test_encoded, probs)\n",
    "\n",
    "# Plot precision-recall vs threshold\n",
    "import matplotlib.pyplot as plt\n",
    "plt.plot(thresholds, precisions[:-1], label='Precision')\n",
    "plt.plot(thresholds, recalls[:-1], label='Recall')\n",
    "plt.xlabel('Threshold')\n",
    "plt.ylabel('Score')\n",
    "plt.legend()\n",
    "plt.grid()\n",
    "plt.show()\n"
   ]
  },
  {
   "cell_type": "code",
   "execution_count": 28,
   "metadata": {},
   "outputs": [],
   "source": [
    "from sklearn.dummy import DummyClassifier\n",
    "from sklearn.metrics import classification_report, accuracy_score\n",
    "\n",
    "dummy = DummyClassifier(strategy='uniform')  # Or try 'stratified', 'uniform'\n",
    "dummy.fit(X, y)\n",
    "y_dummy_pred = dummy.predict(X_test)\n"
   ]
  },
  {
   "cell_type": "code",
   "execution_count": 29,
   "metadata": {},
   "outputs": [
    {
     "name": "stdout",
     "output_type": "stream",
     "text": [
      "Dummy Classifier Performance:\n",
      "              precision    recall  f1-score   support\n",
      "\n",
      "           0       0.57      0.51      0.54     12833\n",
      "           1       0.43      0.50      0.47      9711\n",
      "\n",
      "    accuracy                           0.50     22544\n",
      "   macro avg       0.50      0.50      0.50     22544\n",
      "weighted avg       0.51      0.50      0.51     22544\n",
      "\n",
      "Accuracy: 0.504568843151171\n"
     ]
    }
   ],
   "source": [
    "\n",
    "print(\"Dummy Classifier Performance:\")\n",
    "print(classification_report(y_test_encoded, y_dummy_pred))\n",
    "print(\"Accuracy:\", accuracy_score(y_test_encoded, y_dummy_pred))\n"
   ]
  }
 ],
 "metadata": {
  "kernelspec": {
   "display_name": "pytorch",
   "language": "python",
   "name": "python3"
  },
  "language_info": {
   "codemirror_mode": {
    "name": "ipython",
    "version": 3
   },
   "file_extension": ".py",
   "mimetype": "text/x-python",
   "name": "python",
   "nbconvert_exporter": "python",
   "pygments_lexer": "ipython3",
   "version": "3.10.4"
  }
 },
 "nbformat": 4,
 "nbformat_minor": 2
}
