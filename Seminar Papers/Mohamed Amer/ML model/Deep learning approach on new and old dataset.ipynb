{
 "cells": [
  {
   "cell_type": "code",
   "execution_count": null,
   "metadata": {
    "execution": {
     "iopub.execute_input": "2025-05-22T14:12:03.975928Z",
     "iopub.status.busy": "2025-05-22T14:12:03.975580Z",
     "iopub.status.idle": "2025-05-22T14:12:03.988212Z",
     "shell.execute_reply": "2025-05-22T14:12:03.987651Z",
     "shell.execute_reply.started": "2025-05-22T14:12:03.975913Z"
    },
    "trusted": true
   },
   "outputs": [],
   "source": [
    "import tensorflow as tf\n",
    "from tensorflow.keras import layers, models\n",
    "import pandas as pd\n",
    "from sklearn.preprocessing import LabelEncoder\n",
    "from sklearn.preprocessing import OneHotEncoder\n",
    "from sklearn.model_selection import train_test_split\n",
    "from scipy.io import arff\n",
    "from sklearn.preprocessing import OneHotEncoder, LabelEncoder, StandardScaler\n",
    "from keras import models, layers, regularizers\n",
    "from keras.layers import BatchNormalization, Dropout\n",
    "from keras.callbacks import EarlyStopping, ReduceLROnPlateau"
   ]
  },
  {
   "cell_type": "code",
   "execution_count": null,
   "metadata": {
    "execution": {
     "iopub.execute_input": "2025-05-22T14:12:03.989040Z",
     "iopub.status.busy": "2025-05-22T14:12:03.988834Z",
     "iopub.status.idle": "2025-05-22T14:12:04.216402Z",
     "shell.execute_reply": "2025-05-22T14:12:04.215672Z",
     "shell.execute_reply.started": "2025-05-22T14:12:03.989024Z"
    },
    "trusted": true
   },
   "outputs": [],
   "source": [
    "file_path =r'/kaggle/input/traindataset/Train_data.csv'\n",
    "X=pd.read_csv(file_path)\n",
    "\n",
    "always_zero_features= ['num_outbound_cmds', 'is_host_login']\n",
    "X.drop(always_zero_features, axis=1, inplace=True)\n",
    "print(X['class'].value_counts())\n",
    "print(X.isnull().sum())\n",
    "y= X['class']\n",
    "X.drop('class', axis=1, inplace=True)\n",
    "categorical_cols=X.select_dtypes(include=['object']).columns\n",
    "print(categorical_cols)\n",
    "encoder = OneHotEncoder(sparse=False) \n",
    "encoded_categories = encoder.fit_transform(X[['protocol_type', 'service','flag']])\n",
    "\n",
    "\n",
    "encoded_df = pd.DataFrame(encoded_categories, columns=encoder.get_feature_names_out(['protocol_type', 'service','flag']))\n",
    "\n",
    "X_copy = X.copy()\n",
    "\n",
    "# Drop the columns and concatenate\n",
    "X_copy.drop(columns=['protocol_type', 'service', 'flag'], inplace=True)\n",
    "X_full = pd.concat([X_copy, encoded_df], axis=1)\n",
    "binary_cols = [col for col in X_full.columns if X_full[col].dropna().nunique() == 2]\n",
    "non_binary_cols = [col for col in X_full.columns if col not in binary_cols and X_full[col].dtype in ['int64', 'float64']]\n",
    "\n",
    "# Scale only non-binary numerical columns\n",
    "scaler = StandardScaler()\n",
    "df_scaled = X_full.copy()\n",
    "df_scaled[non_binary_cols] = scaler.fit_transform(X_full[non_binary_cols])\n",
    "df_scaled.head()\n",
    "\n",
    "\n",
    "encoder = LabelEncoder()\n",
    "y_encoded = encoder.fit_transform(y)\n",
    "y_encoded= pd.DataFrame(y_encoded, index=y.index, columns=['class'])\n",
    "X_train, X_valid, y_train, y_valid = train_test_split(X_full, y_encoded, train_size=0.8, test_size=0.2,\n",
    "                                                      random_state=0)"
   ]
  },
  {
   "cell_type": "code",
   "execution_count": null,
   "metadata": {
    "execution": {
     "iopub.execute_input": "2025-05-22T14:12:04.217315Z",
     "iopub.status.busy": "2025-05-22T14:12:04.217061Z",
     "iopub.status.idle": "2025-05-22T14:12:04.222238Z",
     "shell.execute_reply": "2025-05-22T14:12:04.221449Z",
     "shell.execute_reply.started": "2025-05-22T14:12:04.217291Z"
    },
    "trusted": true
   },
   "outputs": [],
   "source": [
    "len(X_train.columns)"
   ]
  },
  {
   "cell_type": "code",
   "execution_count": null,
   "metadata": {
    "execution": {
     "iopub.execute_input": "2025-05-22T14:12:04.224626Z",
     "iopub.status.busy": "2025-05-22T14:12:04.224373Z",
     "iopub.status.idle": "2025-05-22T14:12:04.300841Z",
     "shell.execute_reply": "2025-05-22T14:12:04.300347Z",
     "shell.execute_reply.started": "2025-05-22T14:12:04.224610Z"
    },
    "trusted": true
   },
   "outputs": [],
   "source": [
    "from tensorflow.keras.layers import BatchNormalization, Dropout\n",
    "from tensorflow.keras.callbacks import ReduceLROnPlateau\n",
    "from tensorflow.keras.callbacks import EarlyStopping\n",
    "from tensorflow.keras import regularizers \n",
    "#Model Definition\n",
    "model = models.Sequential([\n",
    "   \n",
    "    BatchNormalization(input_shape=(116,)),\n",
    "\n",
    " \n",
    "    layers.Dense(128, activation='relu', kernel_regularizer=regularizers.l2(0.01)), \n",
    "    BatchNormalization(),\n",
    "    Dropout(0.4), \n",
    "\n",
    "\n",
    "    layers.Dense(64, activation='relu', kernel_regularizer=regularizers.l2(0.01)),\n",
    "    BatchNormalization(),\n",
    "    Dropout(0.3), \n",
    "\n",
    "\n",
    "    layers.Dense(32, activation='relu', kernel_regularizer=regularizers.l2(0.01)),\n",
    "    BatchNormalization(),\n",
    "    Dropout(0.4), \n",
    "\n",
    "    layers.Dense(1, activation='sigmoid') \n",
    "])"
   ]
  },
  {
   "cell_type": "code",
   "execution_count": null,
   "metadata": {
    "execution": {
     "iopub.execute_input": "2025-05-22T14:12:04.301926Z",
     "iopub.status.busy": "2025-05-22T14:12:04.301694Z",
     "iopub.status.idle": "2025-05-22T14:12:04.305388Z",
     "shell.execute_reply": "2025-05-22T14:12:04.304611Z",
     "shell.execute_reply.started": "2025-05-22T14:12:04.301905Z"
    },
    "trusted": true
   },
   "outputs": [],
   "source": [
    "reduce_lr = ReduceLROnPlateau(\n",
    "    monitor='val_loss',\n",
    "    factor=0.5, \n",
    "    patience=10, \n",
    "    min_lr=0.00001,\n",
    "    verbose=1\n",
    ")\n"
   ]
  },
  {
   "cell_type": "code",
   "execution_count": null,
   "metadata": {
    "execution": {
     "iopub.execute_input": "2025-05-22T14:12:04.306443Z",
     "iopub.status.busy": "2025-05-22T14:12:04.306161Z",
     "iopub.status.idle": "2025-05-22T14:12:04.319767Z",
     "shell.execute_reply": "2025-05-22T14:12:04.319235Z",
     "shell.execute_reply.started": "2025-05-22T14:12:04.306428Z"
    },
    "trusted": true
   },
   "outputs": [],
   "source": [
    "early_stopping = EarlyStopping(monitor='val_loss', patience=15, restore_best_weights=True)"
   ]
  },
  {
   "cell_type": "code",
   "execution_count": null,
   "metadata": {
    "execution": {
     "iopub.execute_input": "2025-05-22T14:12:04.320681Z",
     "iopub.status.busy": "2025-05-22T14:12:04.320454Z",
     "iopub.status.idle": "2025-05-22T14:12:04.339451Z",
     "shell.execute_reply": "2025-05-22T14:12:04.338776Z",
     "shell.execute_reply.started": "2025-05-22T14:12:04.320662Z"
    },
    "trusted": true
   },
   "outputs": [],
   "source": [
    "model.compile(\n",
    "    optimizer='adam',\n",
    "    loss='binary_crossentropy',  \n",
    "    metrics=['accuracy']\n",
    ")"
   ]
  },
  {
   "cell_type": "code",
   "execution_count": null,
   "metadata": {
    "execution": {
     "iopub.execute_input": "2025-05-22T14:12:04.340402Z",
     "iopub.status.busy": "2025-05-22T14:12:04.340155Z",
     "iopub.status.idle": "2025-05-22T14:12:14.945559Z",
     "shell.execute_reply": "2025-05-22T14:12:14.944109Z",
     "shell.execute_reply.started": "2025-05-22T14:12:04.340379Z"
    },
    "trusted": true
   },
   "outputs": [],
   "source": [
    "history=model.fit(\n",
    "    X_train, y_train,\n",
    "    epochs=500,\n",
    "    batch_size=256,\n",
    "    validation_data=(X_valid, y_valid),\n",
    "    callbacks=[early_stopping,reduce_lr]\n",
    ")"
   ]
  },
  {
   "cell_type": "code",
   "execution_count": null,
   "metadata": {
    "execution": {
     "iopub.status.busy": "2025-05-22T14:12:14.945970Z",
     "iopub.status.idle": "2025-05-22T14:12:14.946204Z",
     "shell.execute_reply": "2025-05-22T14:12:14.946084Z",
     "shell.execute_reply.started": "2025-05-22T14:12:14.946076Z"
    },
    "trusted": true
   },
   "outputs": [],
   "source": [
    "train_acc = history.history['accuracy']  \n",
    "\n",
    "# Validation accuracy for each epoch\n",
    "val_acc = history.history['val_accuracy']  "
   ]
  },
  {
   "cell_type": "code",
   "execution_count": null,
   "metadata": {
    "execution": {
     "iopub.status.busy": "2025-05-22T14:12:14.947406Z",
     "iopub.status.idle": "2025-05-22T14:12:14.947707Z",
     "shell.execute_reply": "2025-05-22T14:12:14.947568Z",
     "shell.execute_reply.started": "2025-05-22T14:12:14.947555Z"
    },
    "trusted": true
   },
   "outputs": [],
   "source": [
    "import matplotlib.pyplot as plt\n",
    "\n",
    "plt.plot(train_acc, label='Training Accuracy')\n",
    "plt.plot(val_acc, label='Validation Accuracy')\n",
    "plt.xlabel('Epoch')\n",
    "plt.ylabel('Accuracy')\n",
    "plt.legend()\n",
    "plt.show()"
   ]
  },
  {
   "cell_type": "code",
   "execution_count": null,
   "metadata": {
    "execution": {
     "iopub.execute_input": "2025-05-22T14:32:20.863353Z",
     "iopub.status.busy": "2025-05-22T14:32:20.862975Z",
     "iopub.status.idle": "2025-05-22T14:32:57.969412Z",
     "shell.execute_reply": "2025-05-22T14:32:57.968830Z",
     "shell.execute_reply.started": "2025-05-22T14:32:20.863331Z"
    },
    "trusted": true
   },
   "outputs": [],
   "source": [
    "#Data preprocessing for train modified data\n",
    "train_path = '/kaggle/input/modified-dataset/KDDTrain.arff'\n",
    "data_train, meta_train = arff.loadarff(train_path)\n",
    "df_train = pd.DataFrame(data_train)\n",
    "\n",
    "for col in df_train.select_dtypes([object]).columns:\n",
    "    df_train[col] = df_train[col].str.decode('utf-8')\n",
    "\n",
    "y_train = df_train['class']\n",
    "X_train = df_train.drop(['num_outbound_cmds', 'is_host_login', 'is_guest_login', 'class'], axis=1)\n",
    "\n",
    "categorical_cols_to_encode = ['protocol_type', 'service', 'flag']\n",
    "cols_to_drop_after_splitting = ['protocol_type', 'service', 'flag']\n",
    "\n",
    "\n",
    "onehot_encoder = OneHotEncoder(sparse_output=False, handle_unknown='ignore')\n",
    "\n",
    "encoded_features_train = onehot_encoder.fit_transform(X_train[categorical_cols_to_encode])\n",
    "encoded_df_train = pd.DataFrame(encoded_features_train, columns=onehot_encoder.get_feature_names_out(categorical_cols_to_encode), index=X_train.index)\n",
    "\n",
    "X_train_numerical = X_train.drop(columns=cols_to_drop_after_splitting)\n",
    "X_train_preprocessed = pd.concat([X_train_numerical, encoded_df_train], axis=1)\n",
    "\n",
    "\n",
    "binary_cols_train = [col for col in X_train_preprocessed.columns if X_train_preprocessed[col].dropna().nunique() == 2 and X_train_preprocessed[col].dtype in ['int64', 'float64']]\n",
    "non_binary_cols_train = [col for col in X_train_preprocessed.columns if col not in binary_cols_train and X_train_preprocessed[col].dtype in ['int64', 'float64']]\n",
    "\n",
    "\n",
    "scaler = StandardScaler()\n",
    "df_scaled_train = X_train_preprocessed.copy()\n",
    "df_scaled_train[non_binary_cols_train] = scaler.fit_transform(X_train_preprocessed[non_binary_cols_train])\n",
    "\n",
    "\n",
    "label_encoder = LabelEncoder()\n",
    "y_encoded_train = label_encoder.fit_transform(y_train)\n",
    "y_encoded_train = pd.DataFrame(y_encoded_train, index=y_train.index, columns=['class'])\n",
    "\n",
    "print(f\"Shape of df_scaled_train (training features): {df_scaled_train.shape}\")\n",
    "\n",
    "\n",
    "# new test data preprocessing\n",
    "test_path = r'/kaggle/input/testnew/KDDTest.arff'\n",
    "data_test, meta_test = arff.loadarff(test_path)\n",
    "df_test = pd.DataFrame(data_test)\n",
    "\n",
    "for col in df_test.select_dtypes([object]).columns:\n",
    "    df_test[col] = df_test[col].str.decode('utf-8')\n",
    "\n",
    "y_test = df_test['class']\n",
    "X_test = df_test.drop(['class'], axis=1) \n",
    "\n",
    "encoded_features_test = onehot_encoder.transform(X_test[categorical_cols_to_encode])\n",
    "encoded_df_test = pd.DataFrame(encoded_features_test, columns=onehot_encoder.get_feature_names_out(categorical_cols_to_encode), index=X_test.index)\n",
    "\n",
    "X_test_numerical = X_test.drop(columns=cols_to_drop_after_splitting)\n",
    "X_test_preprocessed = pd.concat([X_test_numerical, encoded_df_test], axis=1)\n",
    "\n",
    "missing_cols_in_test = set(X_train_preprocessed.columns) - set(X_test_preprocessed.columns)\n",
    "for col in missing_cols_in_test:\n",
    "    X_test_preprocessed[col] = 0\n",
    "\n",
    "X_test_preprocessed = X_test_preprocessed[X_train_preprocessed.columns]\n",
    "\n",
    "df_scaled_test = X_test_preprocessed.copy()\n",
    "df_scaled_test[non_binary_cols_train] = scaler.transform(X_test_preprocessed[non_binary_cols_train]) \n",
    "\n",
    "\n",
    "y_encoded_test = label_encoder.transform(y_test)\n",
    "y_encoded_test = pd.DataFrame(y_encoded_test, index=y_test.index, columns=['class'])\n",
    "\n",
    "print(f\"Shape of df_scaled_test (test features): {df_scaled_test.shape}\")\n",
    "\n",
    "assert df_scaled_train.shape[1] == df_scaled_test.shape[1], \\\n",
    "    f\"Number of features in training ({df_scaled_train.shape[1]}) and test sets ({df_scaled_test.shape[1]}) do not match!\"\n",
    "assert df_scaled_train.shape[0] == y_encoded_train.shape[0], \\\n",
    "    \"Number of rows in training features and labels do not match!\"\n",
    "assert df_scaled_test.shape[0] == y_encoded_test.shape[0], \\\n",
    "    \"Number of rows in test features and labels do not match!\"\n",
    "\n",
    "\n",
    "input_dim = df_scaled_train.shape[1]\n",
    "print(f\"Detected input dimension for the model: {input_dim}\")"
   ]
  },
  {
   "cell_type": "code",
   "execution_count": null,
   "metadata": {
    "execution": {
     "iopub.execute_input": "2025-05-22T14:45:36.550399Z",
     "iopub.status.busy": "2025-05-22T14:45:36.550082Z",
     "iopub.status.idle": "2025-05-22T14:47:36.959477Z",
     "shell.execute_reply": "2025-05-22T14:47:36.958788Z",
     "shell.execute_reply.started": "2025-05-22T14:45:36.550380Z"
    },
    "trusted": true
   },
   "outputs": [],
   "source": [
    "#Model Definition\n",
    "model = models.Sequential([\n",
    "    BatchNormalization(input_shape=(input_dim,)),\n",
    "    layers.Dense(32, activation='relu', kernel_regularizer=regularizers.l2(0.05)),\n",
    "    BatchNormalization(),\n",
    "    Dropout(0.5),\n",
    "    layers.Dense(16, activation='relu', kernel_regularizer=regularizers.l2(0.05)),\n",
    "    BatchNormalization(),\n",
    "    Dropout(0.5),\n",
    "    layers.Dense(1, activation='sigmoid')\n",
    "])\n",
    "\n",
    "\n",
    "\n",
    "model.compile(optimizer=tf.keras.optimizers.Adam(learning_rate=0.0005),\n",
    "              loss='binary_crossentropy',\n",
    "              metrics=['accuracy'])\n",
    "\n",
    "early_stopping_2 = EarlyStopping(monitor='val_loss', patience=20, restore_best_weights=True) \n",
    "reduce_lr_2 = ReduceLROnPlateau(\n",
    "    monitor='val_loss',\n",
    "    factor=0.5,\n",
    "    patience=10, \n",
    "    min_lr=0.00001,\n",
    "    verbose=1\n",
    ")\n",
    "\n",
    "\n",
    "history_2 = model.fit(\n",
    "    df_scaled_train, y_encoded_train,\n",
    "    epochs=500, \n",
    "    batch_size=64,\n",
    "    validation_data=(df_scaled_test, y_encoded_test),\n",
    "    callbacks=[early_stopping_2, reduce_lr_2]\n",
    ")\n",
    "\n",
    "\n",
    "\n",
    "\n",
    "plt.figure(figsize=(12, 6))\n",
    "plt.plot(history_2.history['accuracy'], label='Training Accuracy')\n",
    "plt.plot(history_2.history['val_accuracy'], label='Validation Accuracy')\n",
    "plt.xlabel('Epoch')\n",
    "plt.ylabel('Accuracy')\n",
    "plt.title('Training and Validation Accuracy')\n",
    "plt.legend()\n",
    "plt.grid(True)\n",
    "plt.show()\n",
    "\n",
    "plt.figure(figsize=(12, 6))\n",
    "plt.plot(history_2.history['loss'], label='Training Loss')\n",
    "plt.plot(history_2.history['val_loss'], label='Validation Loss')\n",
    "plt.xlabel('Epoch')\n",
    "plt.ylabel('Loss')\n",
    "plt.title('Training and Validation Loss')\n",
    "plt.legend()\n",
    "plt.grid(True)\n",
    "plt.show()"
   ]
  },
  {
   "cell_type": "code",
   "execution_count": null,
   "metadata": {
    "execution": {
     "iopub.execute_input": "2025-05-22T14:36:50.128966Z",
     "iopub.status.busy": "2025-05-22T14:36:50.128711Z",
     "iopub.status.idle": "2025-05-22T14:36:50.132679Z",
     "shell.execute_reply": "2025-05-22T14:36:50.131878Z",
     "shell.execute_reply.started": "2025-05-22T14:36:50.128949Z"
    },
    "trusted": true
   },
   "outputs": [],
   "source": [
    "train_acc = history_2.history['accuracy']  # or 'acc' in some older versions\n",
    "\n",
    "# Validation accuracy for each epoch\n",
    "val_acc = history_2.history['val_accuracy']  # or 'val_acc'"
   ]
  },
  {
   "cell_type": "code",
   "execution_count": null,
   "metadata": {
    "execution": {
     "iopub.execute_input": "2025-05-22T14:36:51.423467Z",
     "iopub.status.busy": "2025-05-22T14:36:51.422795Z",
     "iopub.status.idle": "2025-05-22T14:36:51.571391Z",
     "shell.execute_reply": "2025-05-22T14:36:51.570731Z",
     "shell.execute_reply.started": "2025-05-22T14:36:51.423443Z"
    },
    "trusted": true
   },
   "outputs": [],
   "source": [
    "\n",
    "\n",
    "plt.plot(train_acc, label='Training Accuracy')\n",
    "plt.plot(val_acc, label='Validation Accuracy')\n",
    "plt.xlabel('Epoch')\n",
    "plt.ylabel('Accuracy')\n",
    "plt.legend()\n",
    "plt.show()"
   ]
  },
  {
   "cell_type": "code",
   "execution_count": null,
   "metadata": {
    "execution": {
     "iopub.status.busy": "2025-05-22T14:12:14.958038Z",
     "iopub.status.idle": "2025-05-22T14:12:14.958317Z",
     "shell.execute_reply": "2025-05-22T14:12:14.958200Z",
     "shell.execute_reply.started": "2025-05-22T14:12:14.958168Z"
    },
    "trusted": true
   },
   "outputs": [],
   "source": [
    "train_acc_2 = history_2.history['accuracy']  # or 'acc' in some older versions\n",
    "\n",
    "# Validation accuracy for each epoch\n",
    "val_acc_2 = history_2.history['val_accuracy']  # or 'val_acc'"
   ]
  },
  {
   "cell_type": "code",
   "execution_count": null,
   "metadata": {
    "execution": {
     "iopub.status.busy": "2025-05-22T14:12:14.960037Z",
     "iopub.status.idle": "2025-05-22T14:12:14.960304Z",
     "shell.execute_reply": "2025-05-22T14:12:14.960194Z",
     "shell.execute_reply.started": "2025-05-22T14:12:14.960164Z"
    },
    "trusted": true
   },
   "outputs": [],
   "source": [
    "import matplotlib.pyplot as plt\n",
    "\n",
    "plt.plot(train_acc_2, label='Training Accuracy')\n",
    "plt.plot(val_acc_2, label='Validation Accuracy')\n",
    "plt.xlabel('Epoch')\n",
    "plt.ylabel('Accuracy')\n",
    "plt.legend()\n",
    "plt.show()"
   ]
  },
  {
   "cell_type": "code",
   "execution_count": null,
   "metadata": {
    "execution": {
     "iopub.status.busy": "2025-05-22T14:12:14.961232Z",
     "iopub.status.idle": "2025-05-22T14:12:14.961445Z",
     "shell.execute_reply": "2025-05-22T14:12:14.961350Z",
     "shell.execute_reply.started": "2025-05-22T14:12:14.961341Z"
    },
    "trusted": true
   },
   "outputs": [],
   "source": []
  }
 ],
 "metadata": {
  "kaggle": {
   "accelerator": "gpu",
   "dataSources": [
    {
     "datasetId": 7477627,
     "sourceId": 11895950,
     "sourceType": "datasetVersion"
    },
    {
     "datasetId": 7481345,
     "sourceId": 11901302,
     "sourceType": "datasetVersion"
    },
    {
     "datasetId": 7487282,
     "sourceId": 11909845,
     "sourceType": "datasetVersion"
    }
   ],
   "dockerImageVersionId": 31041,
   "isGpuEnabled": true,
   "isInternetEnabled": true,
   "language": "python",
   "sourceType": "notebook"
  },
  "kernelspec": {
   "display_name": "deep",
   "language": "python",
   "name": "python3"
  },
  "language_info": {
   "codemirror_mode": {
    "name": "ipython",
    "version": 3
   },
   "file_extension": ".py",
   "mimetype": "text/x-python",
   "name": "python",
   "nbconvert_exporter": "python",
   "pygments_lexer": "ipython3",
   "version": "3.10.13"
  }
 },
 "nbformat": 4,
 "nbformat_minor": 4
}
