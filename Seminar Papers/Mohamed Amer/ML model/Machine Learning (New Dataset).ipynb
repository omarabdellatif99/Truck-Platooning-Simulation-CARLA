{
 "cells": [
  {
   "cell_type": "code",
   "execution_count": null,
   "id": "21882188",
   "metadata": {},
   "outputs": [],
   "source": [
    "import pandas as pd\n",
    "import numpy as np\n",
    "from sklearn.model_selection import train_test_split\n",
    "from sklearn.ensemble import RandomForestClassifier\n",
    "from sklearn.preprocessing import OrdinalEncoder\n",
    "from sklearn.preprocessing import OneHotEncoder\n",
    "from sklearn.preprocessing import LabelEncoder\n",
    "from sklearn.metrics import accuracy_score, classification_report\n",
    "import matplotlib.pyplot as plt\n",
    "from sklearn.model_selection import cross_val_score\n",
    "from scipy.io import arff\n",
    "from sklearn.model_selection import GridSearchCV\n",
    "\n",
    "pd.set_option('display.max_columns', None)"
   ]
  },
  {
   "cell_type": "code",
   "execution_count": null,
   "id": "d443f87a",
   "metadata": {},
   "outputs": [],
   "source": [
    "path = r'D:\\Studies\\Fourth Semester\\Autonomous Systems A\\Truck-Platooning-Simulation-CARLA\\Seminar Papers\\Mohamed Amer\\ML model\\NSL-KDD new dataset\\KDDTrain+.arff'\n",
    "data, meta = arff.loadarff(path)\n",
    "\n",
    "# Convert to DataFrame\n",
    "df = pd.DataFrame(data)\n",
    "\n",
    "# Decode byte strings\n",
    "for col in df.select_dtypes([object]):\n",
    "    df[col] = df[col].str.decode('utf-8')\n",
    "\n",
    "# Show first few rows\n",
    "print(df.describe(include='all'))"
   ]
  },
  {
   "cell_type": "code",
   "execution_count": null,
   "id": "a515cc2f",
   "metadata": {},
   "outputs": [],
   "source": [
    "# Check for missing values\n",
    "print(df.isnull().sum())\n",
    "#Drop always Zero columns\n",
    "df = df.drop(['num_outbound_cmds', 'is_host_login', 'is_guest_login'], axis=1)"
   ]
  },
  {
   "cell_type": "code",
   "execution_count": null,
   "id": "90fed7e3",
   "metadata": {},
   "outputs": [],
   "source": [
    "#encoding the class column\n",
    "le = LabelEncoder()\n",
    "df['class'] = le.fit_transform(df['class'])\n",
    "y=df['class']\n"
   ]
  },
  {
   "cell_type": "code",
   "execution_count": null,
   "id": "1d02683a",
   "metadata": {},
   "outputs": [],
   "source": [
    "categorical_cols=df.select_dtypes(include=['object']).columns\n",
    "print(categorical_cols)"
   ]
  },
  {
   "cell_type": "code",
   "execution_count": null,
   "id": "2fae9549",
   "metadata": {},
   "outputs": [],
   "source": [
    "# One-hot encoding categorical features\n",
    "encoder = OneHotEncoder(sparse=False) \n",
    "encoded_categories = encoder.fit_transform(df[['protocol_type', 'service', 'flag', 'land', 'logged_in']])\n",
    "encoded_df = pd.DataFrame(encoded_categories, columns=encoder.get_feature_names_out(['protocol_type', 'service', 'flag', 'land', 'logged_in']))\n",
    "X_copy = df.copy()\n",
    "X_copy.drop(columns=['protocol_type', 'service', 'flag', 'land', 'logged_in'], inplace=True)\n",
    "X_full = pd.concat([X_copy, encoded_df], axis=1)\n",
    "X_full = X_full.drop(['class'], axis=1)"
   ]
  },
  {
   "cell_type": "code",
   "execution_count": null,
   "id": "66614d52",
   "metadata": {},
   "outputs": [],
   "source": [
    "#inital model to test\n",
    "rf = RandomForestClassifier(\n",
    "    n_estimators=500,\n",
    "    max_depth=None,\n",
    "    min_samples_split=10,\n",
    "    min_samples_leaf=5,\n",
    "    max_features='log2',\n",
    "    random_state=42,\n",
    "    class_weight='balanced'\n",
    ")\n",
    "rf.fit(X_full, y)\n",
    "\n",
    "#feature importances\n",
    "importances = rf.feature_importances_\n",
    "feature_names = X_full.columns\n",
    "\n",
    "feature_importance_df = pd.DataFrame({\n",
    "    'feature': feature_names,\n",
    "    'importance': importances\n",
    "})\n",
    "feature_importance_df.sort_values(by='importance', ascending=False, inplace=True)\n"
   ]
  },
  {
   "cell_type": "code",
   "execution_count": null,
   "id": "76214055",
   "metadata": {},
   "outputs": [],
   "source": [
    "\n",
    "#Plot top features and reduce dimensions\n",
    "top_n = 30\n",
    "plt.figure(figsize=(10, 6))\n",
    "plt.title(\"Top Feature Importances\")\n",
    "plt.barh(feature_importance_df['feature'][:top_n][::-1], feature_importance_df['importance'][:top_n][::-1])\n",
    "plt.xlabel(\"Importance\")\n",
    "plt.tight_layout()\n",
    "plt.show()\n",
    "top_features = feature_importance_df['feature'].iloc[:top_n].values\n",
    "X_reduced = X_full[top_features]\n"
   ]
  },
  {
   "cell_type": "code",
   "execution_count": null,
   "id": "b33a1514",
   "metadata": {},
   "outputs": [],
   "source": [
    "\n",
    "# Finding best parameters\n",
    "param_grid = {\n",
    "    'n_estimators': [100, 300],\n",
    "    'max_depth': [None, 10, 30],\n",
    "    'min_samples_split': [2, 10],\n",
    "    'min_samples_leaf': [1, 5],\n",
    "    'max_features': ['sqrt', 'log2'],\n",
    "    'class_weight': ['balanced']\n",
    "}\n",
    "\n",
    "grid_search = GridSearchCV(\n",
    "    RandomForestClassifier(random_state=42),\n",
    "    param_grid,\n",
    "    cv=3,\n",
    "    scoring='f1_macro',\n",
    "    n_jobs=-1\n",
    ")\n",
    "\n",
    "grid_search.fit(X_reduced, y)\n",
    "\n"
   ]
  },
  {
   "cell_type": "code",
   "execution_count": null,
   "id": "1ebf3d8a",
   "metadata": {},
   "outputs": [],
   "source": [
    "\n",
    "print(\"Best parameters found:\")\n",
    "print(grid_search.best_params_)\n",
    "\n",
    "print(\"Best F1 macro score:\")\n",
    "print(grid_search.best_score_)"
   ]
  },
  {
   "cell_type": "code",
   "execution_count": null,
   "id": "891183e8",
   "metadata": {},
   "outputs": [],
   "source": [
    "rf = RandomForestClassifier(\n",
    "    n_estimators=100,\n",
    "    max_depth=None,\n",
    "    min_samples_split=2,\n",
    "    min_samples_leaf=1,\n",
    "    max_features='sqrt',\n",
    "    random_state=42,\n",
    "    class_weight='balanced'\n",
    ")\n",
    "rf.fit(X_full, y)"
   ]
  },
  {
   "cell_type": "code",
   "execution_count": null,
   "id": "c47b2573",
   "metadata": {},
   "outputs": [],
   "source": [
    "test_path = r'D:\\Studies\\Fourth Semester\\Autonomous Systems A\\Truck-Platooning-Simulation-CARLA\\Seminar Papers\\Mohamed Amer\\ML model\\NSL-KDD new dataset\\KDDTest+.arff'\n",
    "data_test, meta_test = arff.loadarff(test_path)\n",
    "df_test = pd.DataFrame(data_test)\n",
    "for col in df_test.select_dtypes([object]):\n",
    "    df_test[col] = df_test[col].str.decode('utf-8')\n"
   ]
  },
  {
   "cell_type": "code",
   "execution_count": null,
   "id": "b335d019",
   "metadata": {},
   "outputs": [],
   "source": [
    "encoded_categories_test = encoder.transform(df_test[['protocol_type', 'service', 'flag', 'land', 'logged_in']])\n",
    "\n",
    "encoded_df_test = pd.DataFrame(encoded_categories_test, columns=encoder.get_feature_names_out(['protocol_type', 'service', 'flag', 'land', 'logged_in']))\n",
    "\n",
    "df_test_copy = df_test.copy()\n",
    "\n",
    "df_test_copy.drop(columns=['protocol_type', 'service', 'flag', 'land', 'logged_in','num_outbound_cmds', 'is_host_login', 'is_guest_login'], inplace=True)\n",
    "\n",
    "X_test_full = pd.concat([df_test_copy, encoded_df_test], axis=1)"
   ]
  },
  {
   "cell_type": "code",
   "execution_count": null,
   "id": "93077c4e",
   "metadata": {},
   "outputs": [],
   "source": [
    "# Drop target column from test features\n",
    "X_test_full = X_test_full.drop(['class'], axis=1)\n",
    "x_test_full = X_test_full[top_features]\n",
    "\n",
    "y_test = df_test['class']"
   ]
  },
  {
   "cell_type": "code",
   "execution_count": null,
   "id": "896069fa",
   "metadata": {},
   "outputs": [],
   "source": [
    "\n",
    "y_test_encoded = le.transform(y_test)  \n",
    "y_pred = rf.predict(X_test_full)\n",
    "\n",
    "print(\"Accuracy:\", accuracy_score(y_test_encoded, y_pred))\n",
    "print(classification_report(y_test_encoded, y_pred))"
   ]
  },
  {
   "cell_type": "code",
   "execution_count": null,
   "id": "ae948b5f",
   "metadata": {},
   "outputs": [],
   "source": [
    "import seaborn as sns\n",
    "from sklearn.metrics import confusion_matrix\n",
    "report = classification_report(y_test_encoded, y_pred, output_dict=True)\n",
    "report_df = pd.DataFrame(report).transpose()\n",
    "plt.figure(figsize=(10, 6))\n",
    "sns.heatmap(report_df.iloc[:-1, :-1], annot=True, cmap='Blues', fmt=\".2f\")\n",
    "plt.title(\"Classification Report Heatmap\")\n",
    "plt.show()\n",
    "cm = confusion_matrix(y_test_encoded, y_pred)\n",
    "plt.figure(figsize=(6, 5))\n",
    "sns.heatmap(cm, annot=True, fmt='d', cmap='Oranges', xticklabels=['Normal', 'Attack'], yticklabels=['Normal', 'Attack'])\n",
    "plt.xlabel('Predicted')\n",
    "plt.ylabel('Actual')\n",
    "plt.title('Confusion Matrix')\n",
    "plt.show()"
   ]
  }
 ],
 "metadata": {
  "kernelspec": {
   "display_name": "pytorch",
   "language": "python",
   "name": "python3"
  },
  "language_info": {
   "codemirror_mode": {
    "name": "ipython",
    "version": 3
   },
   "file_extension": ".py",
   "mimetype": "text/x-python",
   "name": "python",
   "nbconvert_exporter": "python",
   "pygments_lexer": "ipython3",
   "version": "3.10.4"
  }
 },
 "nbformat": 4,
 "nbformat_minor": 5
}
