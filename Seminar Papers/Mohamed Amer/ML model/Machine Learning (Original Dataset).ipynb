{
 "cells": [
  {
   "cell_type": "code",
   "execution_count": null,
   "id": "dd7837f8",
   "metadata": {},
   "outputs": [],
   "source": [
    "#Importing imp packages\n",
    "import pandas as pd\n",
    "import numpy as np\n",
    "from sklearn.model_selection import train_test_split\n",
    "from sklearn.ensemble import RandomForestClassifier\n",
    "from sklearn.preprocessing import OrdinalEncoder\n",
    "from sklearn.preprocessing import OneHotEncoder\n",
    "from sklearn.preprocessing import LabelEncoder\n",
    "from sklearn.metrics import accuracy_score, classification_report\n",
    "from sklearn.model_selection import cross_val_score\n",
    "import matplotlib.pyplot as plt\n",
    "\n",
    "\n",
    "pd.set_option('display.max_columns', None)"
   ]
  },
  {
   "cell_type": "code",
   "execution_count": null,
   "id": "e85c4427",
   "metadata": {},
   "outputs": [],
   "source": [
    "#Reading of data and previewing it\n",
    "train_file_path= 'D:/Studies/Fourth Semester/Autonomous Systems A\\Truck-Platooning-Simulation-CARLA/Seminar Papers/Mohamed Amer/ML model/KDD1999 CUP data/Train_data.csv'\n",
    "test_file_path = 'D:/Studies/Fourth Semester/Autonomous Systems A/ML model/Data/corrected.gz'\n",
    "X = pd.read_csv(train_file_path)\n",
    "\n",
    "print(X.iloc[:0])\n"
   ]
  },
  {
   "cell_type": "code",
   "execution_count": null,
   "id": "69136341",
   "metadata": {},
   "outputs": [],
   "source": [
    "#Manually analysing the data\n",
    "print(X.describe())\n"
   ]
  },
  {
   "cell_type": "code",
   "execution_count": null,
   "id": "29865f06",
   "metadata": {},
   "outputs": [],
   "source": [
    "always_zero_features= ['num_outbound_cmds', 'is_host_login']"
   ]
  },
  {
   "cell_type": "code",
   "execution_count": null,
   "id": "ddd6a2e5",
   "metadata": {},
   "outputs": [],
   "source": [
    "#check dataset distribution and null values\n",
    "X.drop(always_zero_features, axis=1, inplace=True)\n",
    "print(X['class'].value_counts())\n",
    "print(X.isnull().sum())\n",
    "\n"
   ]
  },
  {
   "cell_type": "code",
   "execution_count": null,
   "id": "39cb7920",
   "metadata": {},
   "outputs": [],
   "source": [
    "#removing categorical columns for first model training\n",
    "y= X['class']\n",
    "X.drop('class', axis=1, inplace=True)\n",
    "columns_to_drop = [\n",
    "    'count',\n",
    "    'srv_count',\n",
    "    'serror_rate',\n",
    "    'srv_serror_rate',\n",
    "    'rerror_rate',\n",
    "    'srv_rerror_rate',\n",
    "    'same_srv_rate',\n",
    "    'diff_srv_rate',\n",
    "    'srv_diff_host_rate'\n",
    "]\n",
    "\n",
    "X.drop(columns=columns_to_drop, axis=1, inplace=True)"
   ]
  },
  {
   "cell_type": "code",
   "execution_count": null,
   "id": "ada2edb4",
   "metadata": {},
   "outputs": [],
   "source": [
    "\n",
    "categorical_cols=X.select_dtypes(include=['object']).columns\n",
    "print(categorical_cols)"
   ]
  },
  {
   "cell_type": "code",
   "execution_count": null,
   "id": "10947c44",
   "metadata": {},
   "outputs": [],
   "source": [
    "#Hot endcoding categorical features\n",
    "encoder = OneHotEncoder(sparse=False) \n",
    "encoded_categories = encoder.fit_transform(X[['protocol_type', 'service','flag']])\n",
    "\n",
    "\n",
    "encoded_df = pd.DataFrame(encoded_categories, columns=encoder.get_feature_names_out(['protocol_type', 'service','flag']))\n",
    "\n",
    "X_copy = X.copy()\n",
    "\n",
    "# Drop the columns and concatenate\n",
    "X_copy.drop(columns=['protocol_type', 'service', 'flag'], inplace=True)\n",
    "X_full = pd.concat([X_copy, encoded_df], axis=1)\n",
    "\n",
    "\n"
   ]
  },
  {
   "cell_type": "code",
   "execution_count": null,
   "id": "f61374c3",
   "metadata": {},
   "outputs": [],
   "source": [
    "\n",
    "print(X_full.columns)\n",
    "\n",
    "\n",
    "\n"
   ]
  },
  {
   "cell_type": "code",
   "execution_count": null,
   "id": "426a4080",
   "metadata": {},
   "outputs": [],
   "source": [
    "encoder = LabelEncoder()\n",
    "y_encoded = encoder.fit_transform(y)\n",
    "y_encoded= pd.DataFrame(y_encoded, index=y.index, columns=['class'])"
   ]
  },
  {
   "cell_type": "code",
   "execution_count": null,
   "id": "8d31d57f",
   "metadata": {},
   "outputs": [],
   "source": [
    "#Splitting the data into training and validation sets\n",
    "X_train, X_valid, y_train, y_valid = train_test_split(X_full, y_encoded, train_size=0.8, test_size=0.2,\n",
    "                                                      random_state=0)\n",
    "\n",
    "\n",
    "\n"
   ]
  },
  {
   "cell_type": "code",
   "execution_count": null,
   "id": "e8f12c9a",
   "metadata": {},
   "outputs": [],
   "source": [
    "\n",
    "rf = RandomForestClassifier(\n",
    "    n_estimators=100,         \n",
    "    max_depth=10,              \n",
    "    min_samples_split=10,      \n",
    "    min_samples_leaf=5,        \n",
    "    max_features='sqrt',      \n",
    "    random_state=42\n",
    ")\n",
    "rf.fit(X_train, y_train.values.ravel())\n",
    "\n",
    "# Get feature importances\n",
    "importances = rf.feature_importances_\n",
    "feature_names = X_train.columns\n",
    "\n",
    "\n",
    "feature_importance_df = pd.DataFrame({\n",
    "    'feature': feature_names,\n",
    "    'importance': importances\n",
    "})\n",
    "\n",
    "\n",
    "feature_importance_df.sort_values(by='importance', ascending=False, inplace=True)\n",
    "\n",
    "top_n = 30\n",
    "plt.figure(figsize=(10, 6))\n",
    "plt.title(\"Top Feature Importances\")\n",
    "plt.barh(feature_importance_df['feature'][:top_n][::-1], feature_importance_df['importance'][:top_n][::-1])\n",
    "plt.xlabel(\"Importance\")\n",
    "plt.tight_layout()\n",
    "plt.show()\n",
    "\n"
   ]
  },
  {
   "cell_type": "code",
   "execution_count": null,
   "id": "bf5ace48",
   "metadata": {},
   "outputs": [],
   "source": [
    "\n",
    "#Getting Model accuracy\n",
    "y_pred_pretest = rf.predict(X_valid)\n",
    "accuracy = accuracy_score(y_valid, y_pred_pretest)\n",
    "print(classification_report(y_valid, y_pred_pretest))\n",
    "print(f\"Model accuracy: {accuracy:.2f}\")\n",
    "\n"
   ]
  },
  {
   "cell_type": "code",
   "execution_count": null,
   "id": "dd1751d3",
   "metadata": {},
   "outputs": [],
   "source": [
    "#dropping the least important features\n",
    "\n",
    "threshold = 0.01\n",
    "important_features = feature_importance_df[feature_importance_df['importance'] > threshold]['feature']\n",
    "X_reduced = X_full[important_features]\n",
    "\n",
    "\n",
    "#Finding correlation of Src_bytes with the target variable\n",
    "import seaborn as sns\n",
    "sns.boxplot(x=y, y=X['src_bytes'])\n"
   ]
  },
  {
   "cell_type": "code",
   "execution_count": null,
   "id": "d3a8b368",
   "metadata": {},
   "outputs": [],
   "source": [
    "X_reduced.shape"
   ]
  },
  {
   "cell_type": "code",
   "execution_count": null,
   "id": "0aaf9ac7",
   "metadata": {},
   "outputs": [],
   "source": [
    "# Experimenting with Variables (will be optimized later)\n",
    "X_train, X_valid, y_train, y_valid = train_test_split(X_reduced, y_encoded, train_size=0.8, test_size=0.2,\n",
    "                                                      random_state=0)\n",
    "\n",
    "model_1 = RandomForestClassifier(\n",
    "    n_estimators=100,        \n",
    "    max_depth=10,             \n",
    "    min_samples_split=10,     \n",
    "    min_samples_leaf=5,       \n",
    "    max_features='sqrt',   \n",
    "    random_state=42\n",
    ")\n",
    "print(X_train.columns)\n",
    "print(X_train.shape)"
   ]
  },
  {
   "cell_type": "code",
   "execution_count": null,
   "id": "48272c1c",
   "metadata": {},
   "outputs": [],
   "source": [
    "model_1.fit(X_train, y_train.values.ravel())    \n",
    "preds = model_1.predict(X_valid)\n",
    "print(\"Accuracy:\", accuracy_score(y_valid, preds))\n",
    "print(classification_report(y_valid, preds))\n",
    "\n",
    "\n",
    "scores = cross_val_score(model_1, X_reduced, y, cv=10)\n",
    "print(f\"Mean accuracy: {scores.mean()}\")\n",
    "print(f\"Standard deviation: {scores.std()}\")\n",
    "print(scores)\n",
    "from sklearn.metrics import confusion_matrix, classification_report\n",
    "print(confusion_matrix(y_valid, preds))\n"
   ]
  },
  {
   "cell_type": "code",
   "execution_count": null,
   "id": "4a7e8564",
   "metadata": {},
   "outputs": [],
   "source": [
    "X_with_target = pd.concat([X_train, y_train], axis=1)\n",
    "\n",
    "# Calculate and print the correlation with the target \n",
    "correlation_matrix = X_with_target.corr()\n",
    "print(correlation_matrix['class'])"
   ]
  },
  {
   "cell_type": "code",
   "execution_count": null,
   "id": "494be772",
   "metadata": {},
   "outputs": [],
   "source": [
    "\n",
    "\n",
    "def plot_train_val_accuracy(y_train_true, y_train_pred, y_val_true, y_val_pred, model_name=\"Your Model\"):\n",
    "    \n",
    "    train_accuracy = accuracy_score(y_train_true, y_train_pred)\n",
    "    val_accuracy = accuracy_score(y_val_true, y_val_pred)\n",
    "\n",
    "    labels = ['Training Accuracy', 'Validation Accuracy']\n",
    "    accuracies = [train_accuracy, val_accuracy]\n",
    "\n",
    "    plt.figure(figsize=(8, 6))\n",
    "    plt.bar(labels, accuracies, color=['skyblue', 'lightcoral'])\n",
    "    plt.ylabel('Accuracy')\n",
    "    plt.title(f'{model_name} - Training vs. Validation Accuracy')\n",
    "    plt.ylim(0, 1.05) # Accuracy is between 0 and 1, add a little buffer\n",
    "    plt.axhline(y=train_accuracy, color='blue', linestyle='--', linewidth=0.8, label=f'Train: {train_accuracy:.4f}')\n",
    "    plt.axhline(y=val_accuracy, color='red', linestyle='--', linewidth=0.8, label=f'Val: {val_accuracy:.4f}')\n",
    "    plt.legend()\n",
    "    plt.show()\n",
    "\n",
    "    print(f\"Training Accuracy: {train_accuracy:.4f}\")\n",
    "    print(f\"Validation Accuracy: {val_accuracy:.4f}\")"
   ]
  },
  {
   "cell_type": "code",
   "execution_count": 24,
   "id": "c082c8cb",
   "metadata": {},
   "outputs": [
    {
     "data": {
      "image/png": "[encoded data removed]",
      "text/plain": [
       "<Figure size 576x432 with 1 Axes>"
      ]
     },
     "metadata": {
      "needs_background": "light"
     },
     "output_type": "display_data"
    },
    {
     "name": "stdout",
     "output_type": "stream",
     "text": [
      "Training Accuracy: 0.9965\n",
      "Validation Accuracy: 0.9938\n"
     ]
    }
   ],
   "source": [
    "y_train_preds = model_1.predict(X_train)\n",
    "plot_train_val_accuracy(y_train, y_train_preds, y_valid, preds, model_name=\"Random Forest Classifier (Original Dataset)\")"
   ]
  }
 ],
 "metadata": {
  "kernelspec": {
   "display_name": "pytorch",
   "language": "python",
   "name": "python3"
  },
  "language_info": {
   "codemirror_mode": {
    "name": "ipython",
    "version": 3
   },
   "file_extension": ".py",
   "mimetype": "text/x-python",
   "name": "python",
   "nbconvert_exporter": "python",
   "pygments_lexer": "ipython3",
   "version": "3.10.4"
  }
 },
 "nbformat": 4,
 "nbformat_minor": 5
}
