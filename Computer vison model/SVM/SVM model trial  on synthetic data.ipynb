{
 "cells": [
  {
   "cell_type": "code",
   "execution_count": 22,
   "id": "d0912a4b",
   "metadata": {},
   "outputs": [
    {
     "data": {
      "text/html": [
       "<div>\n",
       "<style scoped>\n",
       "    .dataframe tbody tr th:only-of-type {\n",
       "        vertical-align: middle;\n",
       "    }\n",
       "\n",
       "    .dataframe tbody tr th {\n",
       "        vertical-align: top;\n",
       "    }\n",
       "\n",
       "    .dataframe thead th {\n",
       "        text-align: right;\n",
       "    }\n",
       "</style>\n",
       "<table border=\"1\" class=\"dataframe\">\n",
       "  <thead>\n",
       "    <tr style=\"text-align: right;\">\n",
       "      <th></th>\n",
       "      <th>slope</th>\n",
       "      <th>length</th>\n",
       "      <th>mid_x</th>\n",
       "      <th>mid_y</th>\n",
       "      <th>label</th>\n",
       "    </tr>\n",
       "  </thead>\n",
       "  <tbody>\n",
       "    <tr>\n",
       "      <th>0</th>\n",
       "      <td>-7.706164</td>\n",
       "      <td>54.947870</td>\n",
       "      <td>23.161904</td>\n",
       "      <td>-5.842437</td>\n",
       "      <td>2</td>\n",
       "    </tr>\n",
       "    <tr>\n",
       "      <th>1</th>\n",
       "      <td>-0.039858</td>\n",
       "      <td>13.700817</td>\n",
       "      <td>-20.682028</td>\n",
       "      <td>45.790013</td>\n",
       "      <td>0</td>\n",
       "    </tr>\n",
       "    <tr>\n",
       "      <th>2</th>\n",
       "      <td>-0.535722</td>\n",
       "      <td>82.397350</td>\n",
       "      <td>-26.919301</td>\n",
       "      <td>30.696419</td>\n",
       "      <td>0</td>\n",
       "    </tr>\n",
       "    <tr>\n",
       "      <th>3</th>\n",
       "      <td>3.201565</td>\n",
       "      <td>63.719220</td>\n",
       "      <td>-26.521091</td>\n",
       "      <td>-19.172285</td>\n",
       "      <td>1</td>\n",
       "    </tr>\n",
       "    <tr>\n",
       "      <th>4</th>\n",
       "      <td>-1.809498</td>\n",
       "      <td>33.675274</td>\n",
       "      <td>-17.314719</td>\n",
       "      <td>13.617172</td>\n",
       "      <td>2</td>\n",
       "    </tr>\n",
       "  </tbody>\n",
       "</table>\n",
       "</div>"
      ],
      "text/plain": [
       "      slope     length      mid_x      mid_y  label\n",
       "0 -7.706164  54.947870  23.161904  -5.842437      2\n",
       "1 -0.039858  13.700817 -20.682028  45.790013      0\n",
       "2 -0.535722  82.397350 -26.919301  30.696419      0\n",
       "3  3.201565  63.719220 -26.521091 -19.172285      1\n",
       "4 -1.809498  33.675274 -17.314719  13.617172      2"
      ]
     },
     "execution_count": 22,
     "metadata": {},
     "output_type": "execute_result"
    }
   ],
   "source": [
    "# Import necessary packages\n",
    "import pandas as pd\n",
    "import numpy as np\n",
    "from sklearn.model_selection import train_test_split\n",
    "from sklearn.preprocessing import StandardScaler\n",
    "from sklearn.svm import SVC\n",
    "from sklearn.metrics import classification_report, accuracy_score, confusion_matrix\n",
    "from sklearn.model_selection import GridSearchCV\n",
    "\n",
    "\n",
    "\n",
    "# Load dataset from CSV file\n",
    "data = pd.read_csv('labeled_line_data.csv')  # Replace 'your_file.csv' with your actual filename\n",
    "\n",
    "data.head()  \n"
   ]
  },
  {
   "cell_type": "code",
   "execution_count": 23,
   "id": "3220777d",
   "metadata": {},
   "outputs": [
    {
     "data": {
      "text/plain": [
       "0    2\n",
       "1    0\n",
       "2    0\n",
       "3    1\n",
       "4    2\n",
       "Name: label, dtype: int64"
      ]
     },
     "execution_count": 23,
     "metadata": {},
     "output_type": "execute_result"
    }
   ],
   "source": [
    "X=data.drop(columns=['label'])\n",
    "y=data['label']\n",
    "y.head()"
   ]
  },
  {
   "cell_type": "code",
   "execution_count": 24,
   "id": "6c56c1f5",
   "metadata": {},
   "outputs": [
    {
     "data": {
      "text/html": [
       "<div>\n",
       "<style scoped>\n",
       "    .dataframe tbody tr th:only-of-type {\n",
       "        vertical-align: middle;\n",
       "    }\n",
       "\n",
       "    .dataframe tbody tr th {\n",
       "        vertical-align: top;\n",
       "    }\n",
       "\n",
       "    .dataframe thead th {\n",
       "        text-align: right;\n",
       "    }\n",
       "</style>\n",
       "<table border=\"1\" class=\"dataframe\">\n",
       "  <thead>\n",
       "    <tr style=\"text-align: right;\">\n",
       "      <th></th>\n",
       "      <th>slope</th>\n",
       "      <th>length</th>\n",
       "      <th>mid_x</th>\n",
       "      <th>mid_y</th>\n",
       "    </tr>\n",
       "  </thead>\n",
       "  <tbody>\n",
       "    <tr>\n",
       "      <th>0</th>\n",
       "      <td>-1.535315</td>\n",
       "      <td>-0.016257</td>\n",
       "      <td>0.792545</td>\n",
       "      <td>-0.191302</td>\n",
       "    </tr>\n",
       "    <tr>\n",
       "      <th>1</th>\n",
       "      <td>-0.005838</td>\n",
       "      <td>-1.604957</td>\n",
       "      <td>-0.725075</td>\n",
       "      <td>1.604195</td>\n",
       "    </tr>\n",
       "    <tr>\n",
       "      <th>2</th>\n",
       "      <td>-0.104766</td>\n",
       "      <td>1.041006</td>\n",
       "      <td>-0.940973</td>\n",
       "      <td>1.079322</td>\n",
       "    </tr>\n",
       "    <tr>\n",
       "      <th>3</th>\n",
       "      <td>0.640847</td>\n",
       "      <td>0.321586</td>\n",
       "      <td>-0.927190</td>\n",
       "      <td>-0.654842</td>\n",
       "    </tr>\n",
       "    <tr>\n",
       "      <th>4</th>\n",
       "      <td>-0.358893</td>\n",
       "      <td>-0.835607</td>\n",
       "      <td>-0.608519</td>\n",
       "      <td>0.485398</td>\n",
       "    </tr>\n",
       "  </tbody>\n",
       "</table>\n",
       "</div>"
      ],
      "text/plain": [
       "      slope    length     mid_x     mid_y\n",
       "0 -1.535315 -0.016257  0.792545 -0.191302\n",
       "1 -0.005838 -1.604957 -0.725075  1.604195\n",
       "2 -0.104766  1.041006 -0.940973  1.079322\n",
       "3  0.640847  0.321586 -0.927190 -0.654842\n",
       "4 -0.358893 -0.835607 -0.608519  0.485398"
      ]
     },
     "execution_count": 24,
     "metadata": {},
     "output_type": "execute_result"
    }
   ],
   "source": [
    "scalar=StandardScaler()\n",
    "x_scaled=scalar.fit_transform(X)\n",
    "X_scaled=pd.DataFrame(x_scaled,columns=X.columns)\n",
    "X_scaled.head()  "
   ]
  },
  {
   "cell_type": "code",
   "execution_count": 25,
   "id": "1958f100",
   "metadata": {},
   "outputs": [
    {
     "name": "stdout",
     "output_type": "stream",
     "text": [
      "2    3000\n",
      "0    3000\n",
      "1    3000\n",
      "Name: label, dtype: int64\n"
     ]
    }
   ],
   "source": [
    "X_train,X_valid,y_train,y_valid=train_test_split(X_scaled,y,test_size=0.2,random_state=42)\n",
    "y_train.head()\n",
    "print(y.value_counts())"
   ]
  },
  {
   "cell_type": "code",
   "execution_count": 28,
   "id": "8a982776",
   "metadata": {},
   "outputs": [
    {
     "name": "stdout",
     "output_type": "stream",
     "text": [
      "Fitting 5 folds for each of 16 candidates, totalling 80 fits\n"
     ]
    }
   ],
   "source": [
    "\n",
    "\n",
    "param_grid = {\n",
    "    'C': [0.1, 1, 10, 100],         \n",
    "    'gamma': ['scale', 0.01, 0.001, 0.0001],  \n",
    "    'kernel': ['rbf']\n",
    "}\n",
    "\n",
    "\n",
    "grid_search = GridSearchCV(\n",
    "    estimator=SVC(),\n",
    "    param_grid=param_grid,\n",
    "    cv=5,               \n",
    "    scoring='accuracy', \n",
    "    verbose=2,\n",
    "    n_jobs=-1            \n",
    ")\n",
    "\n",
    "\n",
    "grid_search.fit(X_train, y_train)\n",
    "y_pred = grid_search.predict(X_valid)\n"
   ]
  },
  {
   "cell_type": "code",
   "execution_count": 29,
   "id": "9c83653c",
   "metadata": {},
   "outputs": [
    {
     "name": "stdout",
     "output_type": "stream",
     "text": [
      "Accuracy: 0.9922222222222222\n",
      "Confusion Matrix:\n",
      " [[611   0   0]\n",
      " [  9 608   0]\n",
      " [  5   0 567]]\n",
      "Classification Report:\n",
      "               precision    recall  f1-score   support\n",
      "\n",
      "           0       0.98      1.00      0.99       611\n",
      "           1       1.00      0.99      0.99       617\n",
      "           2       1.00      0.99      1.00       572\n",
      "\n",
      "    accuracy                           0.99      1800\n",
      "   macro avg       0.99      0.99      0.99      1800\n",
      "weighted avg       0.99      0.99      0.99      1800\n",
      "\n"
     ]
    }
   ],
   "source": [
    "print(\"Accuracy:\", accuracy_score(y_valid, y_pred))\n",
    "print(\"Confusion Matrix:\\n\", confusion_matrix(y_valid, y_pred))\n",
    "print(\"Classification Report:\\n\", classification_report(y_valid, y_pred))"
   ]
  },
  {
   "cell_type": "code",
   "execution_count": null,
   "id": "c2b0c42c",
   "metadata": {},
   "outputs": [],
   "source": []
  }
 ],
 "metadata": {
  "kernelspec": {
   "display_name": "pytorch",
   "language": "python",
   "name": "python3"
  },
  "language_info": {
   "codemirror_mode": {
    "name": "ipython",
    "version": 3
   },
   "file_extension": ".py",
   "mimetype": "text/x-python",
   "name": "python",
   "nbconvert_exporter": "python",
   "pygments_lexer": "ipython3",
   "version": "3.10.4"
  }
 },
 "nbformat": 4,
 "nbformat_minor": 5
}
